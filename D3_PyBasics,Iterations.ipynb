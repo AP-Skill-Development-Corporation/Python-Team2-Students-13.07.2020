{
 "cells": [
  {
   "cell_type": "markdown",
   "metadata": {},
   "source": [
    "# Day Objectives\n",
    "\n",
    "#### OPERATORS<br>\n",
    "\n",
    "    F. Identity Operators ( is , is not )\n",
    "    G. Membership Operators ( in , not in ) \n",
    "        \n",
    "        \n",
    "#### variable Features\n",
    "\n",
    "\n",
    "#### variable assignments\n",
    "\n",
    "  - single variable assignment\n",
    "  - multiple variable assignment\n",
    "  \n",
    "  \n",
    "#### Dynamic input reading\n",
    "\n",
    "#### Conditional Statements\n",
    "\n",
    "    - if\n",
    "    - if else\n",
    "    - if elif else\n",
    "    - Nested if\n",
    "\n",
    "#### Iterations\n",
    "\n",
    "    - for\n",
    "    - while\n",
    "        * pass\n",
    "        * break\n",
    "        * continue\n",
    "        "
   ]
  },
  {
   "cell_type": "markdown",
   "metadata": {},
   "source": [
    "# Order List\n",
    "\n",
    "1. jkhvcj\n",
    "2. jfgvj\n",
    "4. jfhjd"
   ]
  },
  {
   "cell_type": "markdown",
   "metadata": {},
   "source": [
    "* ![](image_name.ex)\n",
    "\n"
   ]
  },
  {
   "cell_type": "markdown",
   "metadata": {},
   "source": [
    "![](download.jpg)"
   ]
  },
  {
   "cell_type": "markdown",
   "metadata": {},
   "source": [
    "[github](https://github.com/AP-Skill-Development-Corporation/Python-Team2-Students-13.07.2020)"
   ]
  },
  {
   "cell_type": "markdown",
   "metadata": {},
   "source": [
    "# Unorder list\n",
    "\n",
    "* cjbvhj\n",
    "* jfhjkfh\n",
    "    * fjgfj\n",
    "    * kjfhgkj\n",
    "        * kjfghkj\n",
    "        * fgkjfhg"
   ]
  },
  {
   "cell_type": "markdown",
   "metadata": {},
   "source": [
    "t = (1,2,34)   # \n",
    "d = {12:'sfd',23:'fg',54:'6767'}\n"
   ]
  },
  {
   "cell_type": "code",
   "execution_count": 9,
   "metadata": {},
   "outputs": [],
   "source": [
    "val = 100\n",
    "speed_of_light = 3*(10**8)"
   ]
  },
  {
   "cell_type": "code",
   "execution_count": 10,
   "metadata": {},
   "outputs": [
    {
     "data": {
      "text/plain": [
       "30000000000"
      ]
     },
     "execution_count": 10,
     "metadata": {},
     "output_type": "execute_result"
    }
   ],
   "source": [
    "result = val* speed_of_light\n",
    "result"
   ]
  },
  {
   "cell_type": "code",
   "execution_count": 11,
   "metadata": {},
   "outputs": [
    {
     "data": {
      "text/plain": [
       "False"
      ]
     },
     "execution_count": 11,
     "metadata": {},
     "output_type": "execute_result"
    }
   ],
   "source": [
    "# Identity Operators ( is , is not )\n",
    "\n",
    "True is False"
   ]
  },
  {
   "cell_type": "code",
   "execution_count": 12,
   "metadata": {},
   "outputs": [
    {
     "data": {
      "text/plain": [
       "False"
      ]
     },
     "execution_count": 12,
     "metadata": {},
     "output_type": "execute_result"
    }
   ],
   "source": [
    "123 is 321"
   ]
  },
  {
   "cell_type": "code",
   "execution_count": 62,
   "metadata": {},
   "outputs": [
    {
     "data": {
      "text/plain": [
       "324"
      ]
     },
     "execution_count": 62,
     "metadata": {},
     "output_type": "execute_result"
    }
   ],
   "source": [
    "val1"
   ]
  },
  {
   "cell_type": "code",
   "execution_count": 13,
   "metadata": {},
   "outputs": [
    {
     "data": {
      "text/plain": [
       "True"
      ]
     },
     "execution_count": 13,
     "metadata": {},
     "output_type": "execute_result"
    }
   ],
   "source": [
    "123 is 123   # compares object"
   ]
  },
  {
   "cell_type": "code",
   "execution_count": 14,
   "metadata": {},
   "outputs": [
    {
     "data": {
      "text/plain": [
       "True"
      ]
     },
     "execution_count": 14,
     "metadata": {},
     "output_type": "execute_result"
    }
   ],
   "source": [
    "123 == 123  # compares values"
   ]
  },
  {
   "cell_type": "code",
   "execution_count": 24,
   "metadata": {},
   "outputs": [
    {
     "name": "stdout",
     "output_type": "stream",
     "text": [
      "2625188880776\n",
      "[1, 2, 4] [1, 2, 4] [1, 2, 4]\n"
     ]
    }
   ],
   "source": [
    "v = [1,2,4]\n",
    "b = v\n",
    "m = list(b)\n",
    "\n",
    "print(id(v))\n",
    "print(v,b,m)"
   ]
  },
  {
   "cell_type": "code",
   "execution_count": 20,
   "metadata": {},
   "outputs": [
    {
     "data": {
      "text/plain": [
       "2625189060936"
      ]
     },
     "execution_count": 20,
     "metadata": {},
     "output_type": "execute_result"
    }
   ],
   "source": [
    "id(b)"
   ]
  },
  {
   "cell_type": "code",
   "execution_count": 21,
   "metadata": {},
   "outputs": [
    {
     "data": {
      "text/plain": [
       "2625189087688"
      ]
     },
     "execution_count": 21,
     "metadata": {},
     "output_type": "execute_result"
    }
   ],
   "source": [
    "id(m)"
   ]
  },
  {
   "cell_type": "code",
   "execution_count": 26,
   "metadata": {},
   "outputs": [
    {
     "data": {
      "text/plain": [
       "True"
      ]
     },
     "execution_count": 26,
     "metadata": {},
     "output_type": "execute_result"
    }
   ],
   "source": [
    "v == b\n",
    "v == m"
   ]
  },
  {
   "cell_type": "code",
   "execution_count": 28,
   "metadata": {},
   "outputs": [
    {
     "data": {
      "text/plain": [
       "False"
      ]
     },
     "execution_count": 28,
     "metadata": {},
     "output_type": "execute_result"
    }
   ],
   "source": [
    "v is b\n",
    "v is m"
   ]
  },
  {
   "cell_type": "code",
   "execution_count": 29,
   "metadata": {},
   "outputs": [
    {
     "data": {
      "text/plain": [
       "True"
      ]
     },
     "execution_count": 29,
     "metadata": {},
     "output_type": "execute_result"
    }
   ],
   "source": [
    "v is not m"
   ]
  },
  {
   "cell_type": "code",
   "execution_count": 36,
   "metadata": {},
   "outputs": [
    {
     "data": {
      "text/plain": [
       "True"
      ]
     },
     "execution_count": 36,
     "metadata": {},
     "output_type": "execute_result"
    }
   ],
   "source": [
    "# Membership Operators ( in , not in ) \n",
    "'l' in  'lavanya'"
   ]
  },
  {
   "cell_type": "code",
   "execution_count": 33,
   "metadata": {},
   "outputs": [
    {
     "data": {
      "text/plain": [
       "True"
      ]
     },
     "execution_count": 33,
     "metadata": {},
     "output_type": "execute_result"
    }
   ],
   "source": [
    "'is' not in \"he is good\""
   ]
  },
  {
   "cell_type": "markdown",
   "metadata": {},
   "source": [
    "### variable Features¶"
   ]
  },
  {
   "cell_type": "code",
   "execution_count": 47,
   "metadata": {},
   "outputs": [],
   "source": [
    "# do's\n",
    "a = 100\n",
    "a1 = 2000\n",
    "_ = 'fdgf'\n",
    "_13 = \"fkg\"\n",
    "_ = \"hjfbh\"\n",
    "a = 100\n",
    "b = 100\n",
    "num1 = 10\n",
    "val2 = 56\n",
    "s = 4*868\n",
    "speed_light = 4657 "
   ]
  },
  {
   "cell_type": "code",
   "execution_count": null,
   "metadata": {},
   "outputs": [],
   "source": [
    "# don't\n",
    "1 = 100\n",
    "% = \"kgh\"\n",
    "_% = \"fgjhfxj\""
   ]
  },
  {
   "cell_type": "markdown",
   "metadata": {},
   "source": [
    "### variable assignments\n",
    "* single variable assignment\n",
    "* multiple variable assignment"
   ]
  },
  {
   "cell_type": "code",
   "execution_count": 53,
   "metadata": {},
   "outputs": [
    {
     "ename": "TypeError",
     "evalue": "cannot unpack non-iterable int object",
     "output_type": "error",
     "traceback": [
      "\u001b[1;31m---------------------------------------------------------------------------\u001b[0m",
      "\u001b[1;31mTypeError\u001b[0m                                 Traceback (most recent call last)",
      "\u001b[1;32m<ipython-input-53-0ead6a48a1f7>\u001b[0m in \u001b[0;36m<module>\u001b[1;34m\u001b[0m\n\u001b[0;32m      1\u001b[0m \u001b[0mval\u001b[0m \u001b[1;33m=\u001b[0m \u001b[1;36m1000\u001b[0m   \u001b[1;31m# single variable\u001b[0m\u001b[1;33m\u001b[0m\u001b[1;33m\u001b[0m\u001b[0m\n\u001b[1;32m----> 2\u001b[1;33m \u001b[0mnum1\u001b[0m\u001b[1;33m,\u001b[0m\u001b[0mnum2\u001b[0m\u001b[1;33m,\u001b[0m\u001b[0mnum3\u001b[0m \u001b[1;33m=\u001b[0m \u001b[1;36m1\u001b[0m\u001b[1;33m\u001b[0m\u001b[1;33m\u001b[0m\u001b[0m\n\u001b[0m\u001b[0;32m      3\u001b[0m \u001b[0mnum2\u001b[0m\u001b[1;33m\u001b[0m\u001b[1;33m\u001b[0m\u001b[0m\n",
      "\u001b[1;31mTypeError\u001b[0m: cannot unpack non-iterable int object"
     ]
    }
   ],
   "source": [
    "val = 1000   # single variable\n",
    "num1,num2,num3 = 1\n",
    "num2"
   ]
  },
  {
   "cell_type": "code",
   "execution_count": 56,
   "metadata": {},
   "outputs": [
    {
     "data": {
      "text/plain": [
       "tuple"
      ]
     },
     "execution_count": 56,
     "metadata": {},
     "output_type": "execute_result"
    }
   ],
   "source": [
    "num1 = 3,4,5,6  # single variable \n",
    "type(num1)"
   ]
  },
  {
   "cell_type": "code",
   "execution_count": 60,
   "metadata": {},
   "outputs": [
    {
     "data": {
      "text/plain": [
       "'456'"
      ]
     },
     "execution_count": 60,
     "metadata": {},
     "output_type": "execute_result"
    }
   ],
   "source": [
    "num1,num2,num3 = 3.4,56.678,\"456\"  # multi variable \n",
    "num3"
   ]
  },
  {
   "cell_type": "markdown",
   "metadata": {},
   "source": [
    "#### Dynamic input reading"
   ]
  },
  {
   "cell_type": "code",
   "execution_count": 66,
   "metadata": {},
   "outputs": [
    {
     "data": {
      "text/plain": [
       "5678"
      ]
     },
     "execution_count": 66,
     "metadata": {},
     "output_type": "execute_result"
    }
   ],
   "source": [
    "val1 = 324   # static \n",
    "val1  = 5678\n",
    "val1"
   ]
  },
  {
   "cell_type": "code",
   "execution_count": 76,
   "metadata": {},
   "outputs": [
    {
     "name": "stdout",
     "output_type": "stream",
     "text": [
      "enter value of number 4356\n",
      "<class 'float'>\n",
      "4356.0\n"
     ]
    }
   ],
   "source": [
    "number = float(input(\"enter value of number \"))   # default it return string\n",
    "print(type(number))\n",
    "print(number)"
   ]
  },
  {
   "cell_type": "markdown",
   "metadata": {},
   "source": [
    "####  Conditional Statements\n",
    "- if\n",
    "- if else\n",
    "- if elif else\n",
    "- Nested if"
   ]
  },
  {
   "cell_type": "markdown",
   "metadata": {},
   "source": [
    "c \n",
    "\n",
    "if condition \n",
    "{\n",
    "\n",
    "\n",
    "\n",
    "}\n",
    "\n",
    "if condition :\n",
    "    statement1\n",
    "    statement2\n",
    "    .\n",
    "    .\n",
    "    .\n",
    "    .\n",
    "    \n"
   ]
  },
  {
   "cell_type": "code",
   "execution_count": 83,
   "metadata": {},
   "outputs": [
    {
     "name": "stdout",
     "output_type": "stream",
     "text": [
      "False\n"
     ]
    }
   ],
   "source": [
    "# Condition nothing but decision making\n",
    "\n",
    "\n",
    "if 123335465767867 is 65756875 :\n",
    "    print(True)\n",
    "    \n",
    "else:\n",
    "    print(False)"
   ]
  },
  {
   "cell_type": "code",
   "execution_count": 84,
   "metadata": {},
   "outputs": [
    {
     "name": "stdout",
     "output_type": "stream",
     "text": [
      "LOL\n"
     ]
    }
   ],
   "source": [
    "if _:\n",
    "    \n",
    "    print('LOL')\n",
    "    \n",
    "else:\n",
    "    \n",
    "    print(\"Oops\")"
   ]
  },
  {
   "cell_type": "code",
   "execution_count": 85,
   "metadata": {},
   "outputs": [
    {
     "data": {
      "text/plain": [
       "str"
      ]
     },
     "execution_count": 85,
     "metadata": {},
     "output_type": "execute_result"
    }
   ],
   "source": [
    "type(_)"
   ]
  },
  {
   "cell_type": "code",
   "execution_count": 87,
   "metadata": {},
   "outputs": [
    {
     "name": "stdout",
     "output_type": "stream",
     "text": [
      "LOL\n"
     ]
    }
   ],
   "source": [
    "if 12345:      # non - zero elements so condition is satify\n",
    "    print('LOL')   \n",
    "else:  \n",
    "    print(\"Oops\")"
   ]
  },
  {
   "cell_type": "code",
   "execution_count": 88,
   "metadata": {},
   "outputs": [
    {
     "name": "stdout",
     "output_type": "stream",
     "text": [
      "Oops\n"
     ]
    }
   ],
   "source": [
    "if 0:      #  zero elements so condition is satify\n",
    "    print('LOL')   \n",
    "else:  \n",
    "    print(\"Oops\")"
   ]
  },
  {
   "cell_type": "code",
   "execution_count": 91,
   "metadata": {},
   "outputs": [
    {
     "name": "stdout",
     "output_type": "stream",
     "text": [
      "Oops\n"
     ]
    }
   ],
   "source": [
    "if not 1 :      #  zero elements so condition is satify\n",
    "    print('LOL')   \n",
    "else:  \n",
    "    print(\"Oops\")"
   ]
  },
  {
   "cell_type": "code",
   "execution_count": 94,
   "metadata": {},
   "outputs": [
    {
     "name": "stdout",
     "output_type": "stream",
     "text": [
      "LOL\n"
     ]
    }
   ],
   "source": [
    "if ~ 0 :      #  zero elements so condition is satify\n",
    "    print('LOL')   \n",
    "else:  \n",
    "    print(\"Oops\")"
   ]
  },
  {
   "cell_type": "code",
   "execution_count": 95,
   "metadata": {},
   "outputs": [
    {
     "name": "stdout",
     "output_type": "stream",
     "text": [
      "Oops\n"
     ]
    }
   ],
   "source": [
    "if None :      #  non- weighted elements so condition is satify\n",
    "    print('LOL')   \n",
    "else:  \n",
    "    print(\"Oops\")"
   ]
  },
  {
   "cell_type": "code",
   "execution_count": 96,
   "metadata": {},
   "outputs": [
    {
     "name": "stdout",
     "output_type": "stream",
     "text": [
      "Oops\n"
     ]
    }
   ],
   "source": [
    "if not True :      #  zero elements so condition is satify\n",
    "    print('LOL')   \n",
    "else:  \n",
    "    print(\"Oops\")"
   ]
  },
  {
   "cell_type": "code",
   "execution_count": 100,
   "metadata": {},
   "outputs": [
    {
     "name": "stdout",
     "output_type": "stream",
     "text": [
      "1\n",
      "Oops\n"
     ]
    }
   ],
   "source": [
    "a = int(input())\n",
    "if a == 10 :      #  zero elements so condition is satify\n",
    "    print('LOL')   \n",
    "elif a < 10: \n",
    "    print(\"Oops\")\n",
    "    \n",
    "else:\n",
    "    print(\"Bad...!\")"
   ]
  },
  {
   "cell_type": "markdown",
   "metadata": {},
   "source": [
    "# Task\n",
    "\n",
    "Levels of age group\n",
    "0-12  -- childhood\n",
    "13-19 -- teenage\n",
    "20-45 -- young\n",
    "45-99 -- old\n",
    "100  -- congrats\n",
    ">100 -- go to hell\n",
    "\n",
    "3mints  "
   ]
  },
  {
   "cell_type": "code",
   "execution_count": 102,
   "metadata": {},
   "outputs": [
    {
     "name": "stdout",
     "output_type": "stream",
     "text": [
      "enter age:101\n",
      "congrats\n"
     ]
    }
   ],
   "source": [
    "age=int(input('enter age:'))\n",
    "if 0<=age<=12:\n",
    "    print('childhood')\n",
    "elif 13<=age<=19:\n",
    "    print('teenage')\n",
    "elif 20<=age<=45:\n",
    "    print('younge')\n",
    "elif 45<=age<=99:\n",
    "    print('old')\n",
    "else:\n",
    "    print('congrats')\n"
   ]
  },
  {
   "cell_type": "code",
   "execution_count": 105,
   "metadata": {},
   "outputs": [
    {
     "name": "stdout",
     "output_type": "stream",
     "text": [
      "enter age:45\n",
      "young\n"
     ]
    }
   ],
   "source": [
    "age = int(input(\"enter age:\"))\n",
    "if 0 <= age <= 12 :\n",
    "    print(\"childhood\")\n",
    "elif 13 <= age <= 19 :\n",
    "    print(\"teenage\")\n",
    "elif 20 <= age <= 45 :\n",
    "    print(\"young\")\n",
    "elif 46 <= age <= 99 :\n",
    "    print(\"old\")\n",
    "else :\n",
    "    print(\"congrats\")"
   ]
  },
  {
   "cell_type": "code",
   "execution_count": 109,
   "metadata": {},
   "outputs": [
    {
     "name": "stdout",
     "output_type": "stream",
     "text": [
      "enter the age-34\n",
      "childhood\n"
     ]
    }
   ],
   "source": [
    "age=int(input(\"enter the age\"))\n",
    "if age<=12:\n",
    "    print(\"childhood\")\n",
    "elif  age>=13 or  age<=19:\n",
    "    print(\"teenage\")\n",
    "elif age>=20 or age<=45:\n",
    "    print(\"young\")\n",
    "elif age>=46 or age<=90:\n",
    "    print(\"old\")\n",
    "else:\n",
    "    print(\"congrats\")\n",
    "\n",
    "    \n",
    "   "
   ]
  },
  {
   "cell_type": "code",
   "execution_count": 11,
   "metadata": {},
   "outputs": [
    {
     "name": "stdout",
     "output_type": "stream",
     "text": [
      "35 67 89 100\n",
      "Fail\n"
     ]
    }
   ],
   "source": [
    "###### nested if\n",
    "# example ceep  maths > 45 , p = >35 , eng = > 40 , che = > 30  ==    pass\n",
    "\n",
    "math,eng,che,p = list(map(int,input().split()))\n",
    "# math = int(input(\"enter math marks\"))\n",
    "# eng = int(input(\"enter english marks\"))\n",
    "# che = int(input(\"enter chemistry marks\"))\n",
    "# p = int(input(\"enter p marks\"))\n",
    "\n",
    "if math  >= 45 :\n",
    "    print(math)\n",
    "    if eng >= 40:\n",
    "        if che >= 30:\n",
    "            if p >= 35:\n",
    "                print(\"Congrats.. Pass\")\n",
    "                \n",
    "else:\n",
    "    print(\"Fail\")"
   ]
  },
  {
   "cell_type": "code",
   "execution_count": 10,
   "metadata": {},
   "outputs": [
    {
     "name": "stdout",
     "output_type": "stream",
     "text": [
      "1 2\n"
     ]
    },
    {
     "data": {
      "text/plain": [
       "[1, 2]"
      ]
     },
     "execution_count": 10,
     "metadata": {},
     "output_type": "execute_result"
    }
   ],
   "source": [
    "list(map(int,input().split()))"
   ]
  },
  {
   "cell_type": "raw",
   "metadata": {},
   "source": [
    "if True:\n",
    "    statement1\n",
    "    st2\n",
    "    st3\n",
    "    .\n",
    "    .\n",
    "    .\n",
    "    \n",
    "else:\n",
    "    st5\n",
    "    st5\n",
    "    \n",
    "    \n",
    "    \n",
    "if condition:\n",
    "    st2 \n",
    "    st4\n",
    "    st5\n",
    "    .\n",
    "    .\n",
    "elif condition:\n",
    "    st5\n",
    "    st7\n",
    "    st8\n",
    "    .\n",
    "    .\n",
    "    .\n",
    "elif condition:\n",
    "    st9\n",
    "    st9\n",
    "    \n",
    "    \n",
    "    \n",
    "    \n",
    "    \n",
    "    \n",
    "else:\n",
    "    st5\n",
    "    st8\n",
    "    \n",
    "    \n",
    "if condition:\n",
    "    if condition:\n",
    "        if condition:\n",
    "            st6\n",
    "            st7\n",
    "            st10\n",
    "    "
   ]
  },
  {
   "cell_type": "markdown",
   "metadata": {},
   "source": [
    "##### Iterations\n",
    "- for\n",
    "- while\n",
    "    * pass\n",
    "    * break\n",
    "    * continue"
   ]
  },
  {
   "cell_type": "code",
   "execution_count": 13,
   "metadata": {},
   "outputs": [
    {
     "name": "stdout",
     "output_type": "stream",
     "text": [
      "1\n",
      "2\n",
      "3\n",
      "4\n",
      "10\n"
     ]
    }
   ],
   "source": [
    "print(1)\n",
    "print(2)\n",
    "print(3)\n",
    "print(4)\n",
    ".\n",
    ".\n",
    ".\n",
    ".\n",
    ".\n",
    ".\n",
    "print(10)"
   ]
  },
  {
   "cell_type": "markdown",
   "metadata": {},
   "source": [
    "syntax : Loops : for and while\n",
    "for Loop  : for var in range(condition)"
   ]
  },
  {
   "cell_type": "code",
   "execution_count": 32,
   "metadata": {},
   "outputs": [
    {
     "name": "stdout",
     "output_type": "stream",
     "text": [
      "1 5 9 13 17 21 25 29 33 37 41 45 49 53 57 61 65 69 73 77 81 85 89 93 97 "
     ]
    }
   ],
   "source": [
    "for var in range(1,100,4):   # \n",
    "    print(var, end = ' ')"
   ]
  },
  {
   "cell_type": "code",
   "execution_count": null,
   "metadata": {},
   "outputs": [],
   "source": [
    "range(start_val,end_val,step_val)   # start_val is always inclusive and end_val always excusive\n",
    "# default step_val is one\n",
    "for init;condition;inc/dec{\n",
    "    \n",
    "}"
   ]
  },
  {
   "cell_type": "code",
   "execution_count": 34,
   "metadata": {},
   "outputs": [
    {
     "name": "stdout",
     "output_type": "stream",
     "text": [
      "10\n",
      "8\n",
      "6\n",
      "4\n",
      "2\n"
     ]
    }
   ],
   "source": [
    "for val in range(10,1,-2):\n",
    "    print(val)"
   ]
  },
  {
   "cell_type": "code",
   "execution_count": 37,
   "metadata": {},
   "outputs": [
    {
     "name": "stdout",
     "output_type": "stream",
     "text": [
      "A  P  S  S  D  C  "
     ]
    }
   ],
   "source": [
    "string = \"APSSDC\"\n",
    "for char in string:\n",
    "    print(char, end = '  ')"
   ]
  },
  {
   "cell_type": "code",
   "execution_count": 38,
   "metadata": {},
   "outputs": [
    {
     "name": "stdout",
     "output_type": "stream",
     "text": [
      "2  3  4  5  6  768  "
     ]
    }
   ],
   "source": [
    "string = [2,3,4,5,6,768]\n",
    "for char in string:\n",
    "    print(char, end = '  ')"
   ]
  },
  {
   "cell_type": "markdown",
   "metadata": {},
   "source": [
    "# While\n",
    "syntax \n",
    "\n",
    "init\n",
    "while condition:\n",
    "    sta1\n",
    "    st3 \n",
    "    st5\n",
    "    st6\n",
    "    inc/dec"
   ]
  },
  {
   "cell_type": "code",
   "execution_count": 39,
   "metadata": {},
   "outputs": [
    {
     "name": "stdout",
     "output_type": "stream",
     "text": [
      "0\n",
      "1\n",
      "2\n",
      "3\n",
      "4\n",
      "5\n",
      "6\n",
      "7\n",
      "8\n",
      "9\n",
      "10\n"
     ]
    }
   ],
   "source": [
    "val = 0\n",
    "while val <= 10:\n",
    "    print(val)\n",
    "    val += 1"
   ]
  },
  {
   "cell_type": "code",
   "execution_count": 40,
   "metadata": {},
   "outputs": [
    {
     "name": "stdout",
     "output_type": "stream",
     "text": [
      "10\n",
      "8\n",
      "6\n",
      "4\n",
      "2\n",
      "0\n"
     ]
    }
   ],
   "source": [
    "# Print even number in between 1 to 10 in reverse  order using while\n",
    "val=10\n",
    "while(val>=0):\n",
    "    if(val%2==0):\n",
    "        print(val)\n",
    "    val -= 1\n"
   ]
  },
  {
   "cell_type": "code",
   "execution_count": null,
   "metadata": {},
   "outputs": [],
   "source": [
    "   "
   ]
  },
  {
   "cell_type": "code",
   "execution_count": null,
   "metadata": {},
   "outputs": [],
   "source": []
  },
  {
   "cell_type": "markdown",
   "metadata": {},
   "source": [
    "# Task:\n",
    "\n",
    "* Design Basic Calculator\n",
    "\n",
    "USe only 1 operator 2 operands\n"
   ]
  }
 ],
 "metadata": {
  "kernelspec": {
   "display_name": "Python 3",
   "language": "python",
   "name": "python3"
  }
 },
 "nbformat": 4,
 "nbformat_minor": 2
}
