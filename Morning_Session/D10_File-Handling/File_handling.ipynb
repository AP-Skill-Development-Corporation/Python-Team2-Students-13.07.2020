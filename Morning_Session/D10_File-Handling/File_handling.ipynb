{
 "cells": [
  {
   "cell_type": "markdown",
   "metadata": {},
   "source": [
    "# Day Objectives:\n",
    "\n",
    "## File Handling :\n",
    "\n",
    "   **File is collection of records**\n",
    "![](img.jpg)\n",
    "\n",
    "\n",
    "- Python File Handling: Create, Open, Append, Read, Write\n",
    "    * Creating a File\n",
    "    * Write the data \n",
    "    * Read data from file\n",
    "    * Append data to file\n",
    "    \n",
    "## Modes of operation:\n",
    "\n",
    "     * 'r'  -- Read mode which is used when the file is only being read <br>\n",
    "     * 'w'  -- Write mode which is used to edit and write new information to the file (any existing files with the same name                 will be erased when this mode is activated) <br>\n",
    "     * 'a'  -- Appending mode, which is used to add new data to the end of the file; that is new information is                                automatically amended to the end <br>\n",
    "     * 'r+' -- Special read and write mode, which is used to handle both actions when working with a file\n",
    "     \n",
    "## In-Build function:\n",
    "\n",
    "     * OPEN  : open(path,mode)\n",
    "     * CLOSE:  file_name.close()\n",
    "\n"
   ]
  },
  {
   "cell_type": "code",
   "execution_count": 3,
   "metadata": {},
   "outputs": [],
   "source": [
    "# Creating a File\n",
    "book = open(\"book.txt\",'w')\n",
    "book.close()"
   ]
  },
  {
   "cell_type": "code",
   "execution_count": 5,
   "metadata": {},
   "outputs": [],
   "source": [
    "# Write the data\n",
    "book = open(\"book.txt\",'w')\n",
    "book.write(\"hi everyone, happy to see you again...!\")\n",
    "book.close()"
   ]
  },
  {
   "cell_type": "code",
   "execution_count": 7,
   "metadata": {},
   "outputs": [
    {
     "data": {
      "text/plain": [
       "'hi everyone, happy to see you again...!\\nhi\\nhello\\nstudents\\nwelcome back'"
      ]
     },
     "execution_count": 7,
     "metadata": {},
     "output_type": "execute_result"
    }
   ],
   "source": [
    "# Read entire data from file\n",
    "book = open(\"book.txt\",'r')\n",
    "book.read()"
   ]
  },
  {
   "cell_type": "code",
   "execution_count": 8,
   "metadata": {},
   "outputs": [
    {
     "data": {
      "text/plain": [
       "['hi everyone, happy to see you again...!\\n',\n",
       " 'hi\\n',\n",
       " 'hello\\n',\n",
       " 'students\\n',\n",
       " 'welcome back']"
      ]
     },
     "execution_count": 8,
     "metadata": {},
     "output_type": "execute_result"
    }
   ],
   "source": [
    "book = open(\"book.txt\",'r')\n",
    "book.readlines()"
   ]
  },
  {
   "cell_type": "code",
   "execution_count": 9,
   "metadata": {},
   "outputs": [
    {
     "name": "stdout",
     "output_type": "stream",
     "text": [
      "hi everyone, happy to see you again...!\n",
      "\n",
      "hi\n",
      "\n",
      "hello\n",
      "\n",
      "students\n",
      "\n",
      "welcome back\n"
     ]
    }
   ],
   "source": [
    "# Read the data line by line \n",
    "book = open(\"book.txt\",'r')\n",
    "for line in book.readlines():\n",
    "    print(line)\n"
   ]
  },
  {
   "cell_type": "code",
   "execution_count": 10,
   "metadata": {
    "collapsed": true
   },
   "outputs": [
    {
     "name": "stdout",
     "output_type": "stream",
     "text": [
      "h\n",
      "i\n",
      " \n",
      "e\n",
      "v\n",
      "e\n",
      "r\n",
      "y\n",
      "o\n",
      "n\n",
      "e\n",
      ",\n",
      " \n",
      "h\n",
      "a\n",
      "p\n",
      "p\n",
      "y\n",
      " \n",
      "t\n",
      "o\n",
      " \n",
      "s\n",
      "e\n",
      "e\n",
      " \n",
      "y\n",
      "o\n",
      "u\n",
      " \n",
      "a\n",
      "g\n",
      "a\n",
      "i\n",
      "n\n",
      ".\n",
      ".\n",
      ".\n",
      "!\n",
      "\n",
      "\n"
     ]
    }
   ],
   "source": [
    "# read the data character by character\n",
    "book = open(\"book.txt\",'r')\n",
    "for line in book.readline():\n",
    "    print(line)"
   ]
  },
  {
   "cell_type": "code",
   "execution_count": 11,
   "metadata": {},
   "outputs": [],
   "source": [
    "# Append data to file  -- \n",
    "book = open(\"book.txt\",'a')\n",
    "book.write(\"\\n hi Abdul\")\n",
    "book.close()"
   ]
  },
  {
   "cell_type": "code",
   "execution_count": 13,
   "metadata": {},
   "outputs": [],
   "source": [
    "file = open(\"fa.txt\",'w')\n",
    "file.write(\"fdhgfhdfgydguy\")\n",
    "file.close()"
   ]
  },
  {
   "cell_type": "code",
   "execution_count": 14,
   "metadata": {},
   "outputs": [],
   "source": [
    "file = open(\"fa.txt\",'w')  # Over write entire data by new data\n",
    "file.write(\"hi\")\n",
    "file.close()"
   ]
  },
  {
   "cell_type": "code",
   "execution_count": 15,
   "metadata": {},
   "outputs": [],
   "source": [
    "file = open(\"fa.txt\",'a')\n",
    "file.write(\"hello\")\n",
    "file.close()"
   ]
  },
  {
   "cell_type": "code",
   "execution_count": 19,
   "metadata": {},
   "outputs": [
    {
     "ename": "UnsupportedOperation",
     "evalue": "not readable",
     "output_type": "error",
     "traceback": [
      "\u001b[1;31m---------------------------------------------------------------------------\u001b[0m",
      "\u001b[1;31mUnsupportedOperation\u001b[0m                      Traceback (most recent call last)",
      "\u001b[1;32m<ipython-input-19-61d9ee846f23>\u001b[0m in \u001b[0;36m<module>\u001b[1;34m\u001b[0m\n\u001b[0;32m      1\u001b[0m \u001b[1;31m# r+ mode\u001b[0m\u001b[1;33m\u001b[0m\u001b[1;33m\u001b[0m\u001b[1;33m\u001b[0m\u001b[0m\n\u001b[0;32m      2\u001b[0m \u001b[0mbook\u001b[0m \u001b[1;33m=\u001b[0m \u001b[0mopen\u001b[0m\u001b[1;33m(\u001b[0m\u001b[1;34m\"fa.txt\"\u001b[0m\u001b[1;33m,\u001b[0m\u001b[1;34m'w'\u001b[0m\u001b[1;33m)\u001b[0m\u001b[1;33m\u001b[0m\u001b[1;33m\u001b[0m\u001b[0m\n\u001b[1;32m----> 3\u001b[1;33m \u001b[0mbook\u001b[0m\u001b[1;33m.\u001b[0m\u001b[0mread\u001b[0m\u001b[1;33m(\u001b[0m\u001b[1;33m)\u001b[0m\u001b[1;33m\u001b[0m\u001b[1;33m\u001b[0m\u001b[0m\n\u001b[0m\u001b[0;32m      4\u001b[0m \u001b[0mbook\u001b[0m\u001b[1;33m.\u001b[0m\u001b[0mwrite\u001b[0m\u001b[1;33m(\u001b[0m\u001b[1;34m\"dhgfghjsdgfh\"\u001b[0m\u001b[1;33m)\u001b[0m\u001b[1;33m\u001b[0m\u001b[1;33m\u001b[0m\u001b[0m\n",
      "\u001b[1;31mUnsupportedOperation\u001b[0m: not readable"
     ]
    }
   ],
   "source": [
    "# r+ mode\n",
    "book = open(\"fa.txt\",'w')\n",
    "book.read()\n",
    "book.write(\"dhgfghjsdgfh\")"
   ]
  },
  {
   "cell_type": "code",
   "execution_count": 27,
   "metadata": {},
   "outputs": [
    {
     "name": "stdout",
     "output_type": "stream",
     "text": [
      "hii\n",
      "hi\n",
      "hihh\n",
      "jfg\n",
      "jfgb\n",
      " hello\n"
     ]
    }
   ],
   "source": [
    "book = open(\"book.txt\",'r+')\n",
    "print(book.read())\n",
    "book.write(\"hello\")\n",
    "book.close()"
   ]
  },
  {
   "cell_type": "code",
   "execution_count": null,
   "metadata": {},
   "outputs": [],
   "source": [
    "book = open(\"book.txt\",'r+')\n",
    "print(book.read())\n",
    "book.write(\",\")\n",
    "book.close()"
   ]
  },
  {
   "cell_type": "code",
   "execution_count": 33,
   "metadata": {},
   "outputs": [],
   "source": [
    "# add 60 students\n",
    "class_ = open(\"std_list.txt\",'w')\n",
    "for i in range(1,61):\n",
    "    class_.write(\"student %f\\n\"%(i))\n",
    "class_.close()"
   ]
  },
  {
   "cell_type": "code",
   "execution_count": 34,
   "metadata": {},
   "outputs": [],
   "source": [
    "class_ = open(\"std_list.txt\",'w')\n",
    "for i in range(1,61):\n",
    "    class_.write(\"student {0}\\n\".format(i))\n",
    "class_.close()"
   ]
  },
  {
   "cell_type": "code",
   "execution_count": null,
   "metadata": {},
   "outputs": [],
   "source": []
  },
  {
   "cell_type": "code",
   "execution_count": null,
   "metadata": {},
   "outputs": [],
   "source": []
  },
  {
   "cell_type": "code",
   "execution_count": null,
   "metadata": {},
   "outputs": [],
   "source": []
  },
  {
   "cell_type": "markdown",
   "metadata": {},
   "source": [
    "## Methods in file handling\n",
    "* tell(): returns the current location of pointer\n",
    "* seek(): we can set the pointer at a specific location  "
   ]
  },
  {
   "cell_type": "code",
   "execution_count": 41,
   "metadata": {},
   "outputs": [
    {
     "name": "stdout",
     "output_type": "stream",
     "text": [
      "0\n",
      "student 1\n",
      "\n",
      "11\n",
      "student 2\n",
      "\n",
      "22\n"
     ]
    }
   ],
   "source": [
    "class_ = open(\"std_list.txt\",'r')\n",
    "print(class_.tell())\n",
    "print(class_.readline())\n",
    "print(class_.tell())\n",
    "print(class_.readline())\n",
    "print(class_.tell())"
   ]
  },
  {
   "cell_type": "code",
   "execution_count": 46,
   "metadata": {},
   "outputs": [
    {
     "name": "stdout",
     "output_type": "stream",
     "text": [
      "10\n"
     ]
    }
   ],
   "source": [
    "class_ = open(\"std_list.txt\",'r')\n",
    "print(class_.seek(10))\n"
   ]
  },
  {
   "cell_type": "code",
   "execution_count": 47,
   "metadata": {},
   "outputs": [
    {
     "data": {
      "text/plain": [
       "0"
      ]
     },
     "execution_count": 47,
     "metadata": {},
     "output_type": "execute_result"
    }
   ],
   "source": [
    "class_ = open(\"std_list.txt\",'r')\n",
    "class_.tell()"
   ]
  },
  {
   "cell_type": "code",
   "execution_count": 61,
   "metadata": {},
   "outputs": [
    {
     "data": {
      "text/plain": [
       "11"
      ]
     },
     "execution_count": 61,
     "metadata": {},
     "output_type": "execute_result"
    }
   ],
   "source": [
    "class_.seek(11)"
   ]
  },
  {
   "cell_type": "code",
   "execution_count": 62,
   "metadata": {},
   "outputs": [
    {
     "data": {
      "text/plain": [
       "'tudent 2\\n'"
      ]
     },
     "execution_count": 62,
     "metadata": {},
     "output_type": "execute_result"
    }
   ],
   "source": [
    "class_.readline()"
   ]
  },
  {
   "cell_type": "code",
   "execution_count": 71,
   "metadata": {},
   "outputs": [
    {
     "name": "stdout",
     "output_type": "stream",
     "text": [
      "166\n",
      "\n",
      "\n"
     ]
    }
   ],
   "source": [
    "# Get the data after '@'\n",
    "class_ = open(\"std_list.txt\",'r')\n",
    "print(class_.seek(166))\n",
    "print(class_.readline())"
   ]
  },
  {
   "cell_type": "code",
   "execution_count": 78,
   "metadata": {},
   "outputs": [
    {
     "data": {
      "text/plain": [
       "'student 1\\nstudent 2\\nstudent 3\\nstudent 4\\nstudent 5\\nstudent 6\\nstudent 7\\nstudent 8\\nstudent 9\\nstudent 10\\nstudent 11\\nstudent 12\\nstudent 13\\nstudent 14\\nstudent 15\\nstudent 16\\nstudent 17\\nstudent 18\\nstudent 19\\nstudent 20\\nstudent 21\\nstudent 22\\nstudent 23\\nstudent 24\\nlavanya_p@apssdc.in\\nstudent 25\\nstudent 26\\nstudent 27\\nstudent 28\\nstudent 29\\nstudent 30\\nstudent 31\\nstudent 32\\nstudent 33\\nstudent 34\\nstudent 35\\nstudent 36\\nstudent 37\\nstudent 38\\nstudent 39\\nstudent 40\\nstudent 41\\nstudent 42\\nstudent 43\\nstudent 44\\nstudent 45\\nstudent 46\\nstudent 47\\nstudent 48\\nstudent 49\\nstudent 50\\nstudent 51\\nstudent 52\\nstudent 53\\nstudent 54\\nstudent 55\\nstudent 56\\nstudent 57\\nstudent 58\\nstudent 59\\nstudent 60\\n'"
      ]
     },
     "execution_count": 78,
     "metadata": {},
     "output_type": "execute_result"
    }
   ],
   "source": [
    "class_ = open(\"std_list.txt\",'r')\n",
    "# type(class_.read())\n",
    "s = class_.read()\n",
    "s"
   ]
  },
  {
   "cell_type": "code",
   "execution_count": 79,
   "metadata": {},
   "outputs": [
    {
     "data": {
      "text/plain": [
       "264"
      ]
     },
     "execution_count": 79,
     "metadata": {},
     "output_type": "execute_result"
    }
   ],
   "source": [
    "s.find('@')"
   ]
  },
  {
   "cell_type": "code",
   "execution_count": 81,
   "metadata": {},
   "outputs": [
    {
     "name": "stdout",
     "output_type": "stream",
     "text": [
      "apssdc.in\n",
      "\n"
     ]
    }
   ],
   "source": [
    "class_.seek(s.find('@')+1)\n",
    "print(class_.readline())"
   ]
  },
  {
   "cell_type": "code",
   "execution_count": 83,
   "metadata": {
    "scrolled": true
   },
   "outputs": [
    {
     "name": "stdout",
     "output_type": "stream",
     "text": [
      "265\n",
      "apssdc.in\n",
      "\n"
     ]
    }
   ],
   "source": [
    "class_ = open(\"std_list.txt\",'r')\n",
    "ind = class_.read().find('@')+1\n",
    "print(class_.seek(ind))\n",
    "print(class_.readline())"
   ]
  },
  {
   "cell_type": "code",
   "execution_count": 85,
   "metadata": {},
   "outputs": [
    {
     "name": "stdout",
     "output_type": "stream",
     "text": [
      "apssdc.in\n",
      "\n"
     ]
    }
   ],
   "source": [
    "import re\n",
    "class_=open('std_list.txt','r')\n",
    "for i in class_.readlines():\n",
    "    if re.search('^l',i):\n",
    "        n=i.find('@')+1\n",
    "        print(i[n:])\n"
   ]
  },
  {
   "cell_type": "code",
   "execution_count": null,
   "metadata": {},
   "outputs": [],
   "source": []
  },
  {
   "cell_type": "markdown",
   "metadata": {},
   "source": [
    "### Data handling:\n",
    "    * Line count  - TO find lines in a file\n",
    "    * Word count  - To find the count of char \n",
    "    * Char count  - To find the count spl char"
   ]
  },
  {
   "cell_type": "code",
   "execution_count": 90,
   "metadata": {},
   "outputs": [
    {
     "name": "stdout",
     "output_type": "stream",
     "text": [
      "62 lines in file\n"
     ]
    }
   ],
   "source": [
    "# Line count\n",
    "class_ = open(\"std_list.txt\",'r')\n",
    "count = 0\n",
    "for line in class_.readlines():\n",
    "    count += 1\n",
    "#     print(line)\n",
    "print(\"{0} lines in file\".format(count))"
   ]
  },
  {
   "cell_type": "code",
   "execution_count": 103,
   "metadata": {},
   "outputs": [
    {
     "name": "stdout",
     "output_type": "stream",
     "text": [
      "['hi', 'hi', 'hi', '#']\n",
      "['hi(', 'hi', '^']\n",
      "7\n"
     ]
    }
   ],
   "source": [
    "# count words in file\n",
    "class_ = open('fa.txt','r')\n",
    "c = 0\n",
    "for i in class_.readlines():\n",
    "#     print(i)\n",
    "    n=i.split() # default it takes as space\n",
    "    print(n)\n",
    "    c += len(n)\n",
    "print(c)"
   ]
  },
  {
   "cell_type": "code",
   "execution_count": 110,
   "metadata": {
    "collapsed": true
   },
   "outputs": [
    {
     "name": "stdout",
     "output_type": "stream",
     "text": [
      "['student1']\n",
      "['student', '2']\n",
      "['student', '3']\n",
      "['student', '4']\n",
      "['student', '5']\n",
      "['student', '6']\n",
      "['student', '7']\n",
      "['student', '8']\n",
      "['student', '9']\n",
      "['student', '10']\n",
      "['student', '11']\n",
      "['student', '12']\n",
      "['student', '13']\n",
      "['student', '14']\n",
      "['student', '15']\n",
      "['student', '16']\n",
      "['student', '17']\n",
      "['student', '18']\n",
      "['student', '19']\n",
      "['student', '20']\n",
      "['student', '21']\n",
      "['student', '22']\n",
      "['student', '23']\n",
      "['student', '24']\n",
      "['lavanya_p@apssdc.in']\n",
      "['student', '25']\n",
      "['student', '26']\n",
      "['student', '27']\n",
      "['student', '28']\n",
      "['student', '29']\n",
      "['student', '30']\n",
      "['student', '31']\n",
      "['student', '32']\n",
      "['student', '33']\n",
      "['student', '34']\n",
      "['student', '35']\n",
      "['student', '36']\n",
      "['student', '37']\n",
      "['student', '38']\n",
      "['student', '39']\n",
      "['student', '40']\n",
      "['student', '41']\n",
      "['student', '42']\n",
      "['student', '43']\n",
      "['student', '44']\n",
      "['student', '45']\n",
      "['student', '46']\n",
      "['student', '47']\n",
      "['student', '48']\n",
      "['student', '49']\n",
      "['student', '50']\n",
      "['student', '51']\n",
      "['student', '52']\n",
      "['student', '53']\n",
      "['student', '54']\n",
      "['student', '55']\n",
      "['student', '56']\n",
      "['student', '57']\n",
      "['student', '58']\n",
      "['student', '59']\n",
      "['student', '60']\n",
      "[]\n"
     ]
    },
    {
     "data": {
      "text/plain": [
       "120"
      ]
     },
     "execution_count": 110,
     "metadata": {},
     "output_type": "execute_result"
    }
   ],
   "source": [
    "class_ = open(\"std_list.txt\",'r')\n",
    "count = 0\n",
    "st = []\n",
    "for line in class_.readlines():\n",
    "    words = line.split()\n",
    "    print(words)\n",
    "    for i in words:\n",
    "        count += 1\n",
    "count"
   ]
  },
  {
   "cell_type": "code",
   "execution_count": 99,
   "metadata": {},
   "outputs": [],
   "source": [
    "for i in class_.readline():\n",
    "    c+=i"
   ]
  },
  {
   "cell_type": "code",
   "execution_count": 114,
   "metadata": {},
   "outputs": [
    {
     "name": "stdout",
     "output_type": "stream",
     "text": [
      "13\n",
      "char count 13\n"
     ]
    }
   ],
   "source": [
    "# Char count  - To find the count spl char\n",
    "class_ = open(\"fa.txt\",'r')\n",
    "count = 0\n",
    "st = []\n",
    "for line in class_.readlines():\n",
    "    words = line.split()\n",
    "    for i in words:\n",
    "        for j in i:\n",
    "            if j.isnumeric():\n",
    "                continue\n",
    "            else :\n",
    "                st.append(j)\n",
    "print(len(st))\n",
    "for i in st:\n",
    "    count += 1\n",
    "print(\"char count\",count)\n"
   ]
  },
  {
   "cell_type": "code",
   "execution_count": 116,
   "metadata": {},
   "outputs": [
    {
     "data": {
      "text/plain": [
       "21"
      ]
     },
     "execution_count": 116,
     "metadata": {},
     "output_type": "execute_result"
    }
   ],
   "source": [
    "class_ = open(\"fa.txt\",'r')\n",
    "len(class_.read())  # read return string object"
   ]
  },
  {
   "cell_type": "code",
   "execution_count": 117,
   "metadata": {},
   "outputs": [
    {
     "name": "stdout",
     "output_type": "stream",
     "text": [
      "21\n"
     ]
    }
   ],
   "source": [
    "class_=open('fa.txt','r')\n",
    "c=0\n",
    "for i in class_.readlines():\n",
    "    n=i.split()\n",
    "    for n in i:\n",
    "        c+=len(n)\n",
    "print(c)"
   ]
  },
  {
   "cell_type": "code",
   "execution_count": 118,
   "metadata": {},
   "outputs": [
    {
     "name": "stdout",
     "output_type": "stream",
     "text": [
      "['_', '@', '.']\n",
      "spl chars 3\n"
     ]
    }
   ],
   "source": [
    "class_ = open(\"std_list.txt\",'r')\n",
    "count = 0\n",
    "st = []\n",
    "for line in class_.readlines():\n",
    "    words = line.split()\n",
    "    for i in words:\n",
    "        for j in i:\n",
    "            if j.isalnum():\n",
    "                continue\n",
    "            else :\n",
    "                st.append(j)\n",
    "print(st)\n",
    "for i in st:\n",
    "    count += 1\n",
    "print(\"spl chars\",count)"
   ]
  },
  {
   "cell_type": "code",
   "execution_count": 132,
   "metadata": {},
   "outputs": [
    {
     "name": "stdout",
     "output_type": "stream",
     "text": [
      "spl char count is  4\n"
     ]
    }
   ],
   "source": [
    "class_ = open(\"fa.txt\",'r')\n",
    "count = 0\n",
    "for i in class_.read():\n",
    "    if  i.isalnum() == False  and i != ' ':\n",
    "        count += 1\n",
    "print(\"spl char count is \",count)"
   ]
  },
  {
   "cell_type": "code",
   "execution_count": null,
   "metadata": {},
   "outputs": [],
   "source": [
    "<scr image_name height= width= >"
   ]
  },
  {
   "cell_type": "code",
   "execution_count": null,
   "metadata": {},
   "outputs": [],
   "source": []
  },
  {
   "cell_type": "code",
   "execution_count": null,
   "metadata": {},
   "outputs": [],
   "source": []
  },
  {
   "cell_type": "code",
   "execution_count": null,
   "metadata": {},
   "outputs": [],
   "source": []
  },
  {
   "cell_type": "code",
   "execution_count": null,
   "metadata": {},
   "outputs": [],
   "source": []
  },
  {
   "cell_type": "code",
   "execution_count": null,
   "metadata": {},
   "outputs": [],
   "source": []
  },
  {
   "cell_type": "code",
   "execution_count": null,
   "metadata": {},
   "outputs": [],
   "source": []
  },
  {
   "cell_type": "code",
   "execution_count": null,
   "metadata": {},
   "outputs": [],
   "source": []
  },
  {
   "cell_type": "code",
   "execution_count": 2,
   "metadata": {},
   "outputs": [
    {
     "name": "stdout",
     "output_type": "stream",
     "text": [
      "enter mail:lavanys321.45@yahoo.com\n",
      "valid\n"
     ]
    }
   ],
   "source": [
    "import re\n",
    "def mail(gm):\n",
    "    x = re.search('^[a-z].*@.*[.][com, in]',gm)\n",
    "    return x\n",
    "gm = input('enter mail:')\n",
    "if mail(gm):\n",
    "    print('valid')\n",
    "else :\n",
    "    print('invalid') "
   ]
  },
  {
   "cell_type": "code",
   "execution_count": null,
   "metadata": {},
   "outputs": [],
   "source": []
  },
  {
   "cell_type": "markdown",
   "metadata": {},
   "source": [
    " Phone validation: \n",
    "        \n",
    "    ^[6-9]{1}[0-9]{9}$\n",
    "    \n",
    "mail validation\n",
    "\n",
    "     ^[a-z,.]{8,10}[@]{1}[a-z]{3,7}[.]{1}[a-z]{2,5}$\n",
    "     \n",
    "     \n",
    "     ^[a-z0-9A-Z]{1,10}[@]{1}[a-z]{3,7}[.]{1}[a-z]{2,5}$"
   ]
  },
  {
   "cell_type": "code",
   "execution_count": 135,
   "metadata": {},
   "outputs": [
    {
     "data": {
      "text/plain": [
       "<re.Match object; span=(0, 17), match='abcd123@gmail.com'>"
      ]
     },
     "execution_count": 135,
     "metadata": {},
     "output_type": "execute_result"
    }
   ],
   "source": [
    "import re\n",
    "pattern = \"^[a-z0-9A-Z]{1,10}[@]{1}[a-z]{3,7}[.]{1}[a-z]{2,5}$\"\n",
    "re.search(pattern,\"abcd123@gmail.com\")"
   ]
  },
  {
   "cell_type": "code",
   "execution_count": 138,
   "metadata": {},
   "outputs": [
    {
     "data": {
      "text/plain": [
       "279"
      ]
     },
     "execution_count": 138,
     "metadata": {},
     "output_type": "execute_result"
    }
   ],
   "source": [
    "from package import module as mp\n",
    "mp.add(234,45)"
   ]
  },
  {
   "cell_type": "markdown",
   "metadata": {},
   "source": [
    "Today's Task:\n",
    "\n",
    "Create one text file \n",
    "\n",
    "Ask your friends to enter their mail id \n",
    "\n",
    "append to your text file and \n",
    "\n",
    "validate the mail and print invalid mails\n",
    "\n",
    "\n"
   ]
  }
 ],
 "metadata": {
  "kernelspec": {
   "display_name": "Python 3",
   "language": "python",
   "name": "python3"
  },
  "language_info": {
   "codemirror_mode": {
    "name": "ipython",
    "version": 3
   },
   "file_extension": ".py",
   "mimetype": "text/x-python",
   "name": "python",
   "nbconvert_exporter": "python",
   "pygments_lexer": "ipython3",
   "version": "3.7.1"
  }
 },
 "nbformat": 4,
 "nbformat_minor": 2
}
