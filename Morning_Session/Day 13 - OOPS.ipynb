{
 "cells": [
  {
   "cell_type": "markdown",
   "metadata": {},
   "source": [
    "\n",
    "### Day Objectives\n",
    " * OOP - Python\n",
    "* What is Object Oriented Programming?\n",
    "\n",
    " *   To solve programming problem is by Creating Objects. This is known as OOPS\n",
    "    Object Oriented Programming (OOP) allows decomposition of a problem into a number of units called objects\n",
    " *   Python, an Object Oriented programming (OOP), is a way of programming that focuses on using objects and classes to design and build applications.\n",
    "\n",
    "* Why to Choose ObjectOriented Programming?\n",
    "\n",
    "    * Python was designed with an object-oriented approach.\n",
    "\n",
    "    * OOP offers the following advantages:\n",
    "        Provides a clear program structure, which makes it easy to map real world problems and their solutions.\n",
    "        Facilitates easy maintenance and modification of existing code.\n",
    "     *  Imparts code reusability\n",
    "\n",
    "* object\n",
    "\n",
    "  *  An object is physical entity\n",
    "  *  An object is an instance of a class. When class is defined, only the description for the object is defined. Therefore, no memory or storage is allocated.\n",
    "  * Every Object contrains 2 Characteristics\n",
    "      * State/Properties/Attributes\n",
    "      * Behaviour\n",
    "      \n",
    "      \n",
    "      \n",
    "\n",
    "* class\n",
    "\n",
    "  *  Combination of both attributes and methods\n",
    "  *  A class is a way to take a grouping of functions and data and place them inside a container\n",
    "    Ex: Building and Templates\n",
    "\n",
    "* NOTE : Class attributes(variables) belong to the class itself they will be shared by all the instances.\n",
    "\n",
    "*  Attributes are variables of a class that are shared between all of its instances\n",
    "\n",
    "\n"
   ]
  },
  {
   "cell_type": "code",
   "execution_count": 1,
   "metadata": {},
   "outputs": [
    {
     "data": {
      "text/plain": [
       "<__main__.ClassName at 0x5140e08>"
      ]
     },
     "execution_count": 1,
     "metadata": {},
     "output_type": "execute_result"
    }
   ],
   "source": [
    "# Syntax for Class\n",
    "class ClassName:\n",
    "    pass\n",
    "ClassName()"
   ]
  },
  {
   "cell_type": "code",
   "execution_count": 3,
   "metadata": {},
   "outputs": [
    {
     "name": "stdout",
     "output_type": "stream",
     "text": [
      "<class 'int'>\n"
     ]
    }
   ],
   "source": [
    "a = 10\n",
    "print(type(a))"
   ]
  },
  {
   "cell_type": "code",
   "execution_count": 4,
   "metadata": {},
   "outputs": [
    {
     "name": "stdout",
     "output_type": "stream",
     "text": [
      "<class 'str'>\n"
     ]
    }
   ],
   "source": [
    "a = \"MerC\"\n",
    "print(type(a))"
   ]
  },
  {
   "cell_type": "code",
   "execution_count": 5,
   "metadata": {},
   "outputs": [
    {
     "data": {
      "text/plain": [
       "'Good one'"
      ]
     },
     "execution_count": 5,
     "metadata": {},
     "output_type": "execute_result"
    }
   ],
   "source": [
    "# attributes\n",
    "class myClass:\n",
    "    att = \"Lavanya\"\n",
    "    a2 = \"Good one\"\n",
    "    \n",
    "\n",
    "myClass.att\n",
    "myClass.a2"
   ]
  },
  {
   "cell_type": "code",
   "execution_count": 6,
   "metadata": {},
   "outputs": [
    {
     "ename": "NameError",
     "evalue": "name 'att' is not defined",
     "output_type": "error",
     "traceback": [
      "\u001b[1;31m---------------------------------------------------------------------------\u001b[0m",
      "\u001b[1;31mNameError\u001b[0m                                 Traceback (most recent call last)",
      "\u001b[1;32m<ipython-input-6-8b69c958c5fe>\u001b[0m in \u001b[0;36m<module>\u001b[1;34m\u001b[0m\n\u001b[1;32m----> 1\u001b[1;33m \u001b[0matt\u001b[0m\u001b[1;33m\u001b[0m\u001b[1;33m\u001b[0m\u001b[0m\n\u001b[0m",
      "\u001b[1;31mNameError\u001b[0m: name 'att' is not defined"
     ]
    }
   ],
   "source": [
    "att"
   ]
  },
  {
   "cell_type": "markdown",
   "metadata": {},
   "source": [
    "### method\n",
    "\n",
    " * A name given to a function which is defined inside a class.They are used to define the behaviors of an object\n",
    "\n"
   ]
  },
  {
   "cell_type": "code",
   "execution_count": 7,
   "metadata": {},
   "outputs": [
    {
     "name": "stdout",
     "output_type": "stream",
     "text": [
      "<__main__.ownCLass object at 0x00000000051E2908>\n"
     ]
    }
   ],
   "source": [
    "class ownCLass:\n",
    "    def myname():\n",
    "        print(\"My name is MerC\")\n",
    "        \n",
    "print(ownCLass())"
   ]
  },
  {
   "cell_type": "code",
   "execution_count": 8,
   "metadata": {},
   "outputs": [
    {
     "name": "stdout",
     "output_type": "stream",
     "text": [
      "My name is MerC\n"
     ]
    }
   ],
   "source": [
    "ownCLass.myname()"
   ]
  },
  {
   "cell_type": "code",
   "execution_count": 9,
   "metadata": {},
   "outputs": [
    {
     "ename": "NameError",
     "evalue": "name 'myname' is not defined",
     "output_type": "error",
     "traceback": [
      "\u001b[1;31m---------------------------------------------------------------------------\u001b[0m",
      "\u001b[1;31mNameError\u001b[0m                                 Traceback (most recent call last)",
      "\u001b[1;32m<ipython-input-9-851e0068b3b8>\u001b[0m in \u001b[0;36m<module>\u001b[1;34m\u001b[0m\n\u001b[1;32m----> 1\u001b[1;33m \u001b[0mmyname\u001b[0m\u001b[1;33m(\u001b[0m\u001b[1;33m)\u001b[0m\u001b[1;33m\u001b[0m\u001b[1;33m\u001b[0m\u001b[0m\n\u001b[0m",
      "\u001b[1;31mNameError\u001b[0m: name 'myname' is not defined"
     ]
    }
   ],
   "source": [
    "myname()"
   ]
  },
  {
   "cell_type": "markdown",
   "metadata": {},
   "source": [
    "### Creating object"
   ]
  },
  {
   "cell_type": "code",
   "execution_count": 10,
   "metadata": {},
   "outputs": [
    {
     "data": {
      "text/plain": [
       "<__main__.lapy at 0x52128c8>"
      ]
     },
     "execution_count": 10,
     "metadata": {},
     "output_type": "execute_result"
    }
   ],
   "source": [
    "class lapy:\n",
    "    def asus(self):\n",
    "        print(\"i5, 8gb RAM, 512 SSD,1Tb hadd,15'inch \")\n",
    "        \n",
    "lapy1 = lapy()\n",
    "lapy1"
   ]
  },
  {
   "cell_type": "code",
   "execution_count": 14,
   "metadata": {},
   "outputs": [
    {
     "data": {
      "text/plain": [
       "<function __main__.lapy.asus(self)>"
      ]
     },
     "execution_count": 14,
     "metadata": {},
     "output_type": "execute_result"
    }
   ],
   "source": [
    "lapy.asus"
   ]
  },
  {
   "cell_type": "code",
   "execution_count": 15,
   "metadata": {},
   "outputs": [
    {
     "name": "stdout",
     "output_type": "stream",
     "text": [
      "i5, 8gb RAM, 512 SSD,1Tb hadd,15'inch \n"
     ]
    }
   ],
   "source": [
    "lapy2 = lapy()\n",
    "lapy2.asus()"
   ]
  },
  {
   "cell_type": "code",
   "execution_count": 17,
   "metadata": {},
   "outputs": [
    {
     "name": "stdout",
     "output_type": "stream",
     "text": [
      "i5, 8gb RAM, 512 SSD,1Tb hadd,15'inch \n",
      "None\n",
      "i5, 8gb RAM, 512 SSD,1Tb hadd,15'inch \n"
     ]
    }
   ],
   "source": [
    "print(lapy.asus(lapy2))\n",
    "lapy1.asus()"
   ]
  },
  {
   "cell_type": "code",
   "execution_count": 18,
   "metadata": {},
   "outputs": [
    {
     "name": "stdout",
     "output_type": "stream",
     "text": [
      "i5, 8gb RAM, 512 SSD,1Tb hadd,15'inch \n"
     ]
    }
   ],
   "source": [
    "lapy1.asus()"
   ]
  },
  {
   "cell_type": "code",
   "execution_count": 19,
   "metadata": {},
   "outputs": [
    {
     "name": "stdout",
     "output_type": "stream",
     "text": [
      "hi\n"
     ]
    }
   ],
   "source": [
    "class Person:\n",
    "    def man(self):\n",
    "        print(\"hi\")\n",
    "        \n",
    "ramu = Person()\n",
    "ramu.man()"
   ]
  },
  {
   "cell_type": "code",
   "execution_count": 20,
   "metadata": {},
   "outputs": [
    {
     "name": "stdout",
     "output_type": "stream",
     "text": [
      "hi\n",
      "hi\n"
     ]
    }
   ],
   "source": [
    "chaitanya = Person()\n",
    "chaitanya.man()   # Object.Method\n",
    "Person.man(ramu)"
   ]
  },
  {
   "cell_type": "code",
   "execution_count": 4,
   "metadata": {},
   "outputs": [],
   "source": [
    "class A:\n",
    "    def add(a,b):\n",
    "        print(a+b)      \n",
    "        "
   ]
  },
  {
   "cell_type": "code",
   "execution_count": 5,
   "metadata": {},
   "outputs": [
    {
     "name": "stdout",
     "output_type": "stream",
     "text": [
      "5\n"
     ]
    }
   ],
   "source": [
    "A.add(2,3)"
   ]
  },
  {
   "cell_type": "code",
   "execution_count": 9,
   "metadata": {},
   "outputs": [],
   "source": [
    "obj1=A  "
   ]
  },
  {
   "cell_type": "code",
   "execution_count": 11,
   "metadata": {},
   "outputs": [
    {
     "name": "stdout",
     "output_type": "stream",
     "text": [
      "13\n"
     ]
    }
   ],
   "source": [
    "obj1.add(6,7)"
   ]
  },
  {
   "cell_type": "code",
   "execution_count": 6,
   "metadata": {},
   "outputs": [
    {
     "name": "stdout",
     "output_type": "stream",
     "text": [
      "enter the no 34\n",
      "enter the no 234\n",
      "Total =  7956\n"
     ]
    }
   ],
   "source": [
    "class mult():\n",
    "    def mul(self):\n",
    "        a=int(input(\"enter the no \"))\n",
    "        b=int(input(\"enter the no \"))\n",
    "        m=a*b\n",
    "        print(\"Total = \",m)\n",
    "M=mult()\n",
    "M.mul()\n"
   ]
  },
  {
   "cell_type": "code",
   "execution_count": null,
   "metadata": {},
   "outputs": [],
   "source": [
    "class A:\n",
    "     def mul(self,a,b):\n",
    "            print(a*b)\n",
    "res=A()\n",
    "res.mul(3,7)\n"
   ]
  },
  {
   "cell_type": "code",
   "execution_count": 7,
   "metadata": {},
   "outputs": [
    {
     "name": "stdout",
     "output_type": "stream",
     "text": [
      "enter the no 78\n",
      "enter the no 89\n",
      "Total =  6942\n"
     ]
    }
   ],
   "source": [
    "ob1=mult()\n",
    "ob1.mul()"
   ]
  },
  {
   "cell_type": "code",
   "execution_count": 8,
   "metadata": {},
   "outputs": [],
   "source": [
    "class mult():\n",
    "    def mul():\n",
    "        a=int(input(\"enter the no \"))\n",
    "        b=int(input(\"enter the no \"))\n",
    "        m=a*b\n",
    "        print(\"Total = \",m)"
   ]
  },
  {
   "cell_type": "code",
   "execution_count": 9,
   "metadata": {},
   "outputs": [
    {
     "name": "stdout",
     "output_type": "stream",
     "text": [
      "enter the no 78\n",
      "enter the no 88\n",
      "Total =  6864\n"
     ]
    }
   ],
   "source": [
    "m=mult\n",
    "m.mul()"
   ]
  },
  {
   "cell_type": "code",
   "execution_count": 20,
   "metadata": {},
   "outputs": [
    {
     "data": {
      "text/plain": [
       "<__main__.lapy at 0x4e98088>"
      ]
     },
     "execution_count": 20,
     "metadata": {},
     "output_type": "execute_result"
    }
   ],
   "source": [
    "class lapy:\n",
    "    def asus(self):\n",
    "        print(\"i5, 8gb RAM, 512 SSD,1Tb hadd,15'inch \")\n",
    "lapy1 = lapy()\n",
    "lapy1"
   ]
  },
  {
   "cell_type": "code",
   "execution_count": 21,
   "metadata": {},
   "outputs": [
    {
     "name": "stdout",
     "output_type": "stream",
     "text": [
      "i5, 8gb RAM, 512 SSD,1Tb hadd,15'inch \n"
     ]
    }
   ],
   "source": [
    "lapy1.asus()"
   ]
  },
  {
   "cell_type": "code",
   "execution_count": 22,
   "metadata": {},
   "outputs": [
    {
     "name": "stdout",
     "output_type": "stream",
     "text": [
      "i5, 8gb RAM, 512 SSD,1Tb hadd,15'inch \n"
     ]
    }
   ],
   "source": [
    "lapy2 = lapy()\n",
    "lapy2.asus()"
   ]
  },
  {
   "cell_type": "code",
   "execution_count": 19,
   "metadata": {},
   "outputs": [
    {
     "name": "stdout",
     "output_type": "stream",
     "text": [
      "i5, 8gb RAM, 512 SSD,1Tb hadd,15'inch \n",
      "None\n",
      "i5, 8gb RAM, 512 SSD,1Tb hadd,15'inch \n"
     ]
    }
   ],
   "source": [
    "print(lapy.asus(lapy2))\n",
    "lapy1.asus()"
   ]
  },
  {
   "cell_type": "code",
   "execution_count": null,
   "metadata": {},
   "outputs": [],
   "source": []
  }
 ],
 "metadata": {
  "kernelspec": {
   "display_name": "Python 3",
   "language": "python",
   "name": "python3"
  },
  "language_info": {
   "codemirror_mode": {
    "name": "ipython",
    "version": 3
   },
   "file_extension": ".py",
   "mimetype": "text/x-python",
   "name": "python",
   "nbconvert_exporter": "python",
   "pygments_lexer": "ipython3",
   "version": "3.7.6"
  }
 },
 "nbformat": 4,
 "nbformat_minor": 4
}
