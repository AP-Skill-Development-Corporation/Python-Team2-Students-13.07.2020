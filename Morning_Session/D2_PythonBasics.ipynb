{
 "cells": [
  {
   "cell_type": "markdown",
   "metadata": {},
   "source": [
    "# Day Objectives\n",
    "\n",
    "## MarkDown Syntax\n",
    "\n",
    "* Order List\n",
    "* Unorder List\n",
    "* Link insert\n",
    "* Image Insert\n",
    "\n",
    "##  Python Basics\n",
    "\n",
    "* How to check your Python version\n",
    "* Comments in Python\n",
    "\n",
    "* Data types\n",
    "\n",
    "    A. int,float,bool<br>\n",
    "    B. List,tuple,string,Dictionary, set\n",
    "    \n",
    "\n",
    "* variables \n",
    "\n",
    "* Type Casting\n",
    "\n",
    "* **OPERATORS**\n",
    "\n",
    "    A. Arithmetic Operators ( +,-,*,%,/,//,**)\n",
    "    \n",
    "    B. Assignment Operators ( =, +=, -=, *=, %=, /=, //=)\n",
    "    \n",
    "    C. Comparison operators ( ==, >=, <=, !=, >, < )\n",
    "    \n",
    "    D. Logical operators  ( and, or, not )\n",
    "    \n",
    "    E. Bitwise Operators ( &, |, ~, ^, >>, <<)\n",
    "    \n",
    "    F. Identity Operators ( is , is not )\n",
    "    \n",
    "    G. Membership Operators ( in , not in ) \n"
   ]
  },
  {
   "cell_type": "markdown",
   "metadata": {},
   "source": []
  },
  {
   "cell_type": "markdown",
   "metadata": {},
   "source": [
    "# Shortcuts\n",
    "esc+m  -- > markdown     --- Docs\n",
    "esc+y  -- > code mode    --- Coding\n",
    "esc+r  -- > raw NB Convert  --- Notepad\n",
    "esc+a  -- > For new cell at above\n",
    "esc+b  -- > for new cell at below\n",
    "esc+h  -- > Shortcuts"
   ]
  },
  {
   "cell_type": "markdown",
   "metadata": {},
   "source": [
    "# Title\n",
    "## SubTitle\n",
    "#### mini Title\n",
    "##### Mini Title\n",
    "\n",
    "i am in *italic* style\n",
    "\n",
    "i am in **Bold** \n",
    "\n",
    "i am in ***italic+Bold*** "
   ]
  },
  {
   "cell_type": "markdown",
   "metadata": {},
   "source": [
    "### Order List\n",
    "\n",
    "1. abc\n",
    "2. dsf\n",
    "4. dfgf"
   ]
  },
  {
   "cell_type": "markdown",
   "metadata": {},
   "source": [
    "1. abc\n",
    "2. dsf\n",
    "5. dfgf"
   ]
  },
  {
   "cell_type": "markdown",
   "metadata": {},
   "source": [
    "### Unorder List\n",
    "\n",
    "* 123\n",
    "* 243\n",
    "- 745\n",
    "    * 4334\n",
    "    - 6576\n",
    "    * 8657\n",
    "        * ghj\n",
    "        * fjgk\n",
    "        * jkfdg\n",
    "            * jbfg\n",
    "            * fkjg\n",
    "            * gfh"
   ]
  },
  {
   "cell_type": "markdown",
   "metadata": {},
   "source": [
    "### Syntax for insert an link\n",
    "Hyper Link -- Type for link  & Link\n",
    "\n",
    "\n",
    "[Student_register_link](http://engineering.apssdc.in/register)"
   ]
  },
  {
   "cell_type": "markdown",
   "metadata": {},
   "source": [
    "# python program"
   ]
  },
  {
   "cell_type": "markdown",
   "metadata": {},
   "source": [
    "## Insert image\n",
    "\n",
    "![](data:image/jpeg;base64,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)"
   ]
  },
  {
   "cell_type": "markdown",
   "metadata": {},
   "source": [
    "## Insert Local Image \n",
    "\n",
    "#### Syntax :  ![](image_path)"
   ]
  },
  {
   "cell_type": "markdown",
   "metadata": {},
   "source": [
    "\n",
    "\n",
    "![](download.jpg)"
   ]
  },
  {
   "cell_type": "markdown",
   "metadata": {},
   "source": []
  },
  {
   "cell_type": "raw",
   "metadata": {},
   "source": [
    "RAW NB CONVERT\n",
    "# dkjfg\n",
    "jdfhgd\n",
    "4vnfv\n",
    "cnvb\n",
    "kjfhgkjh\n",
    "685786579865\n",
    "9867bvimgh"
   ]
  },
  {
   "cell_type": "code",
   "execution_count": 174,
   "metadata": {},
   "outputs": [
    {
     "data": {
      "text/plain": [
       "'3.7.3 (default, Apr 24 2019, 15:29:51) [MSC v.1915 64 bit (AMD64)]'"
      ]
     },
     "execution_count": 174,
     "metadata": {},
     "output_type": "execute_result"
    }
   ],
   "source": [
    "# How to check your Python version\n",
    "import sys\n",
    "sys.version"
   ]
  },
  {
   "cell_type": "code",
   "execution_count": null,
   "metadata": {},
   "outputs": [],
   "source": [
    "# Comments in Python\n",
    "# Single Line Comment\n",
    "# Multi Line Comments\n",
    "\"\"\"hfdghf\n",
    "ghjfg\n",
    "jfkjgf\n",
    "fjkdgk\"\"\"\n"
   ]
  },
  {
   "cell_type": "markdown",
   "metadata": {},
   "source": [
    "## Data types\n",
    "\n",
    "A. int,float,bool\n",
    "\n",
    "B. List,tuple,string,Dictionary, set   -- Iterables\n",
    "\n"
   ]
  },
  {
   "cell_type": "code",
   "execution_count": 6,
   "metadata": {},
   "outputs": [
    {
     "name": "stdout",
     "output_type": "stream",
     "text": [
      "<class 'int'>\n",
      "<class 'float'>\n",
      "<class 'str'>\n",
      "<class 'bool'>\n"
     ]
    }
   ],
   "source": [
    "a = 10\n",
    "print(type(a))\n",
    "b = 213.45\n",
    "print(type(b))\n",
    "c = 'fdg'\n",
    "print(type(c))\n",
    "d = True\n",
    "print(type(d))"
   ]
  },
  {
   "cell_type": "code",
   "execution_count": 13,
   "metadata": {},
   "outputs": [
    {
     "data": {
      "text/plain": [
       "str"
      ]
     },
     "execution_count": 13,
     "metadata": {},
     "output_type": "execute_result"
    }
   ],
   "source": [
    "s = \"abc\"  # init\n",
    "s[0]\n",
    "s[1]\n",
    "s[2]\n",
    "type(s)"
   ]
  },
  {
   "cell_type": "code",
   "execution_count": 14,
   "metadata": {},
   "outputs": [
    {
     "data": {
      "text/plain": [
       "list"
      ]
     },
     "execution_count": 14,
     "metadata": {},
     "output_type": "execute_result"
    }
   ],
   "source": [
    "l = [1,2,3,4,\"dsf\",456.45]\n",
    "type(l)"
   ]
  },
  {
   "cell_type": "code",
   "execution_count": 20,
   "metadata": {},
   "outputs": [
    {
     "data": {
      "text/plain": [
       "dict"
      ]
     },
     "execution_count": 20,
     "metadata": {},
     "output_type": "execute_result"
    }
   ],
   "source": [
    "d = dict()\n",
    "d = {12:34,45:566}   # collection of keys,values\n",
    "type(d)"
   ]
  },
  {
   "cell_type": "code",
   "execution_count": 19,
   "metadata": {},
   "outputs": [
    {
     "data": {
      "text/plain": [
       "set"
      ]
     },
     "execution_count": 19,
     "metadata": {},
     "output_type": "execute_result"
    }
   ],
   "source": [
    "s  = set()\n",
    "s = {1,2,3,4}\n",
    "type(s)"
   ]
  },
  {
   "cell_type": "code",
   "execution_count": 22,
   "metadata": {},
   "outputs": [
    {
     "data": {
      "text/plain": [
       "tuple"
      ]
     },
     "execution_count": 22,
     "metadata": {},
     "output_type": "execute_result"
    }
   ],
   "source": [
    "t = (1,2,3,4,\"fdg\",34.5)\n",
    "type(t)"
   ]
  },
  {
   "cell_type": "markdown",
   "metadata": {},
   "source": [
    "# variables  -- it Holds any type data"
   ]
  },
  {
   "cell_type": "code",
   "execution_count": 23,
   "metadata": {},
   "outputs": [
    {
     "data": {
      "text/plain": [
       "str"
      ]
     },
     "execution_count": 23,
     "metadata": {},
     "output_type": "execute_result"
    }
   ],
   "source": [
    "val = 100\n",
    "st = \"string\"\n",
    "# size of memory depends on variables in code \n",
    "\n",
    "s = 'string'\n",
    "type(s)"
   ]
  },
  {
   "cell_type": "code",
   "execution_count": 24,
   "metadata": {},
   "outputs": [
    {
     "data": {
      "text/plain": [
       "str"
      ]
     },
     "execution_count": 24,
     "metadata": {},
     "output_type": "execute_result"
    }
   ],
   "source": [
    "ss  = \"string\"\n",
    "type(ss)"
   ]
  },
  {
   "cell_type": "code",
   "execution_count": 26,
   "metadata": {},
   "outputs": [
    {
     "data": {
      "text/plain": [
       "str"
      ]
     },
     "execution_count": 26,
     "metadata": {},
     "output_type": "execute_result"
    }
   ],
   "source": [
    "sss = \"\"\"string\"\"\"\n",
    "type(sss)"
   ]
  },
  {
   "cell_type": "markdown",
   "metadata": {},
   "source": [
    "'h'  -- char\n",
    "\n",
    "\"hfh\"  -- str"
   ]
  },
  {
   "cell_type": "code",
   "execution_count": 29,
   "metadata": {},
   "outputs": [
    {
     "data": {
      "text/plain": [
       "str"
      ]
     },
     "execution_count": 29,
     "metadata": {},
     "output_type": "execute_result"
    }
   ],
   "source": [
    "a = \"123\"\n",
    "type(a)"
   ]
  },
  {
   "cell_type": "code",
   "execution_count": 30,
   "metadata": {},
   "outputs": [
    {
     "data": {
      "text/plain": [
       "'i know'"
      ]
     },
     "execution_count": 30,
     "metadata": {},
     "output_type": "execute_result"
    }
   ],
   "source": [
    "'i know'"
   ]
  },
  {
   "cell_type": "code",
   "execution_count": 32,
   "metadata": {},
   "outputs": [
    {
     "data": {
      "text/plain": [
       "\"i don't know\""
      ]
     },
     "execution_count": 32,
     "metadata": {},
     "output_type": "execute_result"
    }
   ],
   "source": [
    "'i don\\'t know'"
   ]
  },
  {
   "cell_type": "code",
   "execution_count": 33,
   "metadata": {},
   "outputs": [
    {
     "data": {
      "text/plain": [
       "\" i don't know \""
      ]
     },
     "execution_count": 33,
     "metadata": {},
     "output_type": "execute_result"
    }
   ],
   "source": [
    "\" i don't know \""
   ]
  },
  {
   "cell_type": "code",
   "execution_count": 34,
   "metadata": {},
   "outputs": [
    {
     "data": {
      "text/plain": [
       "'   i am Lavanya '"
      ]
     },
     "execution_count": 34,
     "metadata": {},
     "output_type": "execute_result"
    }
   ],
   "source": [
    "\"\"\"   i am Lavanya \"\"\""
   ]
  },
  {
   "cell_type": "code",
   "execution_count": 38,
   "metadata": {},
   "outputs": [
    {
     "name": "stdout",
     "output_type": "stream",
     "text": [
      "   i am \"Lavanya\" \n"
     ]
    }
   ],
   "source": [
    "print(\"\"\"   i am \"Lavanya\" \"\"\")"
   ]
  },
  {
   "cell_type": "markdown",
   "metadata": {},
   "source": [
    "## Type Casting\n",
    "\n",
    "* Convert one datatype to other"
   ]
  },
  {
   "cell_type": "code",
   "execution_count": 49,
   "metadata": {},
   "outputs": [
    {
     "name": "stdout",
     "output_type": "stream",
     "text": [
      "<class 'str'>\n",
      "<class 'int'>\n",
      "<class 'int'> 100\n",
      "<class 'str'> 100\n",
      "<class 'str'> s\n"
     ]
    },
    {
     "ename": "ValueError",
     "evalue": "invalid literal for int() with base 10: 's'",
     "output_type": "error",
     "traceback": [
      "\u001b[1;31m---------------------------------------------------------------------------\u001b[0m",
      "\u001b[1;31mValueError\u001b[0m                                Traceback (most recent call last)",
      "\u001b[1;32m<ipython-input-49-26355dcf3c5e>\u001b[0m in \u001b[0;36m<module>\u001b[1;34m\u001b[0m\n\u001b[0;32m     14\u001b[0m \u001b[0ma\u001b[0m \u001b[1;33m=\u001b[0m \u001b[1;34m\"s\"\u001b[0m\u001b[1;33m\u001b[0m\u001b[1;33m\u001b[0m\u001b[0m\n\u001b[0;32m     15\u001b[0m \u001b[0mprint\u001b[0m\u001b[1;33m(\u001b[0m\u001b[0mtype\u001b[0m\u001b[1;33m(\u001b[0m\u001b[0ma\u001b[0m\u001b[1;33m)\u001b[0m\u001b[1;33m,\u001b[0m\u001b[0ma\u001b[0m\u001b[1;33m)\u001b[0m\u001b[1;33m\u001b[0m\u001b[1;33m\u001b[0m\u001b[0m\n\u001b[1;32m---> 16\u001b[1;33m \u001b[0mb\u001b[0m \u001b[1;33m=\u001b[0m \u001b[0mint\u001b[0m\u001b[1;33m(\u001b[0m\u001b[0ma\u001b[0m\u001b[1;33m)\u001b[0m\u001b[1;33m\u001b[0m\u001b[1;33m\u001b[0m\u001b[0m\n\u001b[0m\u001b[0;32m     17\u001b[0m \u001b[0mprint\u001b[0m\u001b[1;33m(\u001b[0m\u001b[0mtype\u001b[0m\u001b[1;33m(\u001b[0m\u001b[0mb\u001b[0m\u001b[1;33m)\u001b[0m\u001b[1;33m,\u001b[0m\u001b[0mb\u001b[0m\u001b[1;33m)\u001b[0m\u001b[1;33m\u001b[0m\u001b[1;33m\u001b[0m\u001b[0m\n",
      "\u001b[1;31mValueError\u001b[0m: invalid literal for int() with base 10: 's'"
     ]
    }
   ],
   "source": [
    "# String to integer\n",
    "a = \"100\"\n",
    "print(type(a))\n",
    "b = int(a)\n",
    "print(type(b))\n",
    "\n",
    "\n",
    "a = 100\n",
    "print(type(a),a)\n",
    "b = str(a)\n",
    "print(type(b),b)\n",
    "\n",
    "\n",
    "a = \"s\"\n",
    "print(type(a),a)\n",
    "b = int(a)\n",
    "print(type(b),b)"
   ]
  },
  {
   "cell_type": "code",
   "execution_count": 45,
   "metadata": {},
   "outputs": [
    {
     "name": "stdout",
     "output_type": "stream",
     "text": [
      "<class 'float'> 134.45\n",
      "<class 'int'> 134\n"
     ]
    }
   ],
   "source": [
    "# float to int\n",
    "a = 134.45\n",
    "print(type(a),a)\n",
    "b = int(a)\n",
    "print(type(b),b)"
   ]
  },
  {
   "cell_type": "code",
   "execution_count": 50,
   "metadata": {},
   "outputs": [
    {
     "data": {
      "text/plain": [
       "'strdsfjh'"
      ]
     },
     "execution_count": 50,
     "metadata": {},
     "output_type": "execute_result"
    }
   ],
   "source": [
    "\"str\"+\"dsfjh\"  # concat"
   ]
  },
  {
   "cell_type": "code",
   "execution_count": 51,
   "metadata": {},
   "outputs": [
    {
     "data": {
      "text/plain": [
       "'34354354'"
      ]
     },
     "execution_count": 51,
     "metadata": {},
     "output_type": "execute_result"
    }
   ],
   "source": [
    "\"3435\"+\"4354\""
   ]
  },
  {
   "cell_type": "code",
   "execution_count": 52,
   "metadata": {},
   "outputs": [
    {
     "data": {
      "text/plain": [
       "965"
      ]
     },
     "execution_count": 52,
     "metadata": {},
     "output_type": "execute_result"
    }
   ],
   "source": [
    "312+653"
   ]
  },
  {
   "cell_type": "code",
   "execution_count": 53,
   "metadata": {},
   "outputs": [
    {
     "name": "stdout",
     "output_type": "stream",
     "text": [
      "<class 'int'> 100\n",
      "<class 'float'> 100.0\n"
     ]
    }
   ],
   "source": [
    "# int to float\n",
    "a = 100\n",
    "print(type(a),a)\n",
    "b = float(a)\n",
    "print(type(b),b)"
   ]
  },
  {
   "cell_type": "code",
   "execution_count": 57,
   "metadata": {},
   "outputs": [
    {
     "ename": "TypeError",
     "evalue": "can only concatenate str (not \"int\") to str",
     "output_type": "error",
     "traceback": [
      "\u001b[1;31m---------------------------------------------------------------------------\u001b[0m",
      "\u001b[1;31mTypeError\u001b[0m                                 Traceback (most recent call last)",
      "\u001b[1;32m<ipython-input-57-69feb3b85cfb>\u001b[0m in \u001b[0;36m<module>\u001b[1;34m\u001b[0m\n\u001b[0;32m      1\u001b[0m \u001b[1;34m\"aatrs\"\u001b[0m\u001b[1;33m+\u001b[0m\u001b[1;34m\"3543\"\u001b[0m\u001b[1;33m\u001b[0m\u001b[1;33m\u001b[0m\u001b[0m\n\u001b[1;32m----> 2\u001b[1;33m \u001b[1;34m\"dsf\"\u001b[0m\u001b[1;33m+\u001b[0m\u001b[1;36m3454\u001b[0m\u001b[1;33m\u001b[0m\u001b[1;33m\u001b[0m\u001b[0m\n\u001b[0m",
      "\u001b[1;31mTypeError\u001b[0m: can only concatenate str (not \"int\") to str"
     ]
    }
   ],
   "source": [
    "\"aatrs\"+\"3543\"\n",
    "\"dsf\"+3454"
   ]
  },
  {
   "cell_type": "markdown",
   "metadata": {},
   "source": [
    "#### OPERATORS\n",
    "\n",
    "A. Arithmetic Operators ( +,-,%,/,//,*)\n",
    "\n",
    "B. Assignment Operators ( =, +=, -=, *=, %=, /=, //=)\n",
    "\n",
    "C. Comparison operators ( ==, >=, <=, !=, >, < )\n",
    "\n",
    "D. Logical operators ( and, or, not )\n",
    "\n",
    "E. Bitwise Operators ( &, |, ~, ^, >>, <<)\n",
    "\n",
    "F. Identity Operators ( is , is not )\n",
    "\n",
    "G. Membership Operators ( in , not in )"
   ]
  },
  {
   "cell_type": "code",
   "execution_count": 61,
   "metadata": {},
   "outputs": [
    {
     "data": {
      "text/plain": [
       "1032"
      ]
     },
     "execution_count": 61,
     "metadata": {},
     "output_type": "execute_result"
    }
   ],
   "source": [
    "456+576"
   ]
  },
  {
   "cell_type": "code",
   "execution_count": 62,
   "metadata": {},
   "outputs": [
    {
     "data": {
      "text/plain": [
       "46131"
      ]
     },
     "execution_count": 62,
     "metadata": {},
     "output_type": "execute_result"
    }
   ],
   "source": [
    "46587-456"
   ]
  },
  {
   "cell_type": "code",
   "execution_count": 63,
   "metadata": {},
   "outputs": [
    {
     "data": {
      "text/plain": [
       "0"
      ]
     },
     "execution_count": 63,
     "metadata": {},
     "output_type": "execute_result"
    }
   ],
   "source": [
    "435%5"
   ]
  },
  {
   "cell_type": "code",
   "execution_count": 64,
   "metadata": {},
   "outputs": [
    {
     "data": {
      "text/plain": [
       "6.0"
      ]
     },
     "execution_count": 64,
     "metadata": {},
     "output_type": "execute_result"
    }
   ],
   "source": [
    "12/2"
   ]
  },
  {
   "cell_type": "code",
   "execution_count": 65,
   "metadata": {},
   "outputs": [
    {
     "data": {
      "text/plain": [
       "6"
      ]
     },
     "execution_count": 65,
     "metadata": {},
     "output_type": "execute_result"
    }
   ],
   "source": [
    "12//2"
   ]
  },
  {
   "cell_type": "code",
   "execution_count": 67,
   "metadata": {},
   "outputs": [
    {
     "data": {
      "text/plain": [
       "22.5"
      ]
     },
     "execution_count": 67,
     "metadata": {},
     "output_type": "execute_result"
    }
   ],
   "source": [
    "45/2"
   ]
  },
  {
   "cell_type": "code",
   "execution_count": 69,
   "metadata": {},
   "outputs": [
    {
     "data": {
      "text/plain": [
       "22"
      ]
     },
     "execution_count": 69,
     "metadata": {},
     "output_type": "execute_result"
    }
   ],
   "source": [
    "45//2  # float division returns interger part only"
   ]
  },
  {
   "cell_type": "code",
   "execution_count": 70,
   "metadata": {},
   "outputs": [
    {
     "data": {
      "text/plain": [
       "11"
      ]
     },
     "execution_count": 70,
     "metadata": {},
     "output_type": "execute_result"
    }
   ],
   "source": [
    "a = 10  # 10 assign to variable a\n",
    "a = a+1 \n",
    "a\n"
   ]
  },
  {
   "cell_type": "code",
   "execution_count": 71,
   "metadata": {},
   "outputs": [
    {
     "data": {
      "text/plain": [
       "12"
      ]
     },
     "execution_count": 71,
     "metadata": {},
     "output_type": "execute_result"
    }
   ],
   "source": [
    "a += 1\n",
    "a"
   ]
  },
  {
   "cell_type": "code",
   "execution_count": 75,
   "metadata": {},
   "outputs": [
    {
     "data": {
      "text/plain": [
       "8"
      ]
     },
     "execution_count": 75,
     "metadata": {},
     "output_type": "execute_result"
    }
   ],
   "source": [
    "a -= 1\n",
    "a"
   ]
  },
  {
   "cell_type": "code",
   "execution_count": 77,
   "metadata": {},
   "outputs": [
    {
     "data": {
      "text/plain": [
       "32"
      ]
     },
     "execution_count": 77,
     "metadata": {},
     "output_type": "execute_result"
    }
   ],
   "source": [
    "a *= 2\n",
    "a"
   ]
  },
  {
   "cell_type": "code",
   "execution_count": 79,
   "metadata": {},
   "outputs": [
    {
     "data": {
      "text/plain": [
       "33"
      ]
     },
     "execution_count": 79,
     "metadata": {},
     "output_type": "execute_result"
    }
   ],
   "source": [
    "a += 1\n",
    "a"
   ]
  },
  {
   "cell_type": "code",
   "execution_count": 80,
   "metadata": {
    "scrolled": true
   },
   "outputs": [
    {
     "ename": "SyntaxError",
     "evalue": "invalid syntax (<ipython-input-80-22e3d6dc1353>, line 1)",
     "output_type": "error",
     "traceback": [
      "\u001b[1;36m  File \u001b[1;32m\"<ipython-input-80-22e3d6dc1353>\"\u001b[1;36m, line \u001b[1;32m1\u001b[0m\n\u001b[1;33m    a++\u001b[0m\n\u001b[1;37m       ^\u001b[0m\n\u001b[1;31mSyntaxError\u001b[0m\u001b[1;31m:\u001b[0m invalid syntax\n"
     ]
    }
   ],
   "source": [
    "a++"
   ]
  },
  {
   "cell_type": "code",
   "execution_count": 92,
   "metadata": {
    "collapsed": true
   },
   "outputs": [
    {
     "name": "stdout",
     "output_type": "stream",
     "text": [
      "a value is  33\n",
      "False\n",
      "True\n",
      "False\n",
      "True\n",
      "True\n",
      "False\n"
     ]
    }
   ],
   "source": [
    "# Comparison operators ( ==, >=, <=, !=, >, < )\n",
    "print(\"a value is \",a)\n",
    "print(a == 10)\n",
    "print(a >= 10)\n",
    "print(a <= 10)\n",
    "print(a != 10)\n",
    "print(a > 10)\n",
    "print(a < 10)"
   ]
  },
  {
   "cell_type": "code",
   "execution_count": null,
   "metadata": {},
   "outputs": [],
   "source": [
    "# Logical operators ( and, or, not )\n",
    "\n",
    "Logical gates\n",
    "\n",
    "n1  n2   and       or     not        ex-or\n",
    "        (n1*n2) (n1+n2)  reverse\n",
    "    \n",
    "0   0    0         0       1           0   \n",
    "\n",
    "0   1    0         1                   1\n",
    "\n",
    "1   0    0         1                   1\n",
    "\n",
    "1   1    1         1       0           0\n",
    "\n"
   ]
  },
  {
   "cell_type": "code",
   "execution_count": 93,
   "metadata": {},
   "outputs": [
    {
     "data": {
      "text/plain": [
       "True"
      ]
     },
     "execution_count": 93,
     "metadata": {},
     "output_type": "execute_result"
    }
   ],
   "source": [
    "True and True"
   ]
  },
  {
   "cell_type": "code",
   "execution_count": 94,
   "metadata": {},
   "outputs": [
    {
     "data": {
      "text/plain": [
       "False"
      ]
     },
     "execution_count": 94,
     "metadata": {},
     "output_type": "execute_result"
    }
   ],
   "source": [
    "True and False"
   ]
  },
  {
   "cell_type": "code",
   "execution_count": 95,
   "metadata": {},
   "outputs": [
    {
     "data": {
      "text/plain": [
       "False"
      ]
     },
     "execution_count": 95,
     "metadata": {},
     "output_type": "execute_result"
    }
   ],
   "source": [
    "False or False"
   ]
  },
  {
   "cell_type": "code",
   "execution_count": 96,
   "metadata": {},
   "outputs": [
    {
     "data": {
      "text/plain": [
       "True"
      ]
     },
     "execution_count": 96,
     "metadata": {},
     "output_type": "execute_result"
    }
   ],
   "source": [
    "False or True"
   ]
  },
  {
   "cell_type": "code",
   "execution_count": 97,
   "metadata": {},
   "outputs": [
    {
     "data": {
      "text/plain": [
       "False"
      ]
     },
     "execution_count": 97,
     "metadata": {},
     "output_type": "execute_result"
    }
   ],
   "source": [
    "not True"
   ]
  },
  {
   "cell_type": "code",
   "execution_count": 98,
   "metadata": {},
   "outputs": [
    {
     "data": {
      "text/plain": [
       "True"
      ]
     },
     "execution_count": 98,
     "metadata": {},
     "output_type": "execute_result"
    }
   ],
   "source": [
    "not False"
   ]
  },
  {
   "cell_type": "code",
   "execution_count": 99,
   "metadata": {},
   "outputs": [
    {
     "data": {
      "text/plain": [
       "34"
      ]
     },
     "execution_count": 99,
     "metadata": {},
     "output_type": "execute_result"
    }
   ],
   "source": [
    "12 and 34"
   ]
  },
  {
   "cell_type": "code",
   "execution_count": 100,
   "metadata": {},
   "outputs": [
    {
     "data": {
      "text/plain": [
       "3"
      ]
     },
     "execution_count": 100,
     "metadata": {},
     "output_type": "execute_result"
    }
   ],
   "source": [
    "12 and 3"
   ]
  },
  {
   "cell_type": "code",
   "execution_count": 101,
   "metadata": {},
   "outputs": [
    {
     "data": {
      "text/plain": [
       "56"
      ]
     },
     "execution_count": 101,
     "metadata": {},
     "output_type": "execute_result"
    }
   ],
   "source": [
    "8576 and 56"
   ]
  },
  {
   "cell_type": "code",
   "execution_count": 102,
   "metadata": {},
   "outputs": [
    {
     "data": {
      "text/plain": [
       "34"
      ]
     },
     "execution_count": 102,
     "metadata": {},
     "output_type": "execute_result"
    }
   ],
   "source": [
    "34 or 56"
   ]
  },
  {
   "cell_type": "code",
   "execution_count": 103,
   "metadata": {},
   "outputs": [
    {
     "data": {
      "text/plain": [
       "345"
      ]
     },
     "execution_count": 103,
     "metadata": {},
     "output_type": "execute_result"
    }
   ],
   "source": [
    "345 or 78"
   ]
  },
  {
   "cell_type": "code",
   "execution_count": 104,
   "metadata": {},
   "outputs": [
    {
     "data": {
      "text/plain": [
       "435"
      ]
     },
     "execution_count": 104,
     "metadata": {},
     "output_type": "execute_result"
    }
   ],
   "source": [
    "435 or 0"
   ]
  },
  {
   "cell_type": "code",
   "execution_count": 105,
   "metadata": {},
   "outputs": [
    {
     "data": {
      "text/plain": [
       "False"
      ]
     },
     "execution_count": 105,
     "metadata": {},
     "output_type": "execute_result"
    }
   ],
   "source": [
    "not 1"
   ]
  },
  {
   "cell_type": "code",
   "execution_count": 106,
   "metadata": {},
   "outputs": [
    {
     "data": {
      "text/plain": [
       "False"
      ]
     },
     "execution_count": 106,
     "metadata": {},
     "output_type": "execute_result"
    }
   ],
   "source": [
    "not 657"
   ]
  },
  {
   "cell_type": "code",
   "execution_count": 107,
   "metadata": {},
   "outputs": [
    {
     "data": {
      "text/plain": [
       "True"
      ]
     },
     "execution_count": 107,
     "metadata": {},
     "output_type": "execute_result"
    }
   ],
   "source": [
    "not 0"
   ]
  },
  {
   "cell_type": "code",
   "execution_count": 108,
   "metadata": {},
   "outputs": [
    {
     "data": {
      "text/plain": [
       "False"
      ]
     },
     "execution_count": 108,
     "metadata": {},
     "output_type": "execute_result"
    }
   ],
   "source": [
    "not -1"
   ]
  },
  {
   "cell_type": "code",
   "execution_count": 111,
   "metadata": {},
   "outputs": [
    {
     "data": {
      "text/plain": [
       "True"
      ]
     },
     "execution_count": 111,
     "metadata": {},
     "output_type": "execute_result"
    }
   ],
   "source": [
    "not (False and True)"
   ]
  },
  {
   "cell_type": "code",
   "execution_count": 112,
   "metadata": {},
   "outputs": [
    {
     "data": {
      "text/plain": [
       "2"
      ]
     },
     "execution_count": 112,
     "metadata": {},
     "output_type": "execute_result"
    }
   ],
   "source": [
    "# Bitwise Operators ( & -- and , |  -- or , ~  -- not , ^  -- exor , >> -- right shift, << -- left shift)\n",
    "\n",
    "10 & 2  "
   ]
  },
  {
   "cell_type": "markdown",
   "metadata": {},
   "source": [
    "10 --- 1010\n",
    "2  --- 0010\n",
    "and -  0010  - 2\n",
    "or  -  1010  - 10"
   ]
  },
  {
   "cell_type": "code",
   "execution_count": 113,
   "metadata": {},
   "outputs": [
    {
     "data": {
      "text/plain": [
       "10"
      ]
     },
     "execution_count": 113,
     "metadata": {},
     "output_type": "execute_result"
    }
   ],
   "source": [
    "10 | 2"
   ]
  },
  {
   "cell_type": "code",
   "execution_count": 162,
   "metadata": {},
   "outputs": [
    {
     "data": {
      "text/plain": [
       "-13"
      ]
     },
     "execution_count": 162,
     "metadata": {},
     "output_type": "execute_result"
    }
   ],
   "source": [
    "#-(n+1)\n",
    "\n",
    "~ 12   # -(12+1)"
   ]
  },
  {
   "cell_type": "code",
   "execution_count": 165,
   "metadata": {},
   "outputs": [
    {
     "data": {
      "text/plain": [
       "12"
      ]
     },
     "execution_count": 165,
     "metadata": {},
     "output_type": "execute_result"
    }
   ],
   "source": [
    "~ -13   # -(-13+1)"
   ]
  },
  {
   "cell_type": "code",
   "execution_count": 173,
   "metadata": {},
   "outputs": [
    {
     "data": {
      "text/plain": [
       "6.0"
      ]
     },
     "execution_count": 173,
     "metadata": {},
     "output_type": "execute_result"
    }
   ],
   "source": [
    "12/2"
   ]
  },
  {
   "cell_type": "code",
   "execution_count": 114,
   "metadata": {
    "scrolled": true
   },
   "outputs": [
    {
     "data": {
      "text/plain": [
       "-2"
      ]
     },
     "execution_count": 114,
     "metadata": {},
     "output_type": "execute_result"
    }
   ],
   "source": [
    "~ 1"
   ]
  },
  {
   "cell_type": "code",
   "execution_count": 122,
   "metadata": {},
   "outputs": [
    {
     "data": {
      "text/plain": [
       "0"
      ]
     },
     "execution_count": 122,
     "metadata": {},
     "output_type": "execute_result"
    }
   ],
   "source": [
    "~ -1  # -(-1+1)"
   ]
  },
  {
   "cell_type": "code",
   "execution_count": 116,
   "metadata": {},
   "outputs": [
    {
     "data": {
      "text/plain": [
       "-10"
      ]
     },
     "execution_count": 116,
     "metadata": {},
     "output_type": "execute_result"
    }
   ],
   "source": [
    "~ 9"
   ]
  },
  {
   "cell_type": "code",
   "execution_count": 123,
   "metadata": {},
   "outputs": [
    {
     "data": {
      "text/plain": [
       "89"
      ]
     },
     "execution_count": 123,
     "metadata": {},
     "output_type": "execute_result"
    }
   ],
   "source": [
    "~ -90  # -(-90+1)  --> -(-89)"
   ]
  },
  {
   "cell_type": "code",
   "execution_count": 118,
   "metadata": {},
   "outputs": [
    {
     "data": {
      "text/plain": [
       "-91"
      ]
     },
     "execution_count": 118,
     "metadata": {},
     "output_type": "execute_result"
    }
   ],
   "source": [
    "~ 90"
   ]
  },
  {
   "cell_type": "code",
   "execution_count": 121,
   "metadata": {},
   "outputs": [
    {
     "data": {
      "text/plain": [
       "-2"
      ]
     },
     "execution_count": 121,
     "metadata": {},
     "output_type": "execute_result"
    }
   ],
   "source": [
    "# -(n+1)\n",
    "-(1+1)"
   ]
  },
  {
   "cell_type": "code",
   "execution_count": 130,
   "metadata": {},
   "outputs": [
    {
     "data": {
      "text/plain": [
       "14"
      ]
     },
     "execution_count": 130,
     "metadata": {},
     "output_type": "execute_result"
    }
   ],
   "source": [
    "12 ^ 2\n",
    "\n",
    "# 12 -- 1100\n",
    "# 2  -- 0010\n",
    "# ^  -- 1110 -- 14"
   ]
  },
  {
   "cell_type": "code",
   "execution_count": 129,
   "metadata": {},
   "outputs": [
    {
     "data": {
      "text/plain": [
       "0"
      ]
     },
     "execution_count": 129,
     "metadata": {},
     "output_type": "execute_result"
    }
   ],
   "source": [
    "3 ^ 3\n",
    "\n",
    "# 3 -- 011\n",
    "# 3 -- 011\n",
    "# ^ -  000"
   ]
  },
  {
   "cell_type": "code",
   "execution_count": 131,
   "metadata": {},
   "outputs": [
    {
     "data": {
      "text/plain": [
       "-3"
      ]
     },
     "execution_count": 131,
     "metadata": {},
     "output_type": "execute_result"
    }
   ],
   "source": [
    "~ 2  # -(n+1)"
   ]
  },
  {
   "cell_type": "code",
   "execution_count": 138,
   "metadata": {},
   "outputs": [
    {
     "data": {
      "text/plain": [
       "3"
      ]
     },
     "execution_count": 138,
     "metadata": {},
     "output_type": "execute_result"
    }
   ],
   "source": [
    "# >> right shift\n",
    "12 >> 2     # float division by 2\n",
    "\n",
    "# 12 - 1100\n",
    "# 1  - 0110\n",
    "# 2  - 0011\n",
    "\n",
    "(12 // 2) //2"
   ]
  },
  {
   "cell_type": "code",
   "execution_count": 139,
   "metadata": {},
   "outputs": [
    {
     "data": {
      "text/plain": [
       "6"
      ]
     },
     "execution_count": 139,
     "metadata": {},
     "output_type": "execute_result"
    }
   ],
   "source": [
    "12 >> 1\n",
    "12 // 2"
   ]
  },
  {
   "cell_type": "code",
   "execution_count": 142,
   "metadata": {},
   "outputs": [
    {
     "data": {
      "text/plain": [
       "1"
      ]
     },
     "execution_count": 142,
     "metadata": {},
     "output_type": "execute_result"
    }
   ],
   "source": [
    "12 >> 3\n",
    "\n",
    "((12//2)//2)//2"
   ]
  },
  {
   "cell_type": "code",
   "execution_count": 144,
   "metadata": {},
   "outputs": [
    {
     "data": {
      "text/plain": [
       "12"
      ]
     },
     "execution_count": 144,
     "metadata": {},
     "output_type": "execute_result"
    }
   ],
   "source": [
    "12 >> 0\n"
   ]
  },
  {
   "cell_type": "code",
   "execution_count": 152,
   "metadata": {},
   "outputs": [
    {
     "data": {
      "text/plain": [
       "96"
      ]
     },
     "execution_count": 152,
     "metadata": {},
     "output_type": "execute_result"
    }
   ],
   "source": [
    "# Left shift\n",
    "12 << 3  # mul by 2, 3 times\n",
    "  \n",
    "12*2*2*2"
   ]
  },
  {
   "cell_type": "code",
   "execution_count": 153,
   "metadata": {},
   "outputs": [
    {
     "data": {
      "text/plain": [
       "12"
      ]
     },
     "execution_count": 153,
     "metadata": {},
     "output_type": "execute_result"
    }
   ],
   "source": [
    "12 << 0\n",
    "\n",
    "# 12 -- 1100\n",
    "# 0 --  1100\n"
   ]
  },
  {
   "cell_type": "code",
   "execution_count": null,
   "metadata": {},
   "outputs": [],
   "source": [
    "\"\"\"\n",
    "## Task \n",
    "* Calculate speed of light * given data\n",
    "\n",
    "\"\"\""
   ]
  },
  {
   "cell_type": "code",
   "execution_count": null,
   "metadata": {},
   "outputs": [],
   "source": [
    "n = 100\n",
    "sl = formula\n",
    "n*s1"
   ]
  },
  {
   "cell_type": "code",
   "execution_count": 159,
   "metadata": {},
   "outputs": [
    {
     "data": {
      "text/plain": [
       "str"
      ]
     },
     "execution_count": 159,
     "metadata": {},
     "output_type": "execute_result"
    }
   ],
   "source": [
    "v = \"\"\"fdghh\n",
    " jdffgg\"\"\"\n",
    "type(v)"
   ]
  },
  {
   "cell_type": "code",
   "execution_count": 158,
   "metadata": {},
   "outputs": [
    {
     "data": {
      "text/plain": [
       "' jhgfh\\njgdf\\njfdhg '"
      ]
     },
     "execution_count": 158,
     "metadata": {},
     "output_type": "execute_result"
    }
   ],
   "source": [
    "\"\"\" jhgfh\n",
    "jgdf\n",
    "jfdhg \"\"\""
   ]
  },
  {
   "cell_type": "code",
   "execution_count": null,
   "metadata": {},
   "outputs": [],
   "source": []
  }
 ],
 "metadata": {
  "kernelspec": {
   "display_name": "Python 3",
   "language": "python",
   "name": "python3"
  },
  "language_info": {
   "codemirror_mode": {
    "name": "ipython",
    "version": 3
   },
   "file_extension": ".py",
   "mimetype": "text/x-python",
   "name": "python",
   "nbconvert_exporter": "python",
   "pygments_lexer": "ipython3",
   "version": "3.7.3"
  }
 },
 "nbformat": 4,
 "nbformat_minor": 2
}


