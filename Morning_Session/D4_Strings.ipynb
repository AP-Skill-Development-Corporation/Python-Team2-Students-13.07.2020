{
 "cells": [
  {
   "cell_type": "markdown",
   "metadata": {},
   "source": [
    "# Day Objectives\n",
    "\n",
    "## Loops \n",
    "    * pass\n",
    "    * break\n",
    "    * continue\n",
    "    \n",
    "## Strings\n",
    "    * A string is a sequence of characters\n",
    "    * Enclosed With Quotes \n",
    "\n"
   ]
  },
  {
   "cell_type": "code",
   "execution_count": 4,
   "metadata": {},
   "outputs": [
    {
     "name": "stdout",
     "output_type": "stream",
     "text": [
      "enter a number:45\n",
      "enter operator:/\n",
      "enter a number:6\n",
      "press = to see the result\n",
      "=\n",
      "7.5\n"
     ]
    }
   ],
   "source": [
    "\n",
    "num1 = int(input(\"enter a number:\"))\n",
    "op = input(\"enter operator:\")\n",
    "num2 = int(input(\"enter a number:\"))\n",
    "\n",
    "print(\"press = to see the result\")\n",
    "enter = input()\n",
    "if enter == \"=\" :\n",
    "    if op == \"+\" :\n",
    "        print(num1+num2)\n",
    "    elif op == \"-\" :\n",
    "        print(num1-num2)\n",
    "    elif op == \"*\" :\n",
    "        print(num1*num2)\n",
    "    elif op == \"/\" :\n",
    "        print(num1/num2)\n",
    "    else :\n",
    "        print(\"ERROR : enter a valid operator\")\n",
    "else :\n",
    "    print(\"press =\")"
   ]
  },
  {
   "cell_type": "code",
   "execution_count": null,
   "metadata": {
    "collapsed": true
   },
   "outputs": [
    {
     "name": "stdout",
     "output_type": "stream",
     "text": [
      "enter number7\n",
      "enter operation+\n",
      "enter number6\n",
      "enter operation6\n",
      "enter numberhb\n",
      "invalid input\n"
     ]
    }
   ],
   "source": [
    "a=int(input(\"enter number\"))\n",
    "c=input(\"enter operation\")  \n",
    "while c!='=': \n",
    "    b=input(\"enter number\")\n",
    "\n",
    "    if c=='+'  :\n",
    "           a=a+int(b)\n",
    "    elif c=='-':\n",
    "           a=a-int(b)\n",
    "    elif c=='*':\n",
    "           a=a*int(b)\n",
    "    elif c=='/':      \n",
    "           a=a/int(b) \n",
    "\n",
    "    else:\n",
    "        print(\"invalid input\")\n",
    "    c=input(\"enter operation\")    "
   ]
  },
  {
   "cell_type": "code",
   "execution_count": 5,
   "metadata": {},
   "outputs": [
    {
     "name": "stdout",
     "output_type": "stream",
     "text": [
      "Select your operation.\n",
      "1.Add\n",
      "2.Subtract\n",
      "3.Multiply\n",
      "4.Divide\n",
      "Enter choice(1/2/3/4): 3\n",
      "Enter first number: 45\n",
      "Enter second number: 2\n",
      "90.0\n",
      "enter a value for the wich operation perfoming : 2\n",
      "Enter the first value : 45\n",
      "Enter the second value : 2\n",
      "that undifined operation \n"
     ]
    }
   ],
   "source": [
    "\n",
    "#Calculator\n",
    "print(\"Select your operation.\")\n",
    "print(\"1.Add\")\n",
    "print(\"2.Subtract\")\n",
    "print(\"3.Multiply\")\n",
    "print(\"4.Divide\")\n",
    "\n",
    "choice = input(\"Enter choice(1/2/3/4): \")\n",
    "\n",
    "if choice in ('1', '2', '3', '4'):\n",
    "    num1 = float(input(\"Enter first number: \"))\n",
    "    num2 = float(input(\"Enter second number: \"))\n",
    "\n",
    "    if choice == '1':\n",
    "        print(num1+num2)\n",
    "\n",
    "    elif choice == '2':\n",
    "        print(num1-num2)\n",
    "\n",
    "    elif choice == '3':\n",
    "        print(num1*num2)\n",
    "\n",
    "    elif choice == '4':\n",
    "        print(num1/num2)\n",
    "        \n",
    "else:\n",
    "    print(\"Invalid Input\")\n",
    "\n",
    "\n",
    "operation=input('enter a value for the wich operation perfoming : ')\n",
    "value_1=int(input('Enter the first value : '))\n",
    "value_2=int(input('Enter the second value : '))\n",
    "if operation =='+':\n",
    "        add =value_1+value_2\n",
    "        print('The sum of two values is :',add)\n",
    "elif operation=='-':\n",
    "        sub=value_1-value_2\n",
    "        print('The differance of two values is :',sub)\n",
    "elif operation=='*':\n",
    "        mul=value_1*value_2\n",
    "        print('The product of two values is :',mul)\n",
    "elif operation=='/':\n",
    "        div=value_1/value_2\n",
    "        print('The reminder of two values is :',div)\n",
    "else:\n",
    "    print('that undifined operation ')\n"
   ]
  },
  {
   "cell_type": "code",
   "execution_count": 7,
   "metadata": {},
   "outputs": [
    {
     "name": "stdout",
     "output_type": "stream",
     "text": [
      "enter a value for the wich operation perfoming : *\n",
      "Enter the first value : 34\n",
      "Enter the second value : 43\n",
      "The product of two values is : 1462\n"
     ]
    }
   ],
   "source": [
    "operation=input('enter a value for the wich operation perfoming : ')\n",
    "value_1=int(input('Enter the first value : '))\n",
    "value_2=int(input('Enter the second value : '))\n",
    "if operation =='+':\n",
    "        add =value_1+value_2\n",
    "        print('The sum of two values is :',add)\n",
    "elif operation=='-':\n",
    "        sub=value_1-value_2\n",
    "        print('The differance of two values is :',sub)\n",
    "elif operation=='*':\n",
    "        mul=value_1*value_2\n",
    "        print('The product of two values is :',mul)\n",
    "elif operation=='/':\n",
    "        div=value_1/value_2\n",
    "        print('The reminder of two values is :',div)\n",
    "else:\n",
    "    print('that undifined operation ')"
   ]
  },
  {
   "cell_type": "code",
   "execution_count": 4,
   "metadata": {},
   "outputs": [
    {
     "name": "stdout",
     "output_type": "stream",
     "text": [
      "1 lavanya 2 lavanya 3 lavanya 4 lavanya 5 lavanya 6 lavanya 7 lavanya 8 lavanya 9 lavanya 10 lavanya 11 lavanya 12 lavanya 13 lavanya 14 lavanya 15 lavanya 16 lavanya 17 lavanya 18 lavanya 19 lavanya 20 lavanya "
     ]
    }
   ],
   "source": [
    "a = 1\n",
    "b = 20\n",
    "for i in range(1,b+1):\n",
    "    print(i,\"lavanya\",end = ' ')"
   ]
  },
  {
   "cell_type": "markdown",
   "metadata": {},
   "source": [
    "# Iterators\n",
    "For Loop    -- \n",
    "syntax for var in range(start_val,end_val,step_val)\n",
    "\n",
    "While Loop  -- \n",
    "\n",
    "syntax \n",
    "init\n",
    "while condition:\n",
    "    statements \n",
    "    inc/dec"
   ]
  },
  {
   "cell_type": "code",
   "execution_count": 9,
   "metadata": {},
   "outputs": [
    {
     "name": "stdout",
     "output_type": "stream",
     "text": [
      "lavanya 0\n",
      "lavanya 5\n",
      "lavanya 10\n",
      "lavanya 15\n"
     ]
    }
   ],
   "source": [
    "for var in range(0,2000000000000000000000000000000000000000000000000,5):\n",
    "    print(\"lavanya\",var)\n",
    "    "
   ]
  },
  {
   "cell_type": "code",
   "execution_count": 10,
   "metadata": {},
   "outputs": [
    {
     "name": "stdout",
     "output_type": "stream",
     "text": [
      "lavanya 20\n",
      "lavanya 15\n",
      "lavanya 10\n"
     ]
    }
   ],
   "source": [
    "for var in range(20,5,-5):\n",
    "    print(\"lavanya\",var)"
   ]
  },
  {
   "cell_type": "code",
   "execution_count": 14,
   "metadata": {},
   "outputs": [
    {
     "name": "stdout",
     "output_type": "stream",
     "text": [
      "10\n",
      "8\n",
      "6\n",
      "4\n",
      "2\n"
     ]
    }
   ],
   "source": [
    "val = 10\n",
    "while val > 1:\n",
    "    print(val)\n",
    "    val -= 2"
   ]
  },
  {
   "cell_type": "code",
   "execution_count": 16,
   "metadata": {
    "collapsed": true
   },
   "outputs": [
    {
     "name": "stdout",
     "output_type": "stream",
     "text": [
      "1\n",
      "2\n",
      "3\n",
      "4\n",
      "5\n",
      "6\n",
      "7\n",
      "8\n",
      "9\n",
      "10\n",
      "11\n",
      "12\n",
      "13\n",
      "14\n",
      "15\n"
     ]
    }
   ],
   "source": [
    "val = 1\n",
    "while val <= 15 :\n",
    "    print(val)\n",
    "    val += 1\n",
    "    # val = val+1"
   ]
  },
  {
   "cell_type": "code",
   "execution_count": 21,
   "metadata": {},
   "outputs": [
    {
     "name": "stdout",
     "output_type": "stream",
     "text": [
      "1\n",
      "2\n",
      "3\n",
      "4\n",
      "5\n",
      "Invalid\n"
     ]
    }
   ],
   "source": [
    "# Loops \n",
    "# break\n",
    "val = 1\n",
    "while val <= 10 :\n",
    "    print(val)\n",
    "    if val == 5:\n",
    "        print(\"Invalid\")\n",
    "        break\n",
    "        \n",
    "    val += 1"
   ]
  },
  {
   "cell_type": "code",
   "execution_count": 23,
   "metadata": {},
   "outputs": [
    {
     "name": "stdout",
     "output_type": "stream",
     "text": [
      "Enter your friend Namedf\n",
      "df\n",
      "Enter your friend Namedfgf\n",
      "dfgf\n",
      "Enter your friend Namefdg\n",
      "fdg\n",
      "Enter your friend Nameravi\n",
      "ravi\n"
     ]
    }
   ],
   "source": [
    "# \"lavanya\",\"chandu\",\"niha\",'teja',\"ravi\",\"rahul\",\"karthik\"\n",
    "while 2:\n",
    "    name = input(\"Enter your friend Name\")\n",
    "    print(name)\n",
    "    if name == \"ravi\":\n",
    "        break  "
   ]
  },
  {
   "cell_type": "raw",
   "metadata": {},
   "source": [
    "i = 0\n",
    "while 1:\n",
    "    print(i)\n",
    "    i += 1"
   ]
  },
  {
   "cell_type": "code",
   "execution_count": null,
   "metadata": {
    "collapsed": true
   },
   "outputs": [
    {
     "name": "stdout",
     "output_type": "stream",
     "text": [
      "Enter your friend Namelavanya\n",
      "lavanya\n",
      "Enter your friend Namechinnu\n",
      "chinnu\n",
      "Enter your friend Namehepzibah\n",
      "hepzibah\n",
      "Enter your friend Namefiroz\n",
      "firoz\n",
      "Enter your friend Nameravi\n",
      "ravi\n",
      "Enter your friend Namehu\n",
      "hu\n",
      "Enter your friend Namehu\n",
      "hu\n",
      "Enter your friend Namehu\n",
      "hu\n",
      "Enter your friend Namejchvj\n",
      "jchvj\n",
      "Enter your friend Namejchgjvx\n",
      "jchgjvx\n",
      "Enter your friend Namehcxgvj\n",
      "hcxgvj\n"
     ]
    }
   ],
   "source": [
    "# Continue\n",
    "while 2:\n",
    "    name = input(\"Enter your friend Name\")\n",
    "    print(name)\n",
    "    if name == \"ravi\":\n",
    "        continue  \n"
   ]
  },
  {
   "cell_type": "code",
   "execution_count": 2,
   "metadata": {},
   "outputs": [
    {
     "name": "stdout",
     "output_type": "stream",
     "text": [
      "1 * 2 * 3 * 4 * 5 * 6 * 7 * 8 * 9 * 11 * 12 * 13 * 14 * 15 * 16 * 17 * 18 * 19 * 20 * 21 * "
     ]
    }
   ],
   "source": [
    "val = 0\n",
    "while val <= 20:\n",
    "    val += 1\n",
    "    \n",
    "    \n",
    "    if val == 10:\n",
    "        \n",
    "        continue\n",
    "    print(val, end = ' * ')\n",
    "    "
   ]
  },
  {
   "cell_type": "code",
   "execution_count": 4,
   "metadata": {},
   "outputs": [
    {
     "name": "stdout",
     "output_type": "stream",
     "text": [
      "1 * 2 * 3 * 4 * 6 * 7 * 8 * 9 * 10 * 11 * 12 * 13 * 14 * 15 * 16 * 17 * 18 * 19 * 20 * 21 * "
     ]
    }
   ],
   "source": [
    "val = 0\n",
    "while val <= 20:\n",
    "    val += 1\n",
    "    if val == 5:\n",
    "        continue\n",
    "    print(val, end = ' * ')"
   ]
  },
  {
   "cell_type": "code",
   "execution_count": 7,
   "metadata": {},
   "outputs": [],
   "source": [
    "# pass\n",
    "for i in range(0,10):\n",
    "    pass"
   ]
  },
  {
   "cell_type": "code",
   "execution_count": null,
   "metadata": {},
   "outputs": [],
   "source": [
    "lavanya = 18\n",
    "if lavanya > 18 :\n",
    "    pass"
   ]
  },
  {
   "cell_type": "code",
   "execution_count": 4,
   "metadata": {},
   "outputs": [
    {
     "name": "stdout",
     "output_type": "stream",
     "text": [
      "a\n",
      "p\n",
      "s\n",
      "s\n",
      "c\n"
     ]
    }
   ],
   "source": [
    "name = \"apssdc\"\n",
    "for char in name:\n",
    "    if char == 'd':\n",
    "        continue\n",
    "    print(char)"
   ]
  },
  {
   "cell_type": "code",
   "execution_count": 5,
   "metadata": {},
   "outputs": [
    {
     "name": "stdout",
     "output_type": "stream",
     "text": [
      "a\n",
      "p\n",
      "s\n",
      "s\n"
     ]
    }
   ],
   "source": [
    "name = \"apssdc\"\n",
    "for char in name:\n",
    "    if char == 'd':\n",
    "        break\n",
    "    print(char)"
   ]
  },
  {
   "cell_type": "code",
   "execution_count": 6,
   "metadata": {},
   "outputs": [
    {
     "name": "stdout",
     "output_type": "stream",
     "text": [
      "a\n",
      "p\n",
      "s\n",
      "s\n",
      "d\n",
      "c\n"
     ]
    }
   ],
   "source": [
    "name = \"apssdc\"\n",
    "for char in name:\n",
    "    if char == 'd':\n",
    "        pass\n",
    "    print(char)"
   ]
  },
  {
   "cell_type": "markdown",
   "metadata": {},
   "source": [
    "# Strings"
   ]
  },
  {
   "cell_type": "code",
   "execution_count": null,
   "metadata": {},
   "outputs": [],
   "source": [
    "'c'   -- char (c)  -- string with length of 1 (python)\n",
    "\"string\" -- string \n",
    "''\n",
    "\"\"\n",
    "\"\"\"\"\"\"\n"
   ]
  },
  {
   "cell_type": "code",
   "execution_count": 7,
   "metadata": {},
   "outputs": [
    {
     "data": {
      "text/plain": [
       "str"
      ]
     },
     "execution_count": 7,
     "metadata": {},
     "output_type": "execute_result"
    }
   ],
   "source": [
    "type('')"
   ]
  },
  {
   "cell_type": "code",
   "execution_count": 8,
   "metadata": {},
   "outputs": [
    {
     "data": {
      "text/plain": [
       "str"
      ]
     },
     "execution_count": 8,
     "metadata": {},
     "output_type": "execute_result"
    }
   ],
   "source": [
    "type(\"\")"
   ]
  },
  {
   "cell_type": "code",
   "execution_count": 9,
   "metadata": {},
   "outputs": [
    {
     "data": {
      "text/plain": [
       "str"
      ]
     },
     "execution_count": 9,
     "metadata": {},
     "output_type": "execute_result"
    }
   ],
   "source": [
    "type(\"\"\"\"\"\")"
   ]
  },
  {
   "cell_type": "code",
   "execution_count": 11,
   "metadata": {},
   "outputs": [
    {
     "name": "stdout",
     "output_type": "stream",
     "text": [
      "234\n"
     ]
    }
   ],
   "source": [
    "# \"\"\"\n",
    "# dsjf\n",
    "# jdhgsfj\n",
    "# fjdhgkj\n",
    "# dbg\n",
    "# \"\"\"\n",
    "print( 234)"
   ]
  },
  {
   "cell_type": "code",
   "execution_count": 12,
   "metadata": {},
   "outputs": [
    {
     "data": {
      "text/plain": [
       "str"
      ]
     },
     "execution_count": 12,
     "metadata": {},
     "output_type": "execute_result"
    }
   ],
   "source": [
    "st = \"apssdc\"   # index 0\n",
    "type(st)"
   ]
  },
  {
   "cell_type": "code",
   "execution_count": 13,
   "metadata": {},
   "outputs": [
    {
     "data": {
      "text/plain": [
       "'a'"
      ]
     },
     "execution_count": 13,
     "metadata": {},
     "output_type": "execute_result"
    }
   ],
   "source": [
    "# String Slicing  [start_val:end_val:step_val]\n",
    "\n",
    "st[0]"
   ]
  },
  {
   "cell_type": "code",
   "execution_count": 14,
   "metadata": {
    "scrolled": false
   },
   "outputs": [
    {
     "data": {
      "text/plain": [
       "'p'"
      ]
     },
     "execution_count": 14,
     "metadata": {},
     "output_type": "execute_result"
    }
   ],
   "source": [
    "st[1]"
   ]
  },
  {
   "cell_type": "code",
   "execution_count": 15,
   "metadata": {},
   "outputs": [
    {
     "data": {
      "text/plain": [
       "'aps'"
      ]
     },
     "execution_count": 15,
     "metadata": {},
     "output_type": "execute_result"
    }
   ],
   "source": [
    "st[0:3]  # 012"
   ]
  },
  {
   "cell_type": "markdown",
   "metadata": {},
   "source": [
    "a  p   s  s  d  c\n",
    "0  1   2  3  4  5\n",
    "\n",
    "0:3\n",
    "0,1,2\n",
    "aps\n",
    "\n",
    "3:5\n",
    "3,4\n",
    "sd"
   ]
  },
  {
   "cell_type": "code",
   "execution_count": 19,
   "metadata": {
    "scrolled": true
   },
   "outputs": [
    {
     "data": {
      "text/plain": [
       "'apssdc'"
      ]
     },
     "execution_count": 19,
     "metadata": {},
     "output_type": "execute_result"
    }
   ],
   "source": [
    "st[:]   # [all:all]"
   ]
  },
  {
   "cell_type": "code",
   "execution_count": 20,
   "metadata": {},
   "outputs": [
    {
     "data": {
      "text/plain": [
       "'apss'"
      ]
     },
     "execution_count": 20,
     "metadata": {},
     "output_type": "execute_result"
    }
   ],
   "source": [
    "st[0:4]  # 0123"
   ]
  },
  {
   "cell_type": "code",
   "execution_count": 21,
   "metadata": {},
   "outputs": [
    {
     "data": {
      "text/plain": [
       "'sd'"
      ]
     },
     "execution_count": 21,
     "metadata": {},
     "output_type": "execute_result"
    }
   ],
   "source": [
    "st[3:5]  # 3,4"
   ]
  },
  {
   "cell_type": "code",
   "execution_count": 22,
   "metadata": {},
   "outputs": [
    {
     "data": {
      "text/plain": [
       "'apssdc'"
      ]
     },
     "execution_count": 22,
     "metadata": {},
     "output_type": "execute_result"
    }
   ],
   "source": [
    "st"
   ]
  },
  {
   "cell_type": "code",
   "execution_count": 23,
   "metadata": {},
   "outputs": [
    {
     "data": {
      "text/plain": [
       "'c'"
      ]
     },
     "execution_count": 23,
     "metadata": {},
     "output_type": "execute_result"
    }
   ],
   "source": [
    "st[5]"
   ]
  },
  {
   "cell_type": "code",
   "execution_count": 26,
   "metadata": {},
   "outputs": [
    {
     "data": {
      "text/plain": [
       "'sd'"
      ]
     },
     "execution_count": 26,
     "metadata": {},
     "output_type": "execute_result"
    }
   ],
   "source": [
    "st[3:5]"
   ]
  },
  {
   "cell_type": "code",
   "execution_count": 28,
   "metadata": {},
   "outputs": [
    {
     "data": {
      "text/plain": [
       "'asd'"
      ]
     },
     "execution_count": 28,
     "metadata": {},
     "output_type": "execute_result"
    }
   ],
   "source": [
    "st[::2]  # 0,2,4"
   ]
  },
  {
   "cell_type": "code",
   "execution_count": 29,
   "metadata": {},
   "outputs": [
    {
     "data": {
      "text/plain": [
       "'psc'"
      ]
     },
     "execution_count": 29,
     "metadata": {},
     "output_type": "execute_result"
    }
   ],
   "source": [
    "st[1::2]  # 1,3,5"
   ]
  },
  {
   "cell_type": "code",
   "execution_count": 34,
   "metadata": {},
   "outputs": [
    {
     "name": "stdout",
     "output_type": "stream",
     "text": [
      "apssdc\n"
     ]
    },
    {
     "data": {
      "text/plain": [
       "'cdsspa'"
      ]
     },
     "execution_count": 34,
     "metadata": {},
     "output_type": "execute_result"
    }
   ],
   "source": [
    "# NEgative Slicing\n",
    "print(st)\n",
    "st[::-1]  # reverse order"
   ]
  },
  {
   "cell_type": "code",
   "execution_count": 50,
   "metadata": {},
   "outputs": [
    {
     "data": {
      "text/plain": [
       "'sp'"
      ]
     },
     "execution_count": 50,
     "metadata": {},
     "output_type": "execute_result"
    }
   ],
   "source": [
    "st[-4:-6:-1]"
   ]
  },
  {
   "cell_type": "code",
   "execution_count": null,
   "metadata": {},
   "outputs": [],
   "source": []
  },
  {
   "cell_type": "code",
   "execution_count": 44,
   "metadata": {},
   "outputs": [
    {
     "data": {
      "text/plain": [
       "'c'"
      ]
     },
     "execution_count": 44,
     "metadata": {},
     "output_type": "execute_result"
    }
   ],
   "source": [
    "st[5]\n",
    "st[-1]\n",
    "st[len(st)-1]   # last element"
   ]
  },
  {
   "cell_type": "code",
   "execution_count": 48,
   "metadata": {},
   "outputs": [
    {
     "data": {
      "text/plain": [
       "'Morning'"
      ]
     },
     "execution_count": 48,
     "metadata": {},
     "output_type": "execute_result"
    }
   ],
   "source": [
    "name = \"good Morning\"\n",
    "\n",
    "name[5:12]"
   ]
  },
  {
   "cell_type": "code",
   "execution_count": 55,
   "metadata": {},
   "outputs": [
    {
     "name": "stdout",
     "output_type": "stream",
     "text": [
      "enter nameapssdc\n",
      "not a palindrome\n"
     ]
    }
   ],
   "source": [
    "# Task \n",
    "# check the string is palindrome or not\n",
    "# mom  -- palindrome\n",
    "# apssdc -- not a palindrome\n",
    "\n",
    "st= input(\"enter name\")\n",
    "if st==st[::-1]:\n",
    "    print(\"it is a palindrome\")\n",
    "else:\n",
    "    print(\"not a palindrome\")"
   ]
  },
  {
   "cell_type": "code",
   "execution_count": 56,
   "metadata": {
    "collapsed": true
   },
   "outputs": [
    {
     "data": {
      "text/plain": [
       "['__add__',\n",
       " '__class__',\n",
       " '__contains__',\n",
       " '__delattr__',\n",
       " '__dir__',\n",
       " '__doc__',\n",
       " '__eq__',\n",
       " '__format__',\n",
       " '__ge__',\n",
       " '__getattribute__',\n",
       " '__getitem__',\n",
       " '__getnewargs__',\n",
       " '__gt__',\n",
       " '__hash__',\n",
       " '__init__',\n",
       " '__init_subclass__',\n",
       " '__iter__',\n",
       " '__le__',\n",
       " '__len__',\n",
       " '__lt__',\n",
       " '__mod__',\n",
       " '__mul__',\n",
       " '__ne__',\n",
       " '__new__',\n",
       " '__reduce__',\n",
       " '__reduce_ex__',\n",
       " '__repr__',\n",
       " '__rmod__',\n",
       " '__rmul__',\n",
       " '__setattr__',\n",
       " '__sizeof__',\n",
       " '__str__',\n",
       " '__subclasshook__',\n",
       " 'capitalize',\n",
       " 'casefold',\n",
       " 'center',\n",
       " 'count',\n",
       " 'encode',\n",
       " 'endswith',\n",
       " 'expandtabs',\n",
       " 'find',\n",
       " 'format',\n",
       " 'format_map',\n",
       " 'index',\n",
       " 'isalnum',\n",
       " 'isalpha',\n",
       " 'isascii',\n",
       " 'isdecimal',\n",
       " 'isdigit',\n",
       " 'isidentifier',\n",
       " 'islower',\n",
       " 'isnumeric',\n",
       " 'isprintable',\n",
       " 'isspace',\n",
       " 'istitle',\n",
       " 'isupper',\n",
       " 'join',\n",
       " 'ljust',\n",
       " 'lower',\n",
       " 'lstrip',\n",
       " 'maketrans',\n",
       " 'partition',\n",
       " 'replace',\n",
       " 'rfind',\n",
       " 'rindex',\n",
       " 'rjust',\n",
       " 'rpartition',\n",
       " 'rsplit',\n",
       " 'rstrip',\n",
       " 'split',\n",
       " 'splitlines',\n",
       " 'startswith',\n",
       " 'strip',\n",
       " 'swapcase',\n",
       " 'title',\n",
       " 'translate',\n",
       " 'upper',\n",
       " 'zfill']"
      ]
     },
     "execution_count": 56,
     "metadata": {},
     "output_type": "execute_result"
    }
   ],
   "source": [
    "# String Methods\n",
    "dir(str)"
   ]
  },
  {
   "cell_type": "code",
   "execution_count": 58,
   "metadata": {},
   "outputs": [
    {
     "name": "stdout",
     "output_type": "stream",
     "text": [
      "Help on method_descriptor:\n",
      "\n",
      "swapcase(self, /)\n",
      "    Convert uppercase characters to lowercase and lowercase characters to uppercase.\n",
      "\n"
     ]
    }
   ],
   "source": [
    "help(str.swapcase)"
   ]
  },
  {
   "cell_type": "code",
   "execution_count": 59,
   "metadata": {},
   "outputs": [
    {
     "data": {
      "text/plain": [
       "'heLLO eVERYONE..!'"
      ]
     },
     "execution_count": 59,
     "metadata": {},
     "output_type": "execute_result"
    }
   ],
   "source": [
    "name = \"HEllo Everyone..!\"\n",
    "name.swapcase()"
   ]
  },
  {
   "cell_type": "code",
   "execution_count": 60,
   "metadata": {},
   "outputs": [
    {
     "data": {
      "text/plain": [
       "['HEllo', 'Everyone..!']"
      ]
     },
     "execution_count": 60,
     "metadata": {},
     "output_type": "execute_result"
    }
   ],
   "source": [
    "name.split()  # default it takes space   and it returns list object"
   ]
  },
  {
   "cell_type": "code",
   "execution_count": 64,
   "metadata": {},
   "outputs": [
    {
     "data": {
      "text/plain": [
       "[' hi all ', ' get well soon']"
      ]
     },
     "execution_count": 64,
     "metadata": {},
     "output_type": "execute_result"
    }
   ],
   "source": [
    "s1 = \" hi all / get well soon\"\n",
    "s1.split('a')\n",
    "s1.split('/')"
   ]
  },
  {
   "cell_type": "code",
   "execution_count": 68,
   "metadata": {},
   "outputs": [
    {
     "data": {
      "text/plain": [
       "'Apssdc  good'"
      ]
     },
     "execution_count": 68,
     "metadata": {},
     "output_type": "execute_result"
    }
   ],
   "source": [
    "s2 = \"apssdc  good\"\n",
    "s2.capitalize()    # it converts only first letter in data"
   ]
  },
  {
   "cell_type": "code",
   "execution_count": 69,
   "metadata": {},
   "outputs": [
    {
     "data": {
      "text/plain": [
       "'Apssdc  Good'"
      ]
     },
     "execution_count": 69,
     "metadata": {},
     "output_type": "execute_result"
    }
   ],
   "source": [
    "s2.title()  # it converts uppercase  first letter in every string"
   ]
  },
  {
   "cell_type": "code",
   "execution_count": 70,
   "metadata": {},
   "outputs": [
    {
     "data": {
      "text/plain": [
       "[' hi all ', ' get well soon']"
      ]
     },
     "execution_count": 70,
     "metadata": {},
     "output_type": "execute_result"
    }
   ],
   "source": [
    "s1.split(\"/\")"
   ]
  },
  {
   "cell_type": "code",
   "execution_count": 71,
   "metadata": {},
   "outputs": [
    {
     "data": {
      "text/plain": [
       "'lavanya is good'"
      ]
     },
     "execution_count": 71,
     "metadata": {},
     "output_type": "execute_result"
    }
   ],
   "source": [
    "l = [\"lavanya\",\"is\",\"good\"]\n",
    "\" \".join(l)"
   ]
  },
  {
   "cell_type": "code",
   "execution_count": 80,
   "metadata": {},
   "outputs": [
    {
     "name": "stdout",
     "output_type": "stream",
     "text": [
      "True\n",
      "False\n",
      "APSSDC DBJFG JHFGJF GJHGFH HFJKDGKHF JKFDHGJ FBGKJ\n"
     ]
    }
   ],
   "source": [
    "s3 = \"apssdc dbjfg jhfgjf gjhgfh hfjkdgkhf jkfdhgj fbgkj\"\n",
    "print(s3.islower())\n",
    "print(s3.isupper())\n",
    "print(s3.upper())"
   ]
  },
  {
   "cell_type": "code",
   "execution_count": 82,
   "metadata": {},
   "outputs": [
    {
     "data": {
      "text/plain": [
       "'god is good '"
      ]
     },
     "execution_count": 82,
     "metadata": {},
     "output_type": "execute_result"
    }
   ],
   "source": [
    "s4 = \"GOD IS GOOD \"\n",
    "s4.lower()\n"
   ]
  },
  {
   "cell_type": "code",
   "execution_count": 91,
   "metadata": {},
   "outputs": [
    {
     "data": {
      "text/plain": [
       "True"
      ]
     },
     "execution_count": 91,
     "metadata": {},
     "output_type": "execute_result"
    }
   ],
   "source": [
    "s5 = \"395089458\"\n",
    "s5.isnumeric()"
   ]
  },
  {
   "cell_type": "code",
   "execution_count": 90,
   "metadata": {},
   "outputs": [
    {
     "data": {
      "text/plain": [
       "True"
      ]
     },
     "execution_count": 90,
     "metadata": {},
     "output_type": "execute_result"
    }
   ],
   "source": [
    "s6 = \"congrats\"\n",
    "s6.isalpha()"
   ]
  },
  {
   "cell_type": "code",
   "execution_count": 93,
   "metadata": {},
   "outputs": [
    {
     "data": {
      "text/plain": [
       "True"
      ]
     },
     "execution_count": 93,
     "metadata": {},
     "output_type": "execute_result"
    }
   ],
   "source": [
    "s7 = \"465fgbf\"\n",
    "s7.isalnum()"
   ]
  },
  {
   "cell_type": "code",
   "execution_count": 102,
   "metadata": {},
   "outputs": [
    {
     "name": "stdout",
     "output_type": "stream",
     "text": [
      "&\n"
     ]
    }
   ],
   "source": [
    "s8 = \"&\"\n",
    "if  not s8.isalnum() :\n",
    "    print(s8)"
   ]
  },
  {
   "cell_type": "code",
   "execution_count": 106,
   "metadata": {},
   "outputs": [
    {
     "data": {
      "text/plain": [
       "True"
      ]
     },
     "execution_count": 106,
     "metadata": {},
     "output_type": "execute_result"
    }
   ],
   "source": [
    "s8 = \"23545fdgfd\"\n",
    "s8.isalnum()"
   ]
  },
  {
   "cell_type": "code",
   "execution_count": 108,
   "metadata": {},
   "outputs": [
    {
     "data": {
      "text/plain": [
       "'good is good'"
      ]
     },
     "execution_count": 108,
     "metadata": {},
     "output_type": "execute_result"
    }
   ],
   "source": [
    "s9 = \"welcome\"\n",
    "s9.replace('l','*')\n",
    "s10 = \"good is bad\"\n",
    "s10.replace(\"bad\",\"good\")"
   ]
  },
  {
   "cell_type": "code",
   "execution_count": 111,
   "metadata": {},
   "outputs": [
    {
     "name": "stdout",
     "output_type": "stream",
     "text": [
      "$\n",
      "%\n",
      "^\n"
     ]
    }
   ],
   "source": [
    "# Task: Print only special characters\n",
    "\n",
    "# s = \"132dsjgfh$*@\"\n",
    "# to print only special character\n",
    "s5='123fweh$%^'\n",
    "for i in s5:\n",
    "    if not i.isalnum():\n",
    "        print(i)"
   ]
  },
  {
   "cell_type": "code",
   "execution_count": 112,
   "metadata": {},
   "outputs": [
    {
     "name": "stdout",
     "output_type": "stream",
     "text": [
      "%\n",
      "^\n",
      "$\n",
      "%\n"
     ]
    }
   ],
   "source": [
    "str1='21685bndhg%^$%ljbfh'\n",
    "for i in range(1,len(str1)):\n",
    "    if(str1[i].isalnum() == False):\n",
    "        print(str1[i])"
   ]
  },
  {
   "cell_type": "code",
   "execution_count": null,
   "metadata": {},
   "outputs": [],
   "source": [
    "# Task1 : \n",
    "#data = \"god is good all the time and god is good\"\n",
    "# find how many times god repeated \n",
    "\n",
    "\n",
    "# Task2 :\n",
    "# separate even number and odd number in a given data \n",
    "# input : \"32547567745\"\n",
    "# even  : \"2464\"\n",
    "# odd   : '3575775'    \n",
    "\n",
    "\n",
    "# Task3:\n",
    "# data = \"sjghfj12243%$&^&\"\n",
    "# alpha : 6\n",
    "# numeric : 5\n",
    "# spl   : 5"
   ]
  },
  {
   "cell_type": "code",
   "execution_count": null,
   "metadata": {},
   "outputs": [],
   "source": [
    " "
   ]
  }
 ],
 "metadata": {
  "kernelspec": {
   "display_name": "Python 3",
   "language": "python",
   "name": "python3"
  },
  "language_info": {
   "codemirror_mode": {
    "name": "ipython",
    "version": 3
   },
   "file_extension": ".py",
   "mimetype": "text/x-python",
   "name": "python",
   "nbconvert_exporter": "python",
   "pygments_lexer": "ipython3",
   "version": "3.7.3"
  }
 },
 "nbformat": 4,
 "nbformat_minor": 2
}
