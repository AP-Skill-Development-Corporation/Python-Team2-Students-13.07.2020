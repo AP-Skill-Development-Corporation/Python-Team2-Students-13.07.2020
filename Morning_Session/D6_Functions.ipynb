{
 "cells": [
  {
   "cell_type": "markdown",
   "metadata": {},
   "source": [
    "# Day Objectives\n",
    "\n",
    "## Functions\n",
    "\n",
    "* A function is a block of code which only runs when it is called.\n",
    "* You can pass data, known as parameters, into a function.\n",
    "* A function can return data as a result.\n",
    "\n",
    "\n",
    "#### From a function's perspective:\n",
    "\n",
    "* A parameter is the variable listed inside the parentheses in the function definition.\n",
    "* An argument is the value that is sent to the function when it is called.\n",
    "    * Information can be passed into functions as arguments.\n",
    "\n",
    "#### A. System defined\n",
    "\n",
    "    ex: input(),print(),len(),range()\n",
    "    \n",
    "#### B.User defined\n",
    "\n",
    "* Based on type of argument passing:\n",
    "      1. Required argument functions\n",
    "          * Required arguments are the arguments passed to a function in correct positional order.\n",
    "      2. Keyword argument functions\n",
    "          * You can also send arguments with the key = value syntax. This way the order of the arguments does not matter.\n",
    "      3. Default argument functions\n",
    "          * If we call the function without argument, it uses the default value\n",
    "      4. Variable length argument functions\n",
    "          * If you do not know how many arguments that will be passed into your function, add a * before the <br>\n",
    "            parameter name in the function definition.\n",
    "      \n",
    "* Based on Arguments and return type:\n",
    "      1. Without Argument and without return value\n",
    "      2. Without argument and with return value\n",
    "      3. With argument and without return value\n",
    "      4.  With argument and with return value\n",
    "\n",
    "```Syntax```\n"
   ]
  },
  {
   "cell_type": "code",
   "execution_count": null,
   "metadata": {},
   "outputs": [],
   "source": [
    "def Function_Name(parameters):  # Function Definition\n",
    "     \n",
    "    body of Funtion             # Function Body\n",
    "    return result\n",
    "    \n",
    "Function_Name(arguments)       # Function Calling\n",
    "\n",
    "\n",
    "val = 100   # variable \n",
    "fun()\n",
    "print()\n",
    "void()\n",
    "input()\n",
    "len()\n",
    "range()\n",
    "copy()\n",
    "type()\n"
   ]
  },
  {
   "cell_type": "code",
   "execution_count": 11,
   "metadata": {},
   "outputs": [
    {
     "name": "stdout",
     "output_type": "stream",
     "text": [
      "Hi... Every one...!\n"
     ]
    }
   ],
   "source": [
    "F_Name()"
   ]
  },
  {
   "cell_type": "code",
   "execution_count": 9,
   "metadata": {},
   "outputs": [
    {
     "name": "stdout",
     "output_type": "stream",
     "text": [
      "enter a number:34\n",
      "enter operator:+\n",
      "enter another number:45\n",
      "enter operator:=\n",
      "YOUR FINAL RESLUT IS 79.0\n"
     ]
    }
   ],
   "source": [
    "num1 = float(input('enter a number:'))\n",
    "l = ['+','-','*','/','=']\n",
    "result = 0\n",
    "result = num1\n",
    "while 1 :\n",
    "    op = input('enter operator:')\n",
    "    if op in l :\n",
    "        if op == '=' :\n",
    "            break\n",
    "        else :\n",
    "            num2 = float(input('enter another number:'))\n",
    "            if op == '+' :\n",
    "                result = result + num2\n",
    "            elif op == '-' :\n",
    "                result = result - num2\n",
    "            elif op == '*' :\n",
    "                result = result * num2\n",
    "            else :\n",
    "                result = result / num2\n",
    "    else :\n",
    "        print('ERROR..! you have entered wrong operator')\n",
    "        break\n",
    "print('YOUR FINAL RESLUT IS', result)  \n",
    "\n",
    "# Good Firoz"
   ]
  },
  {
   "cell_type": "code",
   "execution_count": null,
   "metadata": {},
   "outputs": [],
   "source": [
    "\n",
    "# function nothing but block of code\n",
    "# functions inside class called as Methods\n"
   ]
  },
  {
   "cell_type": "code",
   "execution_count": 10,
   "metadata": {},
   "outputs": [
    {
     "name": "stdout",
     "output_type": "stream",
     "text": [
      "Hi... Every one...!\n"
     ]
    }
   ],
   "source": [
    "# User Defined Function\n",
    "def F_Name():  # definition\n",
    "    \n",
    "    print(\"Hi... Every one...!\") # body\n",
    "    \n",
    "F_Name()  # calling"
   ]
  },
  {
   "cell_type": "code",
   "execution_count": 12,
   "metadata": {},
   "outputs": [
    {
     "data": {
      "text/plain": [
       "'Hi... Every one...!'"
      ]
     },
     "execution_count": 12,
     "metadata": {},
     "output_type": "execute_result"
    }
   ],
   "source": [
    "def F_Name():  # definition\n",
    "    \n",
    "    return \"Hi... Every one...!\" # body\n",
    "    \n",
    "F_Name()"
   ]
  },
  {
   "cell_type": "markdown",
   "metadata": {},
   "source": [
    "#### Required argument function"
   ]
  },
  {
   "cell_type": "code",
   "execution_count": 26,
   "metadata": {},
   "outputs": [
    {
     "ename": "TypeError",
     "evalue": "Fun() missing 1 required positional argument: 'val2'",
     "output_type": "error",
     "traceback": [
      "\u001b[1;31m---------------------------------------------------------------------------\u001b[0m",
      "\u001b[1;31mTypeError\u001b[0m                                 Traceback (most recent call last)",
      "\u001b[1;32m<ipython-input-26-5d260b1370a1>\u001b[0m in \u001b[0;36m<module>\u001b[1;34m\u001b[0m\n\u001b[0;32m      6\u001b[0m     \u001b[1;32mreturn\u001b[0m \u001b[0mresult\u001b[0m\u001b[1;33m\u001b[0m\u001b[1;33m\u001b[0m\u001b[0m\n\u001b[0;32m      7\u001b[0m \u001b[1;33m\u001b[0m\u001b[0m\n\u001b[1;32m----> 8\u001b[1;33m \u001b[0mFun\u001b[0m\u001b[1;33m(\u001b[0m\u001b[1;36m23\u001b[0m\u001b[1;33m)\u001b[0m\u001b[1;33m\u001b[0m\u001b[1;33m\u001b[0m\u001b[0m\n\u001b[0m",
      "\u001b[1;31mTypeError\u001b[0m: Fun() missing 1 required positional argument: 'val2'"
     ]
    }
   ],
   "source": [
    "# Required argument function --  it fallows order\n",
    "# o , I, l  ---   0,1,1\n",
    "\n",
    "def Fun(val1,val2):\n",
    "    result = val1+val2\n",
    "    return result\n",
    "\n",
    "Fun(23)"
   ]
  },
  {
   "cell_type": "code",
   "execution_count": 27,
   "metadata": {},
   "outputs": [
    {
     "name": "stdout",
     "output_type": "stream",
     "text": [
      "90\n"
     ]
    },
    {
     "data": {
      "text/plain": [
       "90"
      ]
     },
     "execution_count": 27,
     "metadata": {},
     "output_type": "execute_result"
    }
   ],
   "source": [
    "def Fun(val1,val2):\n",
    "    result = val1+val2\n",
    "    print(result)\n",
    "    return result\n",
    "\n",
    "\n",
    "Fun(23,67)"
   ]
  },
  {
   "cell_type": "code",
   "execution_count": 21,
   "metadata": {},
   "outputs": [
    {
     "name": "stdout",
     "output_type": "stream",
     "text": [
      "68\n"
     ]
    },
    {
     "ename": "SyntaxError",
     "evalue": "'return' outside function (<ipython-input-21-ecfe53b876f9>, line 2)",
     "output_type": "error",
     "traceback": [
      "\u001b[1;36m  File \u001b[1;32m\"<ipython-input-21-ecfe53b876f9>\"\u001b[1;36m, line \u001b[1;32m2\u001b[0m\n\u001b[1;33m    return 23+45\u001b[0m\n\u001b[1;37m                ^\u001b[0m\n\u001b[1;31mSyntaxError\u001b[0m\u001b[1;31m:\u001b[0m 'return' outside function\n"
     ]
    }
   ],
   "source": [
    "print(23+45)  # Function\n",
    "return 23+45"
   ]
  },
  {
   "cell_type": "markdown",
   "metadata": {},
   "source": [
    "#### keyword argument functions"
   ]
  },
  {
   "cell_type": "code",
   "execution_count": 29,
   "metadata": {},
   "outputs": [
    {
     "name": "stdout",
     "output_type": "stream",
     "text": [
      "6699\n"
     ]
    },
    {
     "data": {
      "text/plain": [
       "6699"
      ]
     },
     "execution_count": 29,
     "metadata": {},
     "output_type": "execute_result"
    }
   ],
   "source": [
    "\n",
    "\n",
    "def Fun(val1,val2):\n",
    "    result = val1+val2\n",
    "    print(result)\n",
    "    return result\n",
    "\n",
    "\n",
    "Fun(val2 = 2334,val1 = 4365)  # Arguments as key = value "
   ]
  },
  {
   "cell_type": "code",
   "execution_count": 30,
   "metadata": {},
   "outputs": [
    {
     "ename": "TypeError",
     "evalue": "Fun() got multiple values for argument 'val1'",
     "output_type": "error",
     "traceback": [
      "\u001b[1;31m---------------------------------------------------------------------------\u001b[0m",
      "\u001b[1;31mTypeError\u001b[0m                                 Traceback (most recent call last)",
      "\u001b[1;32m<ipython-input-30-f2da5ea6636a>\u001b[0m in \u001b[0;36m<module>\u001b[1;34m\u001b[0m\n\u001b[0;32m      5\u001b[0m \u001b[1;33m\u001b[0m\u001b[0m\n\u001b[0;32m      6\u001b[0m \u001b[1;33m\u001b[0m\u001b[0m\n\u001b[1;32m----> 7\u001b[1;33m \u001b[0mFun\u001b[0m\u001b[1;33m(\u001b[0m\u001b[1;36m2334\u001b[0m\u001b[1;33m,\u001b[0m\u001b[0mval1\u001b[0m \u001b[1;33m=\u001b[0m \u001b[1;36m4365\u001b[0m\u001b[1;33m)\u001b[0m\u001b[1;33m\u001b[0m\u001b[1;33m\u001b[0m\u001b[0m\n\u001b[0m",
      "\u001b[1;31mTypeError\u001b[0m: Fun() got multiple values for argument 'val1'"
     ]
    }
   ],
   "source": [
    "# Invalid  Function\n",
    "def Fun(val1,val2):\n",
    "    result = val1+val2\n",
    "    print(result)\n",
    "    return result\n",
    "\n",
    "\n",
    "Fun(2334,val1 = 4365)"
   ]
  },
  {
   "cell_type": "code",
   "execution_count": 38,
   "metadata": {},
   "outputs": [
    {
     "name": "stdout",
     "output_type": "stream",
     "text": [
      "36\n"
     ]
    },
    {
     "data": {
      "text/plain": [
       "36"
      ]
     },
     "execution_count": 38,
     "metadata": {},
     "output_type": "execute_result"
    }
   ],
   "source": [
    "# Default Argument Function\n",
    "\n",
    "def Fun(val1 = 23,val2 = 34):\n",
    "    result = val1+val2\n",
    "    print(result)\n",
    "    return result\n",
    "\n",
    "\n",
    "Fun(2)  "
   ]
  },
  {
   "cell_type": "markdown",
   "metadata": {},
   "source": [
    "```NOTE``` : Priority of Arguments than priority of parameres"
   ]
  },
  {
   "cell_type": "code",
   "execution_count": 32,
   "metadata": {},
   "outputs": [
    {
     "name": "stdout",
     "output_type": "stream",
     "text": [
      "57\n"
     ]
    },
    {
     "data": {
      "text/plain": [
       "57"
      ]
     },
     "execution_count": 32,
     "metadata": {},
     "output_type": "execute_result"
    }
   ],
   "source": [
    "def Fun():\n",
    "    val1 = 23\n",
    "    val2 = 34\n",
    "    result = val1+val2\n",
    "    print(result)\n",
    "    return result\n",
    "\n",
    "\n",
    "Fun()"
   ]
  },
  {
   "cell_type": "markdown",
   "metadata": {},
   "source": [
    "#### Variable length arguments"
   ]
  },
  {
   "cell_type": "markdown",
   "metadata": {},
   "source": [
    "\n",
    "\n",
    "def Fun(v1,v2,v3,v4,v5,v6,v7........vn):\n",
    "    result = v1+v2+v3+v4......vn\n",
    "    \n",
    "    return result\n",
    "\n",
    "\n",
    "Fun(12,34,54,45,344,324,546,67,43,34,56,78,4,5,67,45,34)"
   ]
  },
  {
   "cell_type": "code",
   "execution_count": 4,
   "metadata": {},
   "outputs": [
    {
     "data": {
      "text/plain": [
       "(12, 34, 54, 45, 344, 324, 546, 67, 43, 34, 56, 78, 4, 5, 67, 45, 34)"
      ]
     },
     "execution_count": 4,
     "metadata": {},
     "output_type": "execute_result"
    }
   ],
   "source": [
    "def Fun(*args):\n",
    "    \n",
    "    return args\n",
    "\n",
    "Fun(12,34,54,45,344,324,546,67,43,34,56,78,4,5,67,45,34)"
   ]
  },
  {
   "cell_type": "code",
   "execution_count": 2,
   "metadata": {},
   "outputs": [
    {
     "data": {
      "text/plain": [
       "1792"
      ]
     },
     "execution_count": 2,
     "metadata": {},
     "output_type": "execute_result"
    }
   ],
   "source": [
    "def Fun(*args):\n",
    "    s = 0\n",
    "    for i in args:\n",
    "        s += i    \n",
    "    return s\n",
    "\n",
    "Fun(12,34,54,45,344,324,546,67,43,34,56,78,4,5,67,45,34)"
   ]
  },
  {
   "cell_type": "code",
   "execution_count": 5,
   "metadata": {},
   "outputs": [
    {
     "data": {
      "text/plain": [
       "84196936"
      ]
     },
     "execution_count": 5,
     "metadata": {},
     "output_type": "execute_result"
    }
   ],
   "source": [
    "li = [234.56]\n",
    "id(li)"
   ]
  },
  {
   "cell_type": "code",
   "execution_count": 6,
   "metadata": {},
   "outputs": [
    {
     "name": "stdout",
     "output_type": "stream",
     "text": [
      "enter num to check:23\n",
      "given number is in between 1 to 100\n"
     ]
    }
   ],
   "source": [
    "# Write a function to check given number is within boundary or not \n",
    "v=int(input('enter num to check:'))\n",
    "def bou(v):\n",
    "    if 1<=v<=100:\n",
    "        print('given number is in between 1 to 100')\n",
    "    else:\n",
    "        print('given num is out of boundary')\n",
    "\n",
    "bou(v)\n"
   ]
  },
  {
   "cell_type": "code",
   "execution_count": 9,
   "metadata": {},
   "outputs": [],
   "source": [
    "def boundary(num,lb,ub):\n",
    "    if lb<=num<=ub:\n",
    "        return 'existing'\n",
    "    else :\n",
    "        return 'not existing'\n",
    "\n"
   ]
  },
  {
   "cell_type": "code",
   "execution_count": 8,
   "metadata": {},
   "outputs": [
    {
     "data": {
      "text/plain": [
       "'not existing'"
      ]
     },
     "execution_count": 8,
     "metadata": {},
     "output_type": "execute_result"
    }
   ],
   "source": [
    "boundary(123,1,100)"
   ]
  },
  {
   "cell_type": "code",
   "execution_count": 10,
   "metadata": {},
   "outputs": [
    {
     "data": {
      "text/plain": [
       "'existing'"
      ]
     },
     "execution_count": 10,
     "metadata": {},
     "output_type": "execute_result"
    }
   ],
   "source": [
    "boundary(123,1,1000)"
   ]
  },
  {
   "cell_type": "code",
   "execution_count": 13,
   "metadata": {},
   "outputs": [
    {
     "name": "stdout",
     "output_type": "stream",
     "text": [
      "enter lower boundari: -10\n",
      "enter upper boundari: 10\n",
      "enter searching number:0\n",
      "Is there\n"
     ]
    }
   ],
   "source": [
    "def search():\n",
    "    a=int(input('enter lower boundari: '))\n",
    "    b=int(input('enter upper boundari: '))\n",
    "    c=int(input('enter searching number:'))\n",
    "\n",
    "    if c>=a and c<=b:\n",
    "        print('Is there')\n",
    "    else:\n",
    "        print('Not present')\n",
    "\n",
    "search()\n"
   ]
  },
  {
   "cell_type": "markdown",
   "metadata": {},
   "source": [
    "#### Based on Arguments and return type:\n",
    "\n",
    "1. Without Argument and without return value"
   ]
  },
  {
   "cell_type": "code",
   "execution_count": 14,
   "metadata": {},
   "outputs": [
    {
     "name": "stdout",
     "output_type": "stream",
     "text": [
      "Enter your sweet namelavanya\n",
      "Hello  lavanya How do you do..!\n"
     ]
    }
   ],
   "source": [
    "def Good():\n",
    "    name = input(\"Enter your sweet name\")\n",
    "    print(\"Hello \",name,\"How do you do..!\")\n",
    "    \n",
    "Good()"
   ]
  },
  {
   "cell_type": "markdown",
   "metadata": {},
   "source": [
    "2. Without Argument and with return value"
   ]
  },
  {
   "cell_type": "code",
   "execution_count": 16,
   "metadata": {},
   "outputs": [
    {
     "name": "stdout",
     "output_type": "stream",
     "text": [
      "Enter your sweet nameMercy\n"
     ]
    },
    {
     "data": {
      "text/plain": [
       "'Hello MercyHow do you do..!'"
      ]
     },
     "execution_count": 16,
     "metadata": {},
     "output_type": "execute_result"
    }
   ],
   "source": [
    "def Good():\n",
    "    \n",
    "    name = input(\"Enter your sweet name\")\n",
    "    return \"Hello \"+name+\"How do you do..!\"\n",
    "    \n",
    "Good()"
   ]
  },
  {
   "cell_type": "markdown",
   "metadata": {},
   "source": [
    "3. With Argument and without return value"
   ]
  },
  {
   "cell_type": "code",
   "execution_count": 28,
   "metadata": {},
   "outputs": [
    {
     "name": "stdout",
     "output_type": "stream",
     "text": [
      "Hello lavanya Where R you\n"
     ]
    }
   ],
   "source": [
    "def good(name):\n",
    "    \n",
    "      print (\"Hello \" + name + \" Where R you\") \n",
    "                \n",
    "good(\"lavanya\")"
   ]
  },
  {
   "cell_type": "code",
   "execution_count": 21,
   "metadata": {},
   "outputs": [
    {
     "name": "stdout",
     "output_type": "stream",
     "text": [
      "20\n"
     ]
    }
   ],
   "source": [
    "def add(a,b):\n",
    "    print(a+b)\n",
    "    \n",
    "a=10\n",
    "b=10\n",
    "add(a,b) \n"
   ]
  },
  {
   "cell_type": "code",
   "execution_count": 25,
   "metadata": {},
   "outputs": [
    {
     "name": "stdout",
     "output_type": "stream",
     "text": [
      "8\n"
     ]
    }
   ],
   "source": [
    "def sum(a,b):\n",
    "    s=0\n",
    "    s=a+b\n",
    "    print(s)\n",
    "    \n",
    "sum(2,6)\n"
   ]
  },
  {
   "cell_type": "code",
   "execution_count": 26,
   "metadata": {},
   "outputs": [
    {
     "name": "stdout",
     "output_type": "stream",
     "text": [
      "8\n"
     ]
    }
   ],
   "source": [
    "def f_name(a,b):\n",
    "    s=a+b\n",
    "    print(s)\n",
    "    \n",
    "f_name(3,5)\n"
   ]
  },
  {
   "cell_type": "markdown",
   "metadata": {},
   "source": [
    "4.With Argument and with return value"
   ]
  },
  {
   "cell_type": "code",
   "execution_count": 27,
   "metadata": {},
   "outputs": [
    {
     "name": "stdout",
     "output_type": "stream",
     "text": [
      "enter ur name:Lavanya\n"
     ]
    },
    {
     "data": {
      "text/plain": [
       "'your name is:Lavanya'"
      ]
     },
     "execution_count": 27,
     "metadata": {},
     "output_type": "execute_result"
    }
   ],
   "source": [
    "n=input('enter ur name:')\n",
    "def greet(n):\n",
    "    \n",
    "    return 'your name is:'+n\n",
    "\n",
    "greet(n)\n"
   ]
  },
  {
   "cell_type": "code",
   "execution_count": 31,
   "metadata": {},
   "outputs": [
    {
     "name": "stdout",
     "output_type": "stream",
     "text": [
      "enter year1996\n"
     ]
    },
    {
     "data": {
      "text/plain": [
       "True"
      ]
     },
     "execution_count": 31,
     "metadata": {},
     "output_type": "execute_result"
    }
   ],
   "source": [
    "# Write a function,To check the given year  is leap or Not \n",
    "def check(year):\n",
    "    if (year % 4) == 0:\n",
    "        \n",
    "        return True\n",
    "    else:\n",
    "        return False\n",
    "    \n",
    "year=int(input('enter year'))\n",
    "check(year)\n"
   ]
  },
  {
   "cell_type": "code",
   "execution_count": 38,
   "metadata": {},
   "outputs": [
    {
     "data": {
      "text/plain": [
       "False"
      ]
     },
     "execution_count": 38,
     "metadata": {},
     "output_type": "execute_result"
    }
   ],
   "source": [
    "def leap(year):\n",
    "    \n",
    "    if (year%4==0 and year%400==0):\n",
    "        return True\n",
    "    elif (year%100==0):\n",
    "        return False\n",
    "    else:\n",
    "        return  False\n",
    "    \n",
    "leap(2020)\n",
    "\n"
   ]
  },
  {
   "cell_type": "code",
   "execution_count": 42,
   "metadata": {},
   "outputs": [],
   "source": [
    "def IsLeap(year):\n",
    "    \n",
    "    if year%400 == 0 or (year%4 == 0 and year%100 != 0):\n",
    "        print(\"Yes, \"+str(year)+\" Is Leap\")\n",
    "        return True\n",
    "    else:\n",
    "        return False   "
   ]
  },
  {
   "cell_type": "code",
   "execution_count": 43,
   "metadata": {},
   "outputs": [
    {
     "data": {
      "text/plain": [
       "False"
      ]
     },
     "execution_count": 43,
     "metadata": {},
     "output_type": "execute_result"
    }
   ],
   "source": [
    "IsLeap(2002)"
   ]
  },
  {
   "cell_type": "code",
   "execution_count": 45,
   "metadata": {},
   "outputs": [
    {
     "name": "stdout",
     "output_type": "stream",
     "text": [
      "Yes, 2020 Is Leap\n"
     ]
    },
    {
     "data": {
      "text/plain": [
       "True"
      ]
     },
     "execution_count": 45,
     "metadata": {},
     "output_type": "execute_result"
    }
   ],
   "source": [
    "IsLeap(2020)"
   ]
  },
  {
   "cell_type": "code",
   "execution_count": 57,
   "metadata": {},
   "outputs": [
    {
     "name": "stdout",
     "output_type": "stream",
     "text": [
      "Enter num:99\n",
      "not prime\n"
     ]
    }
   ],
   "source": [
    "# Task : write a function to Check given number is Prime or not\n",
    "def prime(n):\n",
    "   \n",
    "    for i in range(2,n):\n",
    "        if n%i==0:\n",
    "            print('not prime')\n",
    "            break\n",
    "    \n",
    "    else:\n",
    "        print('prime')\n",
    "n=int(input('Enter num:'))\n",
    "prime(n)"
   ]
  },
  {
   "cell_type": "code",
   "execution_count": 73,
   "metadata": {},
   "outputs": [],
   "source": [
    "def IsPrime(num):\n",
    "    count = 0\n",
    "    for i in range(1,num+1):\n",
    "        if num%i == 0 :\n",
    "            count += 1\n",
    "    if count == 2:\n",
    "        return 'prime'\n",
    "    else :\n",
    "        return 'not prime'"
   ]
  },
  {
   "cell_type": "code",
   "execution_count": 76,
   "metadata": {},
   "outputs": [
    {
     "name": "stdout",
     "output_type": "stream",
     "text": [
      "Enter num:2\n",
      "prime\n"
     ]
    }
   ],
   "source": [
    "def prime(n):\n",
    "    for i in range(2,n):\n",
    "        if n%i==0:\n",
    "            print('not prime')\n",
    "            break  \n",
    "    else:\n",
    "        print('prime')\n",
    "        \n",
    "        \n",
    "n=int(input('Enter num:'))\n",
    "prime(n)\n"
   ]
  },
  {
   "cell_type": "code",
   "execution_count": 74,
   "metadata": {},
   "outputs": [
    {
     "data": {
      "text/plain": [
       "'not prime'"
      ]
     },
     "execution_count": 74,
     "metadata": {},
     "output_type": "execute_result"
    }
   ],
   "source": [
    "IsPrime(1)"
   ]
  },
  {
   "cell_type": "code",
   "execution_count": 56,
   "metadata": {},
   "outputs": [
    {
     "data": {
      "text/plain": [
       "'not prime'"
      ]
     },
     "execution_count": 56,
     "metadata": {},
     "output_type": "execute_result"
    }
   ],
   "source": [
    "prime(-23)"
   ]
  },
  {
   "cell_type": "markdown",
   "metadata": {},
   "source": [
    "5   --- 1,5   -- <=2 prime\n",
    "10  --- 1,2,5,10  - not prime \n"
   ]
  },
  {
   "cell_type": "markdown",
   "metadata": {},
   "source": [
    "# Tasks:\n",
    "\n",
    "* Write a Function, check the number of digits in given number\n",
    "* 1234567  ---  7\n",
    "\n",
    " "
   ]
  },
  {
   "cell_type": "code",
   "execution_count": 80,
   "metadata": {},
   "outputs": [
    {
     "name": "stdout",
     "output_type": "stream",
     "text": [
      "<class 'int'>\n",
      "<class 'str'>\n",
      "10\n"
     ]
    }
   ],
   "source": [
    "def Digi_Count(num):\n",
    "    \n",
    "    print(type(num))\n",
    "    s = str(num)\n",
    "    print(type(s))\n",
    "    print(len(s))\n",
    "    \n",
    "Digi_Count(4321463245)"
   ]
  },
  {
   "cell_type": "code",
   "execution_count": 82,
   "metadata": {},
   "outputs": [],
   "source": [
    "def Porco(num):\n",
    "    c=0\n",
    "    for i in range(1,num):\n",
    "        if num%i==0:\n",
    "            c += 1\n",
    "        if c==2:\n",
    "            print(\"prime\")\n",
    "Porco(2)\n"
   ]
  },
  {
   "cell_type": "raw",
   "metadata": {},
   "source": [
    "# Today's Tasks:\n",
    "\n",
    "Task1:\n",
    "* Write a Function, To highlight the sub string in the given string \n",
    "ex:\n",
    "data      : \"Hello My dear Friend lavanya\"\n",
    "subString : \"Lavanya\"\n",
    "output    : \"Hello My dear Friend LAVANYA\"\n",
    "\n",
    "\n",
    "Task2:\n",
    "* Function to Print all numbers divisible by 7 and not a factor of 100 in agiven range(lb,ub)\n",
    "\n",
    "\n",
    "Task3:\n",
    "* Function to calculate the factorials of given range\n",
    "input : 5\n",
    "output:\n",
    "1! is 1\n",
    "2! is 2\n",
    "3! is 6\n",
    "4! is 24\n",
    "5! is 120\n",
    "\n"
   ]
  },
  {
   "cell_type": "code",
   "execution_count": null,
   "metadata": {},
   "outputs": [],
   "source": []
  }
 ],
 "metadata": {
  "kernelspec": {
   "display_name": "Python 3",
   "language": "python",
   "name": "python3"
  },
  "language_info": {
   "codemirror_mode": {
    "name": "ipython",
    "version": 3
   },
   "file_extension": ".py",
   "mimetype": "text/x-python",
   "name": "python",
   "nbconvert_exporter": "python",
   "pygments_lexer": "ipython3",
   "version": "3.7.1"
  }
 },
 "nbformat": 4,
 "nbformat_minor": 2
}
