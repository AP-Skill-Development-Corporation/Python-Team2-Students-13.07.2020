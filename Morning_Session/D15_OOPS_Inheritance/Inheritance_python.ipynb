{
 "cells": [
  {
   "cell_type": "markdown",
   "metadata": {},
   "source": [
    "# Day Objectives\n",
    "\n",
    "# constructor\n",
    "* Used for instantiating an object.In python *__init__*(self) Method called as a constructor\n",
    "* It Works is to initialize(assign values) to the data members of a class when an object of a class is created.\n",
    "* Types of constructors\n",
    "    * Default constructor \n",
    "    * Parameterized constructor \n",
    "\n",
    "```Syntax of constructor declaration```"
   ]
  },
  {
   "cell_type": "code",
   "execution_count": null,
   "metadata": {},
   "outputs": [],
   "source": [
    "def __init__(self):\n",
    "    # body of the constructor"
   ]
  },
  {
   "cell_type": "code",
   "execution_count": 17,
   "metadata": {},
   "outputs": [],
   "source": [
    "class MyClass:\n",
    "    def __init__(self):\n",
    "        print(\"I am in Init Method/ constructor in this class\")\n",
    "        \n",
    "    def method(self):\n",
    "        print(\"I am one Method in this class\")\n",
    "obj2 = MyClass()\n",
    "obj2.method()"
   ]
  },
  {
   "cell_type": "code",
   "execution_count": 18,
   "metadata": {},
   "outputs": [
    {
     "name": "stdout",
     "output_type": "stream",
     "text": [
      "I am in Init Method/ constructor in this class\n",
      "I am one Method in this class\n"
     ]
    }
   ],
   "source": [
    "obj2 = MyClass()\n",
    "obj2.method()"
   ]
  },
  {
   "cell_type": "markdown",
   "metadata": {},
   "source": []
  },
  {
   "cell_type": "code",
   "execution_count": 16,
   "metadata": {},
   "outputs": [
    {
     "name": "stdout",
     "output_type": "stream",
     "text": [
      "Init\n"
     ]
    }
   ],
   "source": [
    "# Default constructor\n",
    "class Class:\n",
    "    def __init__(self):  # only default argument so its called as Default constuctor\n",
    "        print(\"Init\")\n",
    "ob = Class()"
   ]
  },
  {
   "cell_type": "code",
   "execution_count": 32,
   "metadata": {},
   "outputs": [
    {
     "name": "stdout",
     "output_type": "stream",
     "text": [
      "(23, 32, 67)\n"
     ]
    }
   ],
   "source": [
    "# Parameterized constructor\n",
    "class Class1:\n",
    "    def __init__(self,num1,num2,num3):  # \n",
    "        self.n1 = num1\n",
    "        self.n2 = num2\n",
    "        n3 = num3\n",
    "        print((num1,num2,n3))\n",
    "        \n",
    "    def add(self):\n",
    "        print(\"sum : \", self.n1+self.n2+n3)\n",
    "        \n",
    "    def sub(self):\n",
    "        print(\"sub: \",self.n1-self.n2-n3)\n",
    "        \n",
    "    \n",
    "ob1 =   Class1(23,32,67)   "
   ]
  },
  {
   "cell_type": "code",
   "execution_count": 33,
   "metadata": {
    "scrolled": true
   },
   "outputs": [
    {
     "ename": "NameError",
     "evalue": "name 'n3' is not defined",
     "output_type": "error",
     "traceback": [
      "\u001b[1;31m---------------------------------------------------------------------------\u001b[0m",
      "\u001b[1;31mNameError\u001b[0m                                 Traceback (most recent call last)",
      "\u001b[1;32m<ipython-input-33-7ca26735fa8f>\u001b[0m in \u001b[0;36m<module>\u001b[1;34m\u001b[0m\n\u001b[1;32m----> 1\u001b[1;33m \u001b[0mob1\u001b[0m\u001b[1;33m.\u001b[0m\u001b[0madd\u001b[0m\u001b[1;33m(\u001b[0m\u001b[1;33m)\u001b[0m\u001b[1;33m\u001b[0m\u001b[1;33m\u001b[0m\u001b[0m\n\u001b[0m",
      "\u001b[1;32m<ipython-input-32-1b0139938b7c>\u001b[0m in \u001b[0;36madd\u001b[1;34m(self)\u001b[0m\n\u001b[0;32m      8\u001b[0m \u001b[1;33m\u001b[0m\u001b[0m\n\u001b[0;32m      9\u001b[0m     \u001b[1;32mdef\u001b[0m \u001b[0madd\u001b[0m\u001b[1;33m(\u001b[0m\u001b[0mself\u001b[0m\u001b[1;33m)\u001b[0m\u001b[1;33m:\u001b[0m\u001b[1;33m\u001b[0m\u001b[1;33m\u001b[0m\u001b[0m\n\u001b[1;32m---> 10\u001b[1;33m         \u001b[0mprint\u001b[0m\u001b[1;33m(\u001b[0m\u001b[1;34m\"sum : \"\u001b[0m\u001b[1;33m,\u001b[0m \u001b[0mself\u001b[0m\u001b[1;33m.\u001b[0m\u001b[0mn1\u001b[0m\u001b[1;33m+\u001b[0m\u001b[0mself\u001b[0m\u001b[1;33m.\u001b[0m\u001b[0mn2\u001b[0m\u001b[1;33m+\u001b[0m\u001b[0mn3\u001b[0m\u001b[1;33m)\u001b[0m\u001b[1;33m\u001b[0m\u001b[1;33m\u001b[0m\u001b[0m\n\u001b[0m\u001b[0;32m     11\u001b[0m \u001b[1;33m\u001b[0m\u001b[0m\n\u001b[0;32m     12\u001b[0m     \u001b[1;32mdef\u001b[0m \u001b[0msub\u001b[0m\u001b[1;33m(\u001b[0m\u001b[0mself\u001b[0m\u001b[1;33m)\u001b[0m\u001b[1;33m:\u001b[0m\u001b[1;33m\u001b[0m\u001b[1;33m\u001b[0m\u001b[0m\n",
      "\u001b[1;31mNameError\u001b[0m: name 'n3' is not defined"
     ]
    }
   ],
   "source": [
    "ob1.add()"
   ]
  },
  {
   "cell_type": "code",
   "execution_count": 30,
   "metadata": {},
   "outputs": [
    {
     "name": "stdout",
     "output_type": "stream",
     "text": [
      "sub:  -9\n"
     ]
    }
   ],
   "source": [
    "ob1.sub()"
   ]
  },
  {
   "cell_type": "code",
   "execution_count": null,
   "metadata": {},
   "outputs": [],
   "source": []
  },
  {
   "cell_type": "markdown",
   "metadata": {},
   "source": [
    "## Python Inheritance\n",
    "\n",
    "         * Inheritance enables us to define a class that takes all the functionality from a <br> \n",
    "           parent class and allows us to add more\n",
    "         * It refers to defining a new class with little or no modification to an existing class\n",
    "         * New class is called derived (or child) class \n",
    "         * One from which it inherits is called the base (or parent) class\n",
    "         \n",
    "#### The benefits of inheritance :\n",
    "         * It provides re-usability of a code (\"REUSE\")\n",
    "         * it allows us to add more features to a class without modifying it\n",
    "         * It is transitive in nature\n",
    "         * if class B inherits from another class A, then all the subclasses of B would automatically \n",
    "           inherit from class A.\n",
    "                  \n",
    "![](inheritence.jpg)\n",
    "\n",
    "\n",
    "\n",
    "#### Advantages:\n",
    "    * Application development time is less.\n",
    "    * Application takes less memory.\n",
    "    * Application execution time is less.\n",
    "\n",
    "```Syntax```"
   ]
  },
  {
   "cell_type": "code",
   "execution_count": null,
   "metadata": {},
   "outputs": [],
   "source": [
    "class superClass:\n",
    "    body of super class\n",
    "class baseClass(superclass):\n",
    "    body of the base class"
   ]
  },
  {
   "cell_type": "code",
   "execution_count": null,
   "metadata": {},
   "outputs": [],
   "source": [
    "class A -- granny\n",
    "|\n",
    "|\n",
    "|\n",
    "class B -- father\n",
    "|\n",
    "|\n",
    "|\n",
    "class C -- child"
   ]
  },
  {
   "cell_type": "code",
   "execution_count": 58,
   "metadata": {},
   "outputs": [
    {
     "name": "stdout",
     "output_type": "stream",
     "text": [
      "I am super class\n"
     ]
    },
    {
     "ename": "AttributeError",
     "evalue": "type object 'SuperClass' has no attribute 'B'",
     "output_type": "error",
     "traceback": [
      "\u001b[1;31m---------------------------------------------------------------------------\u001b[0m",
      "\u001b[1;31mAttributeError\u001b[0m                            Traceback (most recent call last)",
      "\u001b[1;32m<ipython-input-58-466c08588909>\u001b[0m in \u001b[0;36m<module>\u001b[1;34m\u001b[0m\n\u001b[0;32m      9\u001b[0m \u001b[0mobj\u001b[0m \u001b[1;33m=\u001b[0m \u001b[0mSuperClass\u001b[0m\u001b[1;33m\u001b[0m\u001b[1;33m\u001b[0m\u001b[0m\n\u001b[0;32m     10\u001b[0m \u001b[0mobj\u001b[0m\u001b[1;33m.\u001b[0m\u001b[0mA\u001b[0m\u001b[1;33m(\u001b[0m\u001b[1;33m)\u001b[0m\u001b[1;33m\u001b[0m\u001b[1;33m\u001b[0m\u001b[0m\n\u001b[1;32m---> 11\u001b[1;33m \u001b[0mobj\u001b[0m\u001b[1;33m.\u001b[0m\u001b[0mB\u001b[0m\u001b[1;33m(\u001b[0m\u001b[1;33m)\u001b[0m\u001b[1;33m\u001b[0m\u001b[1;33m\u001b[0m\u001b[0m\n\u001b[0m",
      "\u001b[1;31mAttributeError\u001b[0m: type object 'SuperClass' has no attribute 'B'"
     ]
    }
   ],
   "source": [
    "class SuperClass:\n",
    "    def A():\n",
    "        print(\"I am super class\")\n",
    "    \n",
    "class baseClass(SuperClass):\n",
    "    def B():\n",
    "        print(\"i am base class\")\n",
    "\n",
    "obj = SuperClass\n",
    "obj.A()\n",
    "obj.B()  # "
   ]
  },
  {
   "cell_type": "code",
   "execution_count": 57,
   "metadata": {
    "scrolled": true
   },
   "outputs": [
    {
     "name": "stdout",
     "output_type": "stream",
     "text": [
      "I am super class\n",
      "i am base class\n"
     ]
    }
   ],
   "source": [
    "obj_sub = baseClass\n",
    "obj_sub.A()\n",
    "obj_sub.B()\n"
   ]
  },
  {
   "cell_type": "code",
   "execution_count": null,
   "metadata": {},
   "outputs": [],
   "source": []
  },
  {
   "cell_type": "code",
   "execution_count": null,
   "metadata": {},
   "outputs": [],
   "source": []
  },
  {
   "cell_type": "code",
   "execution_count": null,
   "metadata": {},
   "outputs": [],
   "source": []
  },
  {
   "cell_type": "markdown",
   "metadata": {},
   "source": [
    "## Single level Inheritence\n",
    "#### When a child class inherits from only one parent class, it is called single inheritance\n",
    "\n",
    "![](single.png)"
   ]
  },
  {
   "cell_type": "code",
   "execution_count": 71,
   "metadata": {},
   "outputs": [],
   "source": [
    "class ParentClass:\n",
    "    \n",
    "    def __init__(self):\n",
    "        self.val1 = 10\n",
    "        self.val2 = 3\n",
    "        \n",
    "    def show(self):\n",
    "        print((self.val1,self.val2))\n",
    "        \n",
    "class childClass(ParentClass):\n",
    "    def power(self):\n",
    "        print(self.val1**self.val2)"
   ]
  },
  {
   "cell_type": "code",
   "execution_count": 72,
   "metadata": {},
   "outputs": [
    {
     "name": "stdout",
     "output_type": "stream",
     "text": [
      "(10, 3)\n"
     ]
    }
   ],
   "source": [
    "ob_p = ParentClass()\n",
    "ob_p.show()"
   ]
  },
  {
   "cell_type": "code",
   "execution_count": 73,
   "metadata": {},
   "outputs": [
    {
     "name": "stdout",
     "output_type": "stream",
     "text": [
      "1000\n"
     ]
    }
   ],
   "source": [
    "ob_c = childClass()\n",
    "ob_c.power()"
   ]
  },
  {
   "cell_type": "code",
   "execution_count": 78,
   "metadata": {},
   "outputs": [
    {
     "name": "stdout",
     "output_type": "stream",
     "text": [
      "(10, 3)\n"
     ]
    }
   ],
   "source": [
    "class ParentClass:\n",
    "    \n",
    "    def __init__(self):\n",
    "        self.val1 = 10\n",
    "        self.val2 = 3\n",
    "        \n",
    "    def show(self):\n",
    "        print((self.val1,self.val2))\n",
    "        \n",
    "# class childClass(ParentClass):\n",
    "#     def power(self):\n",
    "#         print(self.val1**self.val2)\n",
    "\n",
    "ob = ParentClass()\n",
    "# ob.values()\n",
    "ob.show()"
   ]
  },
  {
   "cell_type": "code",
   "execution_count": null,
   "metadata": {},
   "outputs": [],
   "source": []
  },
  {
   "cell_type": "code",
   "execution_count": null,
   "metadata": {},
   "outputs": [],
   "source": []
  },
  {
   "cell_type": "markdown",
   "metadata": {},
   "source": [
    "## Multiple Inheritence\n",
    "\n",
    "####  more than one parent class and only one child class\n",
    "\n",
    "![](multi.png)"
   ]
  },
  {
   "cell_type": "code",
   "execution_count": 85,
   "metadata": {},
   "outputs": [
    {
     "name": "stdout",
     "output_type": "stream",
     "text": [
      "3000\n"
     ]
    }
   ],
   "source": [
    "class fatherClass:\n",
    "    def __init__(self):\n",
    "        self.money = 1000\n",
    "        \n",
    "        \n",
    "class MotherClass:\n",
    "    def __init__(self):\n",
    "        self.amount  = 2000\n",
    "        \n",
    "\n",
    "class Child(fatherClass,MotherClass):\n",
    "    def __init__(self):\n",
    "        fatherClass.__init__(self)\n",
    "        MotherClass.__init__(self)\n",
    "        print(self.money+self.amount)\n",
    "        \n",
    "ob_Child = Child()"
   ]
  },
  {
   "cell_type": "code",
   "execution_count": 95,
   "metadata": {},
   "outputs": [
    {
     "name": "stdout",
     "output_type": "stream",
     "text": [
      "feature of classA\n"
     ]
    }
   ],
   "source": [
    "class A:\n",
    "    def feature1():\n",
    "        print(\"feature of classA\")\n",
    "        \n",
    "class B:\n",
    "    def feature2():\n",
    "        print(\"feature of classB\")\n",
    "\n",
    "class C(A,B):\n",
    "    def feature3():\n",
    "        print(\"feature of classC\")\n",
    "        \n",
    "\n",
    "\n",
    "obj1= A\n",
    "obj1.feature1()\n"
   ]
  },
  {
   "cell_type": "code",
   "execution_count": 97,
   "metadata": {},
   "outputs": [
    {
     "name": "stdout",
     "output_type": "stream",
     "text": [
      "feature of classB\n"
     ]
    }
   ],
   "source": [
    "obj2=B\n",
    "obj2.feature2()\n"
   ]
  },
  {
   "cell_type": "code",
   "execution_count": 100,
   "metadata": {},
   "outputs": [
    {
     "name": "stdout",
     "output_type": "stream",
     "text": [
      "feature of classC\n",
      "feature of classB\n",
      "feature of classA\n"
     ]
    }
   ],
   "source": [
    "obj3=C\n",
    "obj3.feature3()\n",
    "obj3.feature2()\n",
    "obj3.feature1()\n"
   ]
  },
  {
   "cell_type": "markdown",
   "metadata": {},
   "source": [
    "# Task:\n",
    "* Create two different parent classes and it returns Phone OTP and Mail OTP\n",
    "* create only one child class and it returns both combination of OTP\n",
    "\n",
    "\n",
    "ex : \n",
    "1 Parent_class  -- 478434\n",
    "2 Parent_class  -- 095869\n",
    "\n",
    "child - 478434095869"
   ]
  },
  {
   "cell_type": "code",
   "execution_count": 104,
   "metadata": {},
   "outputs": [
    {
     "name": "stdout",
     "output_type": "stream",
     "text": [
      "478434 895869\n"
     ]
    }
   ],
   "source": [
    "class parent1():\n",
    "    def __init__(self):\n",
    "        self.mobile_otp=478434\n",
    "class parent2():\n",
    "    def __init__(self):\n",
    "        self.mail_otp=895869\n",
    "class child():\n",
    "    def __init__(self):\n",
    "        parent1.__init__(self)\n",
    "        parent2.__init__(self)\n",
    "        print(self.mobile_otp,self.mail_otp)\n",
    "ob_child=child()"
   ]
  },
  {
   "cell_type": "code",
   "execution_count": 105,
   "metadata": {},
   "outputs": [
    {
     "name": "stdout",
     "output_type": "stream",
     "text": [
      "phone otp: 23230 mobile otp: 25852\n"
     ]
    }
   ],
   "source": [
    "class phoneotp:\n",
    "    def __init__(self):\n",
    "        self.mobileotp = 23230\n",
    "\n",
    "class mailotp:\n",
    "    def __init__(self):\n",
    "        self.mailotp = 25852\n",
    "        \n",
    "class allotp(phoneotp,mailotp):\n",
    "    def __init__(self):\n",
    "        phoneotp.__init__(self)\n",
    "        mailotp.__init__(self)\n",
    "        print(\"phone otp:\",self.mobileotp,\"mobile otp:\",self.mailotp)\n",
    "ob_allotp = allotp()\n"
   ]
  },
  {
   "cell_type": "code",
   "execution_count": 113,
   "metadata": {},
   "outputs": [
    {
     "data": {
      "text/plain": [
       "999871"
      ]
     },
     "execution_count": 113,
     "metadata": {},
     "output_type": "execute_result"
    }
   ],
   "source": [
    "# Random OTP generation\n",
    "\n",
    "import random\n",
    "def OTP():\n",
    "    otp = random.randint(100000,999999)\n",
    "    return otp\n",
    "    \n",
    "OTP()"
   ]
  },
  {
   "cell_type": "code",
   "execution_count": 122,
   "metadata": {},
   "outputs": [
    {
     "name": "stdout",
     "output_type": "stream",
     "text": [
      "186886487467\n"
     ]
    }
   ],
   "source": [
    "import random\n",
    "class parent1():\n",
    "    def __init__(self):\n",
    "        self.mobile_otp=random.randint(100000,1000000)\n",
    "class parent2():\n",
    "    def __init__(self):\n",
    "        self.mail_otp=random.randint(100000,1000000)\n",
    "class child():\n",
    "    def __init__(self):\n",
    "        parent1.__init__(self)\n",
    "        parent2.__init__(self)\n",
    "        print(str(self.mobile_otp)+str(self.mail_otp))\n",
    "ob_child=child()"
   ]
  },
  {
   "cell_type": "code",
   "execution_count": 117,
   "metadata": {},
   "outputs": [
    {
     "data": {
      "text/plain": [
       "69"
      ]
     },
     "execution_count": 117,
     "metadata": {},
     "output_type": "execute_result"
    }
   ],
   "source": [
    "random.randint(10,200)"
   ]
  },
  {
   "cell_type": "code",
   "execution_count": null,
   "metadata": {},
   "outputs": [],
   "source": [
    "for i in range(4):\n",
    "        s += str(random.randint)\n",
    "    return s"
   ]
  },
  {
   "cell_type": "markdown",
   "metadata": {},
   "source": [
    "## Multilevel Inheritence\n",
    "\n",
    "####  Have grandParent, parent and  child relationship\n",
    "####  When we have a child and grandchild relationship.\n",
    "\n",
    "![](multilevel.jpg)"
   ]
  },
  {
   "cell_type": "code",
   "execution_count": 174,
   "metadata": {},
   "outputs": [],
   "source": [
    "class Granny:\n",
    "    def __init__(self):\n",
    "        self.property = \"20lakhs\"\n",
    "class Father(Granny):\n",
    "    def __init__(self):\n",
    "        super().__init__()\n",
    "        print(self.property)\n",
    "        self.initial = \"Polamarasetty\"\n",
    "\n",
    "class child(Father):\n",
    "    def __init__(self):\n",
    "        self.a = 1000000\n",
    "        super().__init__()\n",
    "        print(self.a,self.a,self.initial,self.property)\n"
   ]
  },
  {
   "cell_type": "code",
   "execution_count": 175,
   "metadata": {},
   "outputs": [
    {
     "name": "stdout",
     "output_type": "stream",
     "text": [
      "20lakhs\n",
      "1000000 1000000 Polamarasetty 20lakhs\n"
     ]
    }
   ],
   "source": [
    "ob_child = child()"
   ]
  },
  {
   "cell_type": "code",
   "execution_count": null,
   "metadata": {},
   "outputs": [],
   "source": []
  },
  {
   "cell_type": "code",
   "execution_count": null,
   "metadata": {},
   "outputs": [],
   "source": []
  },
  {
   "cell_type": "markdown",
   "metadata": {},
   "source": [
    "## only one parent class and more one child class"
   ]
  },
  {
   "cell_type": "code",
   "execution_count": null,
   "metadata": {},
   "outputs": [],
   "source": [
    "class parentClass:\n",
    "    body\n",
    "    \n",
    "class child1(parentClass):\n",
    "    body\n",
    "    \n",
    "class child2(parentClass):\n",
    "    body"
   ]
  }
 ],
 "metadata": {
  "kernelspec": {
   "display_name": "Python 3",
   "language": "python",
   "name": "python3"
  },
  "language_info": {
   "codemirror_mode": {
    "name": "ipython",
    "version": 3
   },
   "file_extension": ".py",
   "mimetype": "text/x-python",
   "name": "python",
   "nbconvert_exporter": "python",
   "pygments_lexer": "ipython3",
   "version": "3.7.1"
  }
 },
 "nbformat": 4,
 "nbformat_minor": 2
}
