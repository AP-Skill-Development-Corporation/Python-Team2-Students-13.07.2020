{
 "cells": [
  {
   "cell_type": "markdown",
   "metadata": {},
   "source": [
    "# Python\n",
    "## python introction\n",
    "### Who uses python\n",
    "#### Advantages\n",
    "##### Applications\n",
    "###### Literate rogramming"
   ]
  },
  {
   "cell_type": "code",
   "execution_count": 1,
   "metadata": {},
   "outputs": [
    {
     "name": "stdout",
     "output_type": "stream",
     "text": [
      "8\n",
      "3\n",
      "5.0\n"
     ]
    }
   ],
   "source": [
    "# Addition of two numbers\n",
    "\"\"\"x=int(input())\n",
    "y=int(input())\n",
    "z=x+y\n",
    "print(z)\"\"\"\n",
    "\n",
    "# Subtraction two numbers\n",
    "x=float(input())\n",
    "y=float(input())\n",
    "z=x-y\n",
    "print(z)\n"
   ]
  },
  {
   "cell_type": "markdown",
   "metadata": {},
   "source": [
    "# Advantages\n",
    "- Object Oriented Programming\n",
    "- **Simple to use**\n",
    "- *Best for ML & DS*\n",
    "- Huge collection of packages & libraries"
   ]
  },
  {
   "cell_type": "code",
   "execution_count": 15,
   "metadata": {},
   "outputs": [
    {
     "name": "stdout",
     "output_type": "stream",
     "text": [
      "54.059999999999995\n"
     ]
    }
   ],
   "source": [
    "x=10.2\n",
    "y=5.3\n",
    "z=x*y\n",
    "print(z)\n"
   ]
  }
 ],
 "metadata": {
  "kernelspec": {
   "display_name": "Python 3",
   "language": "python",
   "name": "python3"
  },
  "language_info": {
   "codemirror_mode": {
    "name": "ipython",
    "version": 3
   },
   "file_extension": ".py",
   "mimetype": "text/x-python",
   "name": "python",
   "nbconvert_exporter": "python",
   "pygments_lexer": "ipython3",
   "version": "3.7.6"
  }
 },
 "nbformat": 4,
 "nbformat_minor": 4
}
