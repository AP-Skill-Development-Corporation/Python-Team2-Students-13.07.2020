{
 "cells": [
  {
   "cell_type": "markdown",
   "metadata": {},
   "source": [
    "### Module\n",
    "- collection of functions\n",
    "### package\n",
    "- collection of modules"
   ]
  },
  {
   "cell_type": "code",
   "execution_count": 1,
   "metadata": {},
   "outputs": [
    {
     "data": {
      "text/plain": [
       "10.0"
      ]
     },
     "execution_count": 1,
     "metadata": {},
     "output_type": "execute_result"
    }
   ],
   "source": [
    "import math\n",
    "math.sqrt(100)"
   ]
  },
  {
   "cell_type": "code",
   "execution_count": 2,
   "metadata": {},
   "outputs": [
    {
     "data": {
      "text/plain": [
       "6.0"
      ]
     },
     "execution_count": 2,
     "metadata": {},
     "output_type": "execute_result"
    }
   ],
   "source": [
    "# from package import module\n",
    "from math import sqrt\n",
    "sqrt(36)"
   ]
  },
  {
   "cell_type": "code",
   "execution_count": 4,
   "metadata": {},
   "outputs": [
    {
     "data": {
      "text/plain": [
       "3"
      ]
     },
     "execution_count": 4,
     "metadata": {},
     "output_type": "execute_result"
    }
   ],
   "source": [
    "from random import randrange as a1\n",
    "a1(1,10)"
   ]
  },
  {
   "cell_type": "code",
   "execution_count": 5,
   "metadata": {},
   "outputs": [
    {
     "data": {
      "text/plain": [
       "14"
      ]
     },
     "execution_count": 5,
     "metadata": {},
     "output_type": "execute_result"
    }
   ],
   "source": [
    "from random import randint\n",
    "randint(1,18)"
   ]
  },
  {
   "cell_type": "code",
   "execution_count": 6,
   "metadata": {},
   "outputs": [],
   "source": [
    "# karanam jhansi\n",
    "\n",
    "# k jhansi - 45 - a\n",
    "# k.jhansi - 50 - a\n",
    "# k.Jhansi\n",
    "\n"
   ]
  },
  {
   "cell_type": "markdown",
   "metadata": {},
   "source": [
    "# Regular expression\n",
    "- it can also be called as re,regex\n",
    "- A regular expression is a sequence of characters that match a pattern\n",
    "- its a symbolic represtation"
   ]
  },
  {
   "cell_type": "markdown",
   "metadata": {},
   "source": [
    "- character  Usecase\n",
    "- []        represent a character\n",
    "- ^         matches the begining\n",
    "- *         zero or more occurence\n",
    "- +         one or more occurence\n",
    "- .         matches  a character\n",
    "- {}        range set\n",
    "- [a-zA-Z]  alphbet range\n",
    "- [0-9]     digits\n",
    "- |         or \n",
    "- $         matches the ending"
   ]
  },
  {
   "cell_type": "markdown",
   "metadata": {},
   "source": [
    "#### methods\n",
    "- search()\n",
    "- match()\n",
    "- findall()"
   ]
  },
  {
   "cell_type": "code",
   "execution_count": 3,
   "metadata": {},
   "outputs": [
    {
     "data": {
      "text/plain": [
       "<re.Match object; span=(3, 5), match='ho'>"
      ]
     },
     "execution_count": 3,
     "metadata": {},
     "output_type": "execute_result"
    }
   ],
   "source": [
    "import re\n",
    "re.search(\"ho\",\"python\")"
   ]
  },
  {
   "cell_type": "code",
   "execution_count": 2,
   "metadata": {},
   "outputs": [],
   "source": [
    "re.search(\"j\",\"python\")"
   ]
  },
  {
   "cell_type": "code",
   "execution_count": 9,
   "metadata": {},
   "outputs": [
    {
     "data": {
      "text/plain": [
       "<re.Match object; span=(0, 6), match='python'>"
      ]
     },
     "execution_count": 9,
     "metadata": {},
     "output_type": "execute_result"
    }
   ],
   "source": [
    "re.match(\"python\",\"python\")"
   ]
  },
  {
   "cell_type": "code",
   "execution_count": 6,
   "metadata": {},
   "outputs": [
    {
     "data": {
      "text/plain": [
       "<re.Match object; span=(1, 2), match='o'>"
      ]
     },
     "execution_count": 6,
     "metadata": {},
     "output_type": "execute_result"
    }
   ],
   "source": [
    "re.search(\"o\",\"workshop\")"
   ]
  },
  {
   "cell_type": "code",
   "execution_count": 8,
   "metadata": {},
   "outputs": [
    {
     "data": {
      "text/plain": [
       "['o', 'o', 'o']"
      ]
     },
     "execution_count": 8,
     "metadata": {},
     "output_type": "execute_result"
    }
   ],
   "source": [
    "re.findall(\"o\",\"workoshop\")"
   ]
  },
  {
   "cell_type": "code",
   "execution_count": 15,
   "metadata": {},
   "outputs": [
    {
     "name": "stdout",
     "output_type": "stream",
     "text": [
      "enterarya\n",
      "True\n"
     ]
    }
   ],
   "source": [
    "# adhya\n",
    "# aradhana\n",
    "pattern='^[a][a-z]*[a]$'\n",
    "string = input(\"enter\")\n",
    "if re.match(pattern,string):\n",
    "    print(\"True\")\n",
    "else:print(\"False\")"
   ]
  },
  {
   "cell_type": "code",
   "execution_count": null,
   "metadata": {},
   "outputs": [],
   "source": [
    "# phone number validator\n",
    "# 10 digits - 6789\n",
    "#           - ^[6-9][0-9]{9}$\n",
    "# 11 digits - 0 10 digits\n",
    "#           - ^[0][6-9][0-9]{9}$\n",
    "# 12 digits - +91 6789012345\n",
    "#           - ^[+][9][1][6-9][0-9]{9}$"
   ]
  },
  {
   "cell_type": "code",
   "execution_count": 19,
   "metadata": {},
   "outputs": [
    {
     "name": "stdout",
     "output_type": "stream",
     "text": [
      "enter06789123456\n",
      "True\n"
     ]
    }
   ],
   "source": [
    "pattern='^[6-9][0-9]{9}$|^[0][6-9][0-9]{9}$|^[+][9][1][6-9][0-9]{9}$'\n",
    "string = input(\"enter\")\n",
    "if re.match(pattern,string):\n",
    "    print(\"True\")\n",
    "else:print(\"False\")"
   ]
  },
  {
   "cell_type": "code",
   "execution_count": null,
   "metadata": {},
   "outputs": [],
   "source": [
    "# email validation\n",
    "# abcfghj_@gmail.com\n",
    "# username@domain.extension\n",
    "# username - contains digits,alphabet,_,., - 6,16 characters\n",
    "#            - ^[0-9a-z][0-9a-z_.]{5,15}[0-9a-z]\n",
    "# domain - alphabet,digits - 5,12 characters\n",
    "#            - [a-z0-9]{5,12}\n",
    "# extension - contains only alphabet - 2,5 characters\n",
    "#            - [a-z]{2,5}"
   ]
  },
  {
   "cell_type": "code",
   "execution_count": 20,
   "metadata": {},
   "outputs": [
    {
     "name": "stdout",
     "output_type": "stream",
     "text": [
      "enterabcdgj56.p@gmail.com\n",
      "True\n"
     ]
    }
   ],
   "source": [
    "pattern = '^[0-9a-z][0-9a-z_.]{5,15}[0-9a-z][@][a-z0-9]{5,12}[.][a-z]{2,5}$'\n",
    "string = input(\"enter\")\n",
    "if re.match(pattern,string):\n",
    "    print(\"True\")\n",
    "else:print(\"False\")"
   ]
  },
  {
   "cell_type": "markdown",
   "metadata": {},
   "source": [
    "### File handling\n",
    "- file is a collection of information and allows user to read,write and to append files\n",
    "#### steps in file handling\n",
    "- open the file\n",
    "- perform the operation(s)\n",
    "- close the file"
   ]
  },
  {
   "cell_type": "code",
   "execution_count": 26,
   "metadata": {},
   "outputs": [
    {
     "name": "stdout",
     "output_type": "stream",
     "text": [
      "i am data txt file\n"
     ]
    }
   ],
   "source": [
    "f= open(\"data.txt\")\n",
    "fh = f.read()\n",
    "print(fh)\n",
    "f.close()"
   ]
  },
  {
   "cell_type": "code",
   "execution_count": 28,
   "metadata": {},
   "outputs": [
    {
     "name": "stdout",
     "output_type": "stream",
     "text": [
      "i am data txt file\n"
     ]
    }
   ],
   "source": [
    "with open(\"data.txt\",'r') as f1:\n",
    "    fh1 = f1.read()\n",
    "    print(fh1)"
   ]
  },
  {
   "cell_type": "code",
   "execution_count": 29,
   "metadata": {},
   "outputs": [],
   "source": [
    "with open(\"sample.txt\",'w') as f2:\n",
    "    fw = f2.write(\"Python\")\n",
    "    "
   ]
  },
  {
   "cell_type": "code",
   "execution_count": 30,
   "metadata": {},
   "outputs": [],
   "source": [
    "with open(\"sample.txt\",'a') as f2:\n",
    "    fw = f2.write(\"Apssdc online training\")\n"
   ]
  },
  {
   "cell_type": "code",
   "execution_count": 42,
   "metadata": {},
   "outputs": [
    {
     "name": "stdout",
     "output_type": "stream",
     "text": [
      "sample\n",
      "file\n",
      "for\n",
      "better\n",
      "undersatnding\n",
      "36\n",
      "23\n"
     ]
    }
   ],
   "source": [
    "f = open(\"Datafiles/example.txt\",'r')\n",
    "fk = f.read()\n",
    "print(fk)\n",
    "print(f.tell())\n",
    "f.seek(23)\n",
    "print(f.tell())"
   ]
  },
  {
   "cell_type": "code",
   "execution_count": 34,
   "metadata": {},
   "outputs": [
    {
     "name": "stdout",
     "output_type": "stream",
     "text": [
      "['sample\\n', 'file\\n', 'for\\n', 'better\\n', 'undersatnding']\n"
     ]
    }
   ],
   "source": [
    "f = open(\"Datafiles/example.txt\",'r')\n",
    "fr = f.readlines()\n",
    "print(fr)"
   ]
  },
  {
   "cell_type": "code",
   "execution_count": 41,
   "metadata": {},
   "outputs": [
    {
     "name": "stdout",
     "output_type": "stream",
     "text": [
      "['Pyth', 'nApssdc ', 'nline training']\n"
     ]
    }
   ],
   "source": [
    "with open(\"sample.txt\") as fs:\n",
    "    fh = fs.read()\n",
    "    words = fh.split(\"o\")\n",
    "    print(words)"
   ]
  },
  {
   "cell_type": "code",
   "execution_count": null,
   "metadata": {},
   "outputs": [],
   "source": []
  }
 ],
 "metadata": {
  "kernelspec": {
   "display_name": "Python 3",
   "language": "python",
   "name": "python3"
  },
  "language_info": {
   "codemirror_mode": {
    "name": "ipython",
    "version": 3
   },
   "file_extension": ".py",
   "mimetype": "text/x-python",
   "name": "python",
   "nbconvert_exporter": "python",
   "pygments_lexer": "ipython3",
   "version": "3.7.1"
  }
 },
 "nbformat": 4,
 "nbformat_minor": 2
}
