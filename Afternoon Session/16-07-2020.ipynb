{
 "cells": [
  {
   "cell_type": "code",
   "execution_count": 1,
   "metadata": {},
   "outputs": [
    {
     "name": "stdout",
     "output_type": "stream",
     "text": [
      "10\n",
      "9\n",
      "8\n",
      "7\n",
      "6\n",
      "5\n",
      "4\n",
      "3\n",
      "2\n",
      "1\n"
     ]
    }
   ],
   "source": [
    "for i in range(10,0,-1):\n",
    "    print(i)"
   ]
  },
  {
   "cell_type": "code",
   "execution_count": null,
   "metadata": {},
   "outputs": [],
   "source": [
    "# range(start,stop,step)-->start(0) and step(+1) are optional"
   ]
  },
  {
   "cell_type": "code",
   "execution_count": 2,
   "metadata": {},
   "outputs": [
    {
     "name": "stdout",
     "output_type": "stream",
     "text": [
      "10\n",
      "12\n",
      "14\n",
      "16\n",
      "18\n"
     ]
    }
   ],
   "source": [
    "for i in range(10,20,2):\n",
    "    print(i)"
   ]
  },
  {
   "cell_type": "markdown",
   "metadata": {},
   "source": [
    "### Function:\n",
    "- set of instructions to execute a task more than once\n",
    "#### Pre-defined functions\n",
    "- print(), input(),type(),range(),int(),float(),str(),min(),max(),chr(),ord(),len(),\n",
    "- list(),tuple(),set(),bool()\n",
    "#### User defined functions\n",
    "- Required arguments\n",
    "- keyword arguments\n",
    "- default arguements\n",
    "- variable length arguments"
   ]
  },
  {
   "cell_type": "code",
   "execution_count": 9,
   "metadata": {},
   "outputs": [
    {
     "data": {
      "text/plain": [
       "(' ', 't', '0', '4')"
      ]
     },
     "execution_count": 9,
     "metadata": {},
     "output_type": "execute_result"
    }
   ],
   "source": [
    "i = \"12340\"\n",
    "s = \"this is a string\"\n",
    "min(s),max(s),min(i),max(i)"
   ]
  },
  {
   "cell_type": "code",
   "execution_count": 13,
   "metadata": {},
   "outputs": [
    {
     "data": {
      "text/plain": [
       "('1', str)"
      ]
     },
     "execution_count": 13,
     "metadata": {},
     "output_type": "execute_result"
    }
   ],
   "source": [
    "k=123\n",
    "k=str(k)\n",
    "min(k),type(k)"
   ]
  },
  {
   "cell_type": "code",
   "execution_count": 23,
   "metadata": {},
   "outputs": [
    {
     "data": {
      "text/plain": [
       "'a'"
      ]
     },
     "execution_count": 23,
     "metadata": {},
     "output_type": "execute_result"
    }
   ],
   "source": [
    "chr(32) \n",
    "chr(97)"
   ]
  },
  {
   "cell_type": "code",
   "execution_count": 21,
   "metadata": {},
   "outputs": [
    {
     "data": {
      "text/plain": [
       "52"
      ]
     },
     "execution_count": 21,
     "metadata": {},
     "output_type": "execute_result"
    }
   ],
   "source": [
    "ord('a')\n",
    "ord('4')"
   ]
  },
  {
   "cell_type": "code",
   "execution_count": null,
   "metadata": {},
   "outputs": [],
   "source": [
    "# syntax\n",
    "def Functionname(parameters):\n",
    "    statements\n",
    "Functionname(parameters)"
   ]
  },
  {
   "cell_type": "code",
   "execution_count": 24,
   "metadata": {},
   "outputs": [],
   "source": [
    "def message(m):\n",
    "    print(m)\n",
    "    \n",
    "m = \"this is a function\""
   ]
  },
  {
   "cell_type": "code",
   "execution_count": 25,
   "metadata": {},
   "outputs": [
    {
     "name": "stdout",
     "output_type": "stream",
     "text": [
      "this is a function\n"
     ]
    }
   ],
   "source": [
    "message(m)"
   ]
  },
  {
   "cell_type": "code",
   "execution_count": 32,
   "metadata": {},
   "outputs": [
    {
     "data": {
      "text/plain": [
       "5"
      ]
     },
     "execution_count": 32,
     "metadata": {},
     "output_type": "execute_result"
    }
   ],
   "source": [
    "# in function definition and function call no of arguements should be equal\n",
    "def add(a,b):\n",
    "    c= a+b\n",
    "    return c\n",
    "\n",
    "add(2,3)\n",
    "\n",
    "#k = add(2,3)\n",
    "#print(k)\n",
    "\n",
    "#a = int(input(\"enter a\"))\n",
    "#b = int(input(\"enter b\"))\n",
    "#add(a,b)\n",
    "\n",
    "# add(int(input(\"enter a\")),int(input(\"enter b\")))\n"
   ]
  },
  {
   "cell_type": "code",
   "execution_count": 47,
   "metadata": {},
   "outputs": [
    {
     "name": "stdout",
     "output_type": "stream",
     "text": [
      "67.45 123 strings\n"
     ]
    }
   ],
   "source": [
    "# keyword arguements\n",
    "def arguments(a,b,c):\n",
    "    print(a,b,c)\n",
    "    #print(b)\n",
    "    #print(c)\n",
    "#arguments(1,2,3)    \n",
    "arguments(b=123,c=\"strings\",a=67.45)"
   ]
  },
  {
   "cell_type": "code",
   "execution_count": 48,
   "metadata": {},
   "outputs": [
    {
     "name": "stdout",
     "output_type": "stream",
     "text": [
      "python python\n",
      "programming\n",
      "356.98\n"
     ]
    }
   ],
   "source": [
    "# default arguments\n",
    "def defaultargs(a=\"2345\",n=890,m=356.98,b=\"python\"):\n",
    "    print(a,b)\n",
    "    print(n)\n",
    "    print(m)\n",
    "    \n",
    "#defaultargs(1,2,3,4)\n",
    "\n",
    "#defaultargs(23,34,\"hello\")\n",
    "\n",
    "#defaultargs(\"function\")\n",
    "\n",
    "defaultargs(\"python\",\"programming\")\n",
    "\n",
    "#defaultargs()"
   ]
  },
  {
   "cell_type": "code",
   "execution_count": 50,
   "metadata": {},
   "outputs": [
    {
     "name": "stdout",
     "output_type": "stream",
     "text": [
      "1 22\n",
      "(78, 3, 4, 6, 78, 89, 565.9, 776, 3, 4, 55)\n"
     ]
    }
   ],
   "source": [
    "# variable length argument\n",
    "def variable(a,b,*n):\n",
    "    print(a,b)\n",
    "    print(n)\n",
    "    #print(c)\n",
    "    \n",
    "variable(1,22,78,3,4,6,78,89,565.9,776,3,4,55)"
   ]
  },
  {
   "cell_type": "code",
   "execution_count": null,
   "metadata": {},
   "outputs": [],
   "source": [
    "# using functions \n",
    "# factorial\n",
    "# pascal's triangle\n",
    "# reverse of a given number\n",
    "# sum of the digits in a give number(123-->1+2+3=6)"
   ]
  }
 ],
 "metadata": {
  "kernelspec": {
   "display_name": "Python 3",
   "language": "python",
   "name": "python3"
  },
  "language_info": {
   "codemirror_mode": {
    "name": "ipython",
    "version": 3
   },
   "file_extension": ".py",
   "mimetype": "text/x-python",
   "name": "python",
   "nbconvert_exporter": "python",
   "pygments_lexer": "ipython3",
   "version": "3.7.1"
  }
 },
 "nbformat": 4,
 "nbformat_minor": 2
}
