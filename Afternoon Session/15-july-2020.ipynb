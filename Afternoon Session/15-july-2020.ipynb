{
 "cells": [
  {
   "cell_type": "markdown",
   "metadata": {},
   "source": [
    "# Conditional Statements\n",
    "- Decision making is depending on the condition whether the condition is satisfied or not.\n",
    "- in python we : at the end of the condition.\n",
    "- **if**\n",
    "- **if...else**\n",
    "- **if...elif...else**\n",
    "- **Nested if**\n"
   ]
  },
  {
   "cell_type": "code",
   "execution_count": 1,
   "metadata": {},
   "outputs": [
    {
     "data": {
      "text/plain": [
       "True"
      ]
     },
     "execution_count": 1,
     "metadata": {},
     "output_type": "execute_result"
    }
   ],
   "source": [
    "2==2"
   ]
  },
  {
   "cell_type": "code",
   "execution_count": 3,
   "metadata": {},
   "outputs": [
    {
     "data": {
      "text/plain": [
       "False"
      ]
     },
     "execution_count": 3,
     "metadata": {},
     "output_type": "execute_result"
    }
   ],
   "source": [
    "5==6"
   ]
  },
  {
   "cell_type": "code",
   "execution_count": 4,
   "metadata": {},
   "outputs": [
    {
     "data": {
      "text/plain": [
       "bool"
      ]
     },
     "execution_count": 4,
     "metadata": {},
     "output_type": "execute_result"
    }
   ],
   "source": [
    "type(True)"
   ]
  },
  {
   "cell_type": "code",
   "execution_count": 5,
   "metadata": {},
   "outputs": [
    {
     "data": {
      "text/plain": [
       "bool"
      ]
     },
     "execution_count": 5,
     "metadata": {},
     "output_type": "execute_result"
    }
   ],
   "source": [
    "type(False)"
   ]
  },
  {
   "cell_type": "code",
   "execution_count": 7,
   "metadata": {},
   "outputs": [
    {
     "name": "stdout",
     "output_type": "stream",
     "text": [
      "False\n",
      "True\n",
      "True\n"
     ]
    }
   ],
   "source": [
    "a=6\n",
    "b=7\n",
    "c=42\n",
    "print(a==7 and b==7) #---> F and T = F\n",
    "print(not a==7 and b==7) #---> not(F) and T = T\n",
    "print(not(a==7 and b==7)) #--->not(F) = T"
   ]
  },
  {
   "cell_type": "code",
   "execution_count": 3,
   "metadata": {},
   "outputs": [
    {
     "name": "stdout",
     "output_type": "stream",
     "text": [
      "what is your username?poojitha\n",
      "what is ur pwd?pooji\n",
      "welcome poojitha\n"
     ]
    }
   ],
   "source": [
    "username = input(\"what is your username?\")\n",
    "password = input(\"what is ur pwd?\")\n",
    "if username==\"sudha\" and password==\"sana\":\n",
    "    print(\"welcome\")\n",
    "elif username==\"poojitha\" and password==\"pooji\":\n",
    "    print(\"welcome poojitha\")\n",
    "else:\n",
    "    print(\"wrong logins\")"
   ]
  },
  {
   "cell_type": "code",
   "execution_count": 7,
   "metadata": {},
   "outputs": [
    {
     "name": "stdout",
     "output_type": "stream",
     "text": [
      "enter value:0\n",
      "zero\n"
     ]
    }
   ],
   "source": [
    "num=float(input(\"enter value:\"))\n",
    "if num >= 0:\n",
    "    if num == 0:\n",
    "        print(\"zero\")\n",
    "    else:\n",
    "        print(\"possitive\")\n",
    "else:\n",
    "    print(\"negative\")"
   ]
  },
  {
   "cell_type": "code",
   "execution_count": 20,
   "metadata": {},
   "outputs": [
    {
     "name": "stdout",
     "output_type": "stream",
     "text": [
      "enter year:2000\n",
      "leap\n"
     ]
    }
   ],
   "source": [
    "# Task\n",
    "# given year leap or not\n",
    "year = int(input(\"enter year:\"))\n",
    "if year % 400 == 0 or (year % 100 !=0 and year % 4 ==0):\n",
    "    print(\"leap\")\n",
    "else:\n",
    "    print(\"not a leap\")"
   ]
  },
  {
   "cell_type": "markdown",
   "metadata": {},
   "source": [
    "# Iterations\n",
    "## looping Statements\n",
    "- ***A loop statement allows us to execute a statement or group of statements at multiple times.***\n",
    "- for loop\n",
    "- while loop\n",
    "- **Jumping statements**\n",
    "- break\n",
    "- continue\n",
    "- syntax: for variable in sequence:\n",
    "                statements\n",
    "          else:\n",
    "              statements"
   ]
  },
  {
   "cell_type": "code",
   "execution_count": 23,
   "metadata": {},
   "outputs": [
    {
     "name": "stdout",
     "output_type": "stream",
     "text": [
      "1 2 3 4 5 "
     ]
    }
   ],
   "source": [
    "# print a 1 to 10 natural numbers by using for loop.\n",
    "for i in range(1,6):\n",
    "    print(i,end=\" \")\n"
   ]
  },
  {
   "cell_type": "code",
   "execution_count": 11,
   "metadata": {},
   "outputs": [
    {
     "name": "stdout",
     "output_type": "stream",
     "text": [
      "55\n"
     ]
    }
   ],
   "source": [
    "sum=0 #1\n",
    "for i in range(1,11):\n",
    "    sum=sum+i #-->0+1=1\n",
    "print(sum)"
   ]
  },
  {
   "cell_type": "code",
   "execution_count": 12,
   "metadata": {},
   "outputs": [
    {
     "name": "stdout",
     "output_type": "stream",
     "text": [
      "55\n"
     ]
    }
   ],
   "source": [
    "# program to print sum of 10 natural numbers using while\n",
    "n=10\n",
    "sum=0 #1+2+....10\n",
    "i=1 #2,3...10\n",
    "while i<=10: # --> 1<=10=T\n",
    "    sum=sum+i #-->sum=1+2=2\n",
    "    i=i+1 # i=2+1=3\n",
    "print(sum)"
   ]
  },
  {
   "cell_type": "code",
   "execution_count": 16,
   "metadata": {},
   "outputs": [
    {
     "name": "stdout",
     "output_type": "stream",
     "text": [
      "inside a loop\n",
      "inside a loop\n",
      "inside a loop\n",
      "outside loop\n"
     ]
    }
   ],
   "source": [
    "counter=0\n",
    "while counter < 3: # 3 < 3 = F \n",
    "    print(\"inside a loop\")\n",
    "    counter = counter + 1 # counter = 2 +1=3\n",
    "else:\n",
    "    print(\"outside loop\")"
   ]
  },
  {
   "cell_type": "code",
   "execution_count": 17,
   "metadata": {},
   "outputs": [
    {
     "name": "stdout",
     "output_type": "stream",
     "text": [
      "s\n",
      "u\n",
      "d\n",
      "the end\n"
     ]
    }
   ],
   "source": [
    "# break\n",
    "for val in \"sudha\":\n",
    "    if val == 'h':\n",
    "        break\n",
    "    print(val)\n",
    "print(\"the end\")"
   ]
  },
  {
   "cell_type": "code",
   "execution_count": 19,
   "metadata": {},
   "outputs": [
    {
     "name": "stdout",
     "output_type": "stream",
     "text": [
      "s\n",
      "u\n",
      "d\n",
      "a\n",
      "s\n",
      "a\n",
      "n\n",
      "a\n",
      "the end\n"
     ]
    }
   ],
   "source": [
    "# continue\n",
    "for val in \"sudhasana\":\n",
    "    if val == 'h':\n",
    "        continue\n",
    "    print(val)\n",
    "print(\"the end\")"
   ]
  },
  {
   "cell_type": "code",
   "execution_count": 25,
   "metadata": {},
   "outputs": [
    {
     "name": "stdout",
     "output_type": "stream",
     "text": [
      "enter number:12345\n",
      "54321\n"
     ]
    }
   ],
   "source": [
    "# reversing order\n",
    "n=int(input(\"enter number:\"))\n",
    "rev=0\n",
    "while(n>0):\n",
    "    d=n%10\n",
    "    rev=rev*10+d\n",
    "    n=n//10\n",
    "print(rev)"
   ]
  },
  {
   "cell_type": "code",
   "execution_count": null,
   "metadata": {},
   "outputs": [],
   "source": []
  }
 ],
 "metadata": {
  "kernelspec": {
   "display_name": "Python 3",
   "language": "python",
   "name": "python3"
  },
  "language_info": {
   "codemirror_mode": {
    "name": "ipython",
    "version": 3
   },
   "file_extension": ".py",
   "mimetype": "text/x-python",
   "name": "python",
   "nbconvert_exporter": "python",
   "pygments_lexer": "ipython3",
   "version": "3.7.6"
  }
 },
 "nbformat": 4,
 "nbformat_minor": 4
}
