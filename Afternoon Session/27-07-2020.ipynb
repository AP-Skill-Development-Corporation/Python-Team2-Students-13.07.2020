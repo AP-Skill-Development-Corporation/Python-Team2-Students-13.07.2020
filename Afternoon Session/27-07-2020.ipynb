{
 "cells": [
  {
   "cell_type": "markdown",
   "metadata": {},
   "source": [
    "## oops\n",
    "### object\n",
    " - Physical existence of a class is nothing but an object \n",
    "### Class\n",
    " - collection of variables and methods\n",
    "#### variable\n",
    " - properties are represented as variables in class\n",
    "#### methods\n",
    " - actions to be done in class is represented by method"
   ]
  },
  {
   "cell_type": "code",
   "execution_count": 1,
   "metadata": {},
   "outputs": [
    {
     "data": {
      "text/plain": [
       "<__main__.sample at 0x2099bcfe240>"
      ]
     },
     "execution_count": 1,
     "metadata": {},
     "output_type": "execute_result"
    }
   ],
   "source": [
    "class sample:\n",
    "    '''this is a sample class'''\n",
    "    \n",
    "a = sample()\n",
    "a"
   ]
  },
  {
   "cell_type": "code",
   "execution_count": 3,
   "metadata": {},
   "outputs": [
    {
     "data": {
      "text/plain": [
       "'this is a sample class'"
      ]
     },
     "execution_count": 3,
     "metadata": {},
     "output_type": "execute_result"
    }
   ],
   "source": [
    "a.__doc__"
   ]
  },
  {
   "cell_type": "code",
   "execution_count": 4,
   "metadata": {},
   "outputs": [
    {
     "data": {
      "text/plain": [
       "<__main__.example at 0x2099bcfe710>"
      ]
     },
     "execution_count": 4,
     "metadata": {},
     "output_type": "execute_result"
    }
   ],
   "source": [
    "class example:\n",
    "    pass\n",
    "b = example()\n",
    "b"
   ]
  },
  {
   "cell_type": "markdown",
   "metadata": {},
   "source": [
    "- init - init is called by default when an object is created for a class \n",
    "#### self\n",
    "- first argument for the constructor\n",
    "- points to the current object \n",
    "- no need to provide value for self argument at the time of obejct creation"
   ]
  },
  {
   "cell_type": "code",
   "execution_count": 11,
   "metadata": {},
   "outputs": [
    {
     "name": "stdout",
     "output_type": "stream",
     "text": [
      "in init constructor \n",
      "priya 123\n"
     ]
    }
   ],
   "source": [
    "class student:\n",
    "    def __init__(self,sname,rollno):\n",
    "        self.sname = sname\n",
    "        self.rollno = rollno        \n",
    "        print(\"in init constructor \")\n",
    "    def display(self):\n",
    "        print(self.sname,self.rollno)\n",
    "        \n",
    "s = student('priya',123)\n",
    "s.display()"
   ]
  },
  {
   "cell_type": "code",
   "execution_count": 12,
   "metadata": {},
   "outputs": [
    {
     "name": "stdout",
     "output_type": "stream",
     "text": [
      "values are taken\n",
      "22\n",
      "enter arg150\n",
      "enter arg280\n",
      "values are taken\n",
      "130\n"
     ]
    }
   ],
   "source": [
    "class calci:\n",
    "    def __init__(self,arg1,arg2):\n",
    "        self.arg1 = arg1\n",
    "        self.arg2  = arg2\n",
    "        print(\"values are taken\")\n",
    "    def add(self):\n",
    "        print(self.arg1+self.arg2)\n",
    "        \n",
    "ob1 = calci(12,10)\n",
    "ob1.add()\n",
    "ob2 = calci(int(input(\"enter arg1\")),int(input(\"enter arg2\")))\n",
    "ob2.add()"
   ]
  },
  {
   "cell_type": "markdown",
   "metadata": {},
   "source": [
    "### Types of methods\n",
    "- instance method\n",
    "- class method\n",
    "- static method"
   ]
  },
  {
   "cell_type": "code",
   "execution_count": 20,
   "metadata": {},
   "outputs": [
    {
     "name": "stdout",
     "output_type": "stream",
     "text": [
      "poojitha 126 56\n",
      "corporation is: APSSDC\n",
      "enter24\n",
      "enter3\n",
      "8\n"
     ]
    }
   ],
   "source": [
    "class Employee:\n",
    "    corp = \"APSSDC\"\n",
    "    def __init__(self,ename,eid,esalary):\n",
    "        self.ename = ename\n",
    "        self.eid = eid\n",
    "        self.esalary = esalary\n",
    "        \n",
    "    def show(self): # instance method\n",
    "        print(self.ename,self.eid,self.esalary)\n",
    "        \n",
    "    def corporation(temp): # class method\n",
    "        print(\"corporation is: \"+temp.corp)\n",
    "        \n",
    "    def div(a,b): # static method\n",
    "        print(a//b)\n",
    "        \n",
    "e = Employee(\"poojitha\",126,56)\n",
    "e.show()\n",
    "e.corporation()\n",
    "Employee.div(int(input(\"enter\")),int(input(\"enter\")))      "
   ]
  },
  {
   "cell_type": "markdown",
   "metadata": {},
   "source": [
    "## inheritance\n",
    "- Acquiring properties from parent class to child class\n",
    "- code reusability \n",
    "#### Types\n",
    "- single\n",
    "- Multiple\n",
    "- Multilevel\n",
    "- hierachical"
   ]
  },
  {
   "cell_type": "code",
   "execution_count": 26,
   "metadata": {},
   "outputs": [
    {
     "name": "stdout",
     "output_type": "stream",
     "text": [
      "in one function\n",
      "in two function\n",
      "in three function\n"
     ]
    }
   ],
   "source": [
    "# single inheritance\n",
    "# parent class ----> child class\n",
    "\n",
    "class parent:\n",
    "    def one(self):\n",
    "        print(\"in one function\")\n",
    "    def two(self):\n",
    "        print(\"in two function\")\n",
    "        \n",
    "class child(parent):\n",
    "    def three(self):\n",
    "        print(\"in three function\")\n",
    "    def four(self):\n",
    "        print(\"in four function\")\n",
    "        \n",
    "i = child()\n",
    "i.one()\n",
    "i.two()\n",
    "i.three()"
   ]
  },
  {
   "cell_type": "code",
   "execution_count": 28,
   "metadata": {},
   "outputs": [
    {
     "name": "stdout",
     "output_type": "stream",
     "text": [
      "mother name is :sita\n",
      "father name is :rama\n",
      "sita\n"
     ]
    }
   ],
   "source": [
    "# multiple inheritance - if a child is derived from more than one parent class\n",
    "\n",
    "class ParentOne:\n",
    "    mothername = \"\"\n",
    "    def mother(self):\n",
    "        print(self.mothername)\n",
    "\n",
    "class ParentTwo:\n",
    "    fathername = \"\"\n",
    "    def father(self):\n",
    "        print(self.fathername)\n",
    "        \n",
    "class Child(ParentOne,ParentTwo):\n",
    "    def child1(self):\n",
    "        print(\"mother name is :\"+self.mothername)\n",
    "        print(\"father name is :\"+self.fathername)\n",
    "        \n",
    "m = Child()\n",
    "m.mothername = \"sita\"\n",
    "m.fathername = \"rama\"\n",
    "m.child1()\n",
    "m.mother()        "
   ]
  },
  {
   "cell_type": "code",
   "execution_count": 1,
   "metadata": {},
   "outputs": [
    {
     "name": "stdout",
     "output_type": "stream",
     "text": [
      "intermediate\n",
      "base\n"
     ]
    }
   ],
   "source": [
    "# multilevel inheritance\n",
    "# base   --> intermediate class --> child\n",
    "class Grandfather:\n",
    "    gfathername = \"\"\n",
    "    def grandfather(self):\n",
    "        print(self.gfathername)\n",
    "        \n",
    "        \n",
    "class Father(Grandfather):\n",
    "    fathername = \"\"\n",
    "    def father(self):\n",
    "        print(self.fathername)\n",
    "        \n",
    "class child(Father):\n",
    "    \n",
    "    def daughter(self):\n",
    "        print(self.fathername)\n",
    "        print(self.gfathername)\n",
    "\n",
    "    \n",
    "ml = child()\n",
    "ml.gfathername = \"base\"\n",
    "ml.fathername = \"intermediate\"\n",
    "ml.daughter()"
   ]
  },
  {
   "cell_type": "code",
   "execution_count": 2,
   "metadata": {},
   "outputs": [
    {
     "name": "stdout",
     "output_type": "stream",
     "text": [
      "this is a parent class\n",
      "this is a child2 class\n",
      "this is a parent class\n",
      "this is a child1 class\n"
     ]
    }
   ],
   "source": [
    "# hirearchical inheritance - one or more classes are derived from a single parent class\n",
    "class Parent:\n",
    "    def fun1(self):\n",
    "        print(\"this is a parent class\")\n",
    "      \n",
    "    \n",
    "class child1(Parent):\n",
    "    def fun2(self):\n",
    "        print(\"this is a child1 class\")\n",
    "     \n",
    "    \n",
    "class child2(Parent):\n",
    "    def fun3(self):\n",
    "        print(\"this is a child2 class\")\n",
    "        \n",
    "        \n",
    "h = child2()\n",
    "h.fun1()\n",
    "h.fun3()\n",
    "h1 = child1()\n",
    "h1.fun1()\n",
    "h1.fun2()\n",
    "     "
   ]
  },
  {
   "cell_type": "code",
   "execution_count": null,
   "metadata": {},
   "outputs": [],
   "source": []
  }
 ],
 "metadata": {
  "kernelspec": {
   "display_name": "Python 3",
   "language": "python",
   "name": "python3"
  },
  "language_info": {
   "codemirror_mode": {
    "name": "ipython",
    "version": 3
   },
   "file_extension": ".py",
   "mimetype": "text/x-python",
   "name": "python",
   "nbconvert_exporter": "python",
   "pygments_lexer": "ipython3",
   "version": "3.7.1"
  }
 },
 "nbformat": 4,
 "nbformat_minor": 2
}
